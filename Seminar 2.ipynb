{
 "cells": [
  {
   "cell_type": "markdown",
   "metadata": {},
   "source": [
    "# Wireless localization with diffusion maps"
   ]
  },
  {
   "cell_type": "markdown",
   "metadata": {},
   "source": [
    "Na pocetku cemo pozvati korisne pakete i definirati neke funkcije koje cemo koristit u ostatku"
   ]
  },
  {
   "cell_type": "code",
   "execution_count": 1,
   "metadata": {},
   "outputs": [],
   "source": [
    "import numpy as np\n",
    "from numpy.random import seed\n",
    "from numpy.random import shuffle\n",
    "import matplotlib.pyplot as plt\n",
    "import scipy\n",
    "import scipy.stats\n",
    "import random\n",
    "from munkres import Munkres\n",
    "from munkres import Munkres, print_matrix"
   ]
  },
  {
   "cell_type": "markdown",
   "metadata": {},
   "source": [
    "Funkcija koja računa običnu euklidsku udaljenost u vektorskom prostoru proizvoljne dimenzije"
   ]
  },
  {
   "cell_type": "code",
   "execution_count": 2,
   "metadata": {},
   "outputs": [],
   "source": [
    "def euclidean_distance(pointA, pointB):\n",
    "    n = len(pointA)\n",
    "    res = 0\n",
    "    for i in range(0, n):\n",
    "        res = res + (pointA[i] - pointB[i]) ** 2\n",
    "    res = res ** 0.5\n",
    "    return res"
   ]
  },
  {
   "cell_type": "markdown",
   "metadata": {},
   "source": [
    "Funkcija koja računa matricu udaljenosti D', tj. udaljenost između danih pozicija, kao argument prima numpy array sa koordinatama pozicija, a vraća matricu dimenzija (M, M) međusobnih udaljenosti"
   ]
  },
  {
   "cell_type": "code",
   "execution_count": 3,
   "metadata": {},
   "outputs": [],
   "source": [
    "def position_distance(pozicije):\n",
    "    M = np.shape(pozicije)[0]\n",
    "\n",
    "    D_positions = np.zeros([M, M])\n",
    "    for i in range(0, M):\n",
    "        for j in range(0, M):\n",
    "            D_positions[i, j] = euclidean_distance(pozicije[i], pozicije[j])\n",
    "    return D_positions"
   ]
  },
  {
   "cell_type": "markdown",
   "metadata": {},
   "source": [
    "Funkcija koja prima broj senzora M, te vraća matricu senzora dimenzije (M, 2) sa slučajno pridruženim pozicijama koje su zapisane u drugom stupcu, dok je u prvom stupcu ID senzora"
   ]
  },
  {
   "cell_type": "code",
   "execution_count": 4,
   "metadata": {},
   "outputs": [],
   "source": [
    "def get_sensor(M):\n",
    "    # na slucajan nacin cemo izmijesati niz elemenata od 1 do M\n",
    "    sequence = [i for i in range(1, M + 1)]\n",
    "    shuffle(sequence)\n",
    "\n",
    "    senzori = np.zeros([M, 2])\n",
    "    for i in range(0, M):\n",
    "        senzori[i, 0] = i + 1\n",
    "        senzori[i, 1] = sequence[i]\n",
    "    return senzori"
   ]
  },
  {
   "cell_type": "markdown",
   "metadata": {},
   "source": [
    "Funkcija koja računa čisti, noiseless RSSI pomocu matrica 'D_positions' i 'senzori', za racunanje čistog RSSI-a cemo koristiti inverse square law propagation model\n",
    "\n",
    "Ciste RSSI vrijednosti cemo pohraniti u 'RSSI_noiseless' matricu koja ce biti dimenzija (M, M)"
   ]
  },
  {
   "cell_type": "code",
   "execution_count": 5,
   "metadata": {},
   "outputs": [],
   "source": [
    "def get_RSSI_noiseless_square(D_positions, senzori):\n",
    "    M = np.shape(senzori)[0]\n",
    "    RSSI_noiseless = np.zeros([M, M])\n",
    "\n",
    "    for i in range(0, M):\n",
    "        for j in range(0, M):\n",
    "            RSSI_noiseless[i, j] = 1/(D_positions[int(senzori[i, 1]) - 1, int(senzori[j, 1]) - 1] ** 2 + 0.1)\n",
    "    return RSSI_noiseless"
   ]
  },
  {
   "cell_type": "markdown",
   "metadata": {},
   "source": [
    "Gaussian kernel"
   ]
  },
  {
   "cell_type": "code",
   "execution_count": 6,
   "metadata": {},
   "outputs": [],
   "source": [
    "def gaussian_kernel(d, sigma):\n",
    "    return np.exp(-d**2 / sigma)"
   ]
  },
  {
   "cell_type": "markdown",
   "metadata": {},
   "source": [
    "Funkcija koja racuna matricu slicnosti C"
   ]
  },
  {
   "cell_type": "code",
   "execution_count": 7,
   "metadata": {},
   "outputs": [],
   "source": [
    "def get_C(D):\n",
    "    C = np.zeros(np.shape(D))\n",
    "    M = np.shape(D)[0]\n",
    "\n",
    "    sigma = 1/(M**2) * np.sum(np.power(D, 2))\n",
    "    for i in range(0, M):\n",
    "        for j in range(0, M):\n",
    "            if(i == j):\n",
    "                C[i, j] = 0\n",
    "            else:\n",
    "                C[i, j] = gaussian_kernel(D[i, j], sigma)\n",
    "    return C"
   ]
  },
  {
   "cell_type": "markdown",
   "metadata": {},
   "source": [
    "Funkcija koja racuna Laplacian matricu L"
   ]
  },
  {
   "cell_type": "code",
   "execution_count": 8,
   "metadata": {},
   "outputs": [],
   "source": [
    "def get_L(C):\n",
    "    L = np.zeros(np.shape(C))\n",
    "    M = np.shape(C)[0]\n",
    "    \n",
    "    for i in range(0, M):\n",
    "        for j in range(0, M):\n",
    "            if(i == j):\n",
    "                L[i, j] = 1\n",
    "            else:\n",
    "                L[i, j] = -C[i, j] / np.sum(C[i, :])\n",
    "    return L"
   ]
  },
  {
   "cell_type": "markdown",
   "metadata": {},
   "source": [
    "Funkcija koja računa svojstvenu dekompoziciju od Laplacian matrice te vraća k svojstvenih vektora spremljenih kao stupce matrice keigvec dimenzija (M, k) koji odgovaraju k najmanjih pozitivnih svojstvenih vrijednosti"
   ]
  },
  {
   "cell_type": "code",
   "execution_count": 9,
   "metadata": {},
   "outputs": [],
   "source": [
    "def get_keigvec(L, k):\n",
    "    w, v = np.linalg.eig(L)\n",
    "    w = np.asarray(w)\n",
    "    v = np.asarray(v)\n",
    "    \n",
    "    idx = np.argsort(w)\n",
    "    keigvec = v[:,idx[1:k+1]]\n",
    "    return keigvec"
   ]
  },
  {
   "cell_type": "code",
   "execution_count": 10,
   "metadata": {},
   "outputs": [],
   "source": [
    "def get_cost(N, P):\n",
    "    cost = np.zeros([M, M])\n",
    "    for i in range(0, M):\n",
    "        for j in range(0, M):\n",
    "            cost[i, j] = euclidean_distance(N[i, :], P[j, :])\n",
    "    return cost"
   ]
  },
  {
   "cell_type": "markdown",
   "metadata": {},
   "source": [
    "Mađarski algoritam"
   ]
  },
  {
   "cell_type": "code",
   "execution_count": 106,
   "metadata": {},
   "outputs": [],
   "source": [
    "def hungarian_alg(cost):\n",
    "    m = Munkres()\n",
    "    indexes = m.compute(cost)\n",
    "    #print_matrix(cost, msg='Lowest cost through this matrix:')\n",
    "    total = 0\n",
    "    for row, column in indexes:\n",
    "        value = cost[row][column]\n",
    "        total += value\n",
    "        print(f'({row+1}, {column+1}) -> {value}')\n",
    "    print(f'total cost: {total}')\n",
    "    \n",
    "    return np.asarray(indexes)"
   ]
  },
  {
   "cell_type": "markdown",
   "metadata": {},
   "source": [
    "Funkcija koja vraća preciznost, tj postotak dobro pridruzenih pozicija"
   ]
  },
  {
   "cell_type": "code",
   "execution_count": 12,
   "metadata": {},
   "outputs": [],
   "source": [
    "def get_accuracy(a, b):\n",
    "    n = len(a)\n",
    "    count = 0\n",
    "    for i in range(0, n):\n",
    "        if(a[i] == b[i]):\n",
    "            count = count + 1\n",
    "        \n",
    "    return count/n"
   ]
  },
  {
   "cell_type": "code",
   "execution_count": 13,
   "metadata": {},
   "outputs": [],
   "source": [
    "# kod koristenja ove fje iskljucit print u hungarian_alg !\n",
    "# ovdje uzimamo da je k = 2, dakle 4 kombinacije\n",
    "def get_best_accuracy(N, P, senzori):\n",
    "    M = np.shape(N)[0]\n",
    "    \n",
    "    #k = np.shape(N)[1]\n",
    "    ## moramo ispitati k kombinacija\n",
    "    \n",
    "    #acc_list = np.zeros([1, np.power(2, k)])\n",
    "    \n",
    "    #for i in range(1, k+1):\n",
    "    #for i in range(1, np.power(2, k) + 1):\n",
    "        #a = N\n",
    "        #for j in range(1, i+1):\n",
    "            #a[:, j-1] = -a[:, j-1]\n",
    "    #cost = get_cost(a, P)\n",
    "    #indexes = hungarian_alg(cost)\n",
    "    #acc_list[i] = get_accuracy(senzori[:, 1], (indexes+np.ones([M,2]))[:, 1])\n",
    "        \n",
    "        \n",
    "        \n",
    "    acc_list = np.zeros([4, 1])    \n",
    "    # 1. slucaj\n",
    "    cost = get_cost(N, P)\n",
    "    indexes = hungarian_alg(cost)\n",
    "    acc_list[0] = get_accuracy(senzori[:, 1], (indexes+np.ones([M,2]))[:, 1])\n",
    "    # 2. slucaj\n",
    "    N[:,0] = -N[:,0]\n",
    "    cost = get_cost(N, P)\n",
    "    indexes = hungarian_alg(cost)\n",
    "    acc_list[1] = get_accuracy(senzori[:, 1], (indexes+np.ones([M,2]))[:, 1])\n",
    "    # 3. slucaj\n",
    "    N[:,0] = -N[:,0] # da vratimo zbog 1. slucaja\n",
    "    N[:,1] = -N[:,1]\n",
    "    cost = get_cost(N, P)\n",
    "    indexes = hungarian_alg(cost)\n",
    "    acc_list[2] = get_accuracy(senzori[:, 1], (indexes+np.ones([M,2]))[:, 1])\n",
    "    # 4. slucaj\n",
    "    N[:,0] = -N[:,0]\n",
    "    cost = get_cost(N, P)\n",
    "    indexes = hungarian_alg(cost)\n",
    "    acc_list[3] = get_accuracy(senzori[:, 1], (indexes+np.ones([M,2]))[:, 1])\n",
    "    \n",
    "    return np.max(acc_list)"
   ]
  },
  {
   "cell_type": "markdown",
   "metadata": {},
   "source": [
    "Funkcija koja računa mean i pouzdane intervale"
   ]
  },
  {
   "cell_type": "code",
   "execution_count": 14,
   "metadata": {},
   "outputs": [],
   "source": [
    "def mean_confidence_interval(data, confidence=0.95):\n",
    "    a = 1.0 * np.array(data)\n",
    "    n = len(a)\n",
    "    m, se = np.mean(a), scipy.stats.sem(a)\n",
    "    h = se * scipy.stats.t.ppf((1 + confidence) / 2., n-1)\n",
    "    return m, m-h, m+h"
   ]
  },
  {
   "cell_type": "markdown",
   "metadata": {},
   "source": [
    "## Test / bez noise-a"
   ]
  },
  {
   "cell_type": "markdown",
   "metadata": {},
   "source": [
    " Prvo cemo definirati poznate pozicije"
   ]
  },
  {
   "cell_type": "code",
   "execution_count": 107,
   "metadata": {},
   "outputs": [
    {
     "name": "stdout",
     "output_type": "stream",
     "text": [
      "[[ 1  1]\n",
      " [ 1  2]\n",
      " [ 1  3]\n",
      " [ 1  4]\n",
      " [ 1  5]\n",
      " [ 1  6]\n",
      " [ 1  7]\n",
      " [ 1  8]\n",
      " [ 2  1]\n",
      " [ 2  2]\n",
      " [ 2  3]\n",
      " [ 2  4]\n",
      " [ 2  5]\n",
      " [ 2  6]\n",
      " [ 2  7]\n",
      " [ 2  8]\n",
      " [ 3  1]\n",
      " [ 3  2]\n",
      " [ 3  3]\n",
      " [ 3  4]\n",
      " [ 3  5]\n",
      " [ 3  6]\n",
      " [ 3  7]\n",
      " [ 3  8]\n",
      " [ 4  1]\n",
      " [ 4  2]\n",
      " [ 4  3]\n",
      " [ 4  4]\n",
      " [ 4  5]\n",
      " [ 4  6]\n",
      " [ 4  7]\n",
      " [ 4  8]\n",
      " [ 5  1]\n",
      " [ 5  2]\n",
      " [ 5  3]\n",
      " [ 5  4]\n",
      " [ 5  5]\n",
      " [ 5  6]\n",
      " [ 5  7]\n",
      " [ 5  8]\n",
      " [ 6  1]\n",
      " [ 6  2]\n",
      " [ 6  3]\n",
      " [ 6  4]\n",
      " [ 6  5]\n",
      " [ 6  6]\n",
      " [ 6  7]\n",
      " [ 6  8]\n",
      " [ 7  1]\n",
      " [ 7  2]\n",
      " [ 7  3]\n",
      " [ 7  4]\n",
      " [ 7  5]\n",
      " [ 7  6]\n",
      " [ 7  7]\n",
      " [ 7  8]\n",
      " [ 8  1]\n",
      " [ 8  2]\n",
      " [ 8  3]\n",
      " [ 8  4]\n",
      " [ 8  5]\n",
      " [ 8  6]\n",
      " [ 8  7]\n",
      " [ 8  8]\n",
      " [ 9  1]\n",
      " [ 9  2]\n",
      " [ 9  3]\n",
      " [ 9  4]\n",
      " [ 9  5]\n",
      " [ 9  6]\n",
      " [ 9  7]\n",
      " [ 9  8]\n",
      " [10  1]\n",
      " [10  2]\n",
      " [10  3]\n",
      " [10  4]\n",
      " [10  5]\n",
      " [10  6]\n",
      " [10  7]\n",
      " [10  8]]\n",
      "(80, 2)\n",
      "<class 'numpy.ndarray'>\n"
     ]
    }
   ],
   "source": [
    "x = 10\n",
    "y = 8\n",
    "pozicije = []\n",
    "for i in range(0, x):\n",
    "    for j in range(0, y):\n",
    "        pozicije.append([i+1, j+1])\n",
    "pozicije = np.asarray(pozicije)\n",
    "print(pozicije)\n",
    "print(np.shape(pozicije))\n",
    "print(type(pozicije))"
   ]
  },
  {
   "cell_type": "markdown",
   "metadata": {},
   "source": [
    "Vizualni prikaz"
   ]
  },
  {
   "cell_type": "code",
   "execution_count": 108,
   "metadata": {},
   "outputs": [
    {
     "data": {
      "image/png": "[encoded data removed]",
      "text/plain": [
       "<Figure size 432x288 with 1 Axes>"
      ]
     },
     "metadata": {
      "needs_background": "light"
     },
     "output_type": "display_data"
    }
   ],
   "source": [
    "plt.plot(pozicije[:, 0], pozicije[:, 1], 'ro')\n",
    "plt.title(\"Apriori zadane pozicije\")\n",
    "plt.ylabel('y')\n",
    "plt.xlabel('x')\n",
    "plt.grid()\n",
    "plt.show()"
   ]
  },
  {
   "cell_type": "markdown",
   "metadata": {},
   "source": [
    "Dakle, ovdje je M = 80"
   ]
  },
  {
   "cell_type": "code",
   "execution_count": 109,
   "metadata": {},
   "outputs": [
    {
     "data": {
      "text/plain": [
       "array([ 0.        ,  1.        ,  2.        ,  3.        ,  4.        ,\n",
       "        5.        ,  6.        ,  7.        ,  1.        ,  1.41421356,\n",
       "        2.23606798,  3.16227766,  4.12310563,  5.09901951,  6.08276253,\n",
       "        7.07106781,  2.        ,  2.23606798,  2.82842712,  3.60555128,\n",
       "        4.47213595,  5.38516481,  6.32455532,  7.28010989,  3.        ,\n",
       "        3.16227766,  3.60555128,  4.24264069,  5.        ,  5.83095189,\n",
       "        6.70820393,  7.61577311,  4.        ,  4.12310563,  4.47213595,\n",
       "        5.        ,  5.65685425,  6.40312424,  7.21110255,  8.06225775,\n",
       "        5.        ,  5.09901951,  5.38516481,  5.83095189,  6.40312424,\n",
       "        7.07106781,  7.81024968,  8.60232527,  6.        ,  6.08276253,\n",
       "        6.32455532,  6.70820393,  7.21110255,  7.81024968,  8.48528137,\n",
       "        9.21954446,  7.        ,  7.07106781,  7.28010989,  7.61577311,\n",
       "        8.06225775,  8.60232527,  9.21954446,  9.89949494,  8.        ,\n",
       "        8.06225775,  8.24621125,  8.54400375,  8.94427191,  9.43398113,\n",
       "       10.        , 10.63014581,  9.        ,  9.05538514,  9.21954446,\n",
       "        9.48683298,  9.8488578 , 10.29563014, 10.81665383, 11.40175425])"
      ]
     },
     "execution_count": 109,
     "metadata": {},
     "output_type": "execute_result"
    }
   ],
   "source": [
    "M = np.shape(pozicije)[0]\n",
    "\n",
    "D_positions = position_distance(pozicije)\n",
    "D_positions[0, :]"
   ]
  },
  {
   "cell_type": "code",
   "execution_count": 110,
   "metadata": {},
   "outputs": [
    {
     "name": "stdout",
     "output_type": "stream",
     "text": [
      "[[ 1. 74.]\n",
      " [ 2. 79.]\n",
      " [ 3. 41.]\n",
      " [ 4. 80.]\n",
      " [ 5. 32.]\n",
      " [ 6. 39.]\n",
      " [ 7.  1.]\n",
      " [ 8. 10.]\n",
      " [ 9. 71.]\n",
      " [10. 59.]\n",
      " [11. 37.]\n",
      " [12. 38.]\n",
      " [13. 58.]\n",
      " [14. 11.]\n",
      " [15. 57.]\n",
      " [16. 22.]\n",
      " [17. 75.]\n",
      " [18. 67.]\n",
      " [19. 70.]\n",
      " [20. 33.]\n",
      " [21. 69.]\n",
      " [22. 55.]\n",
      " [23. 23.]\n",
      " [24. 35.]\n",
      " [25.  2.]\n",
      " [26. 40.]\n",
      " [27. 44.]\n",
      " [28. 24.]\n",
      " [29. 30.]\n",
      " [30. 12.]\n",
      " [31. 68.]\n",
      " [32. 45.]\n",
      " [33. 52.]\n",
      " [34. 76.]\n",
      " [35. 26.]\n",
      " [36. 14.]\n",
      " [37. 72.]\n",
      " [38. 13.]\n",
      " [39. 31.]\n",
      " [40. 51.]\n",
      " [41. 54.]\n",
      " [42. 36.]\n",
      " [43. 46.]\n",
      " [44.  3.]\n",
      " [45. 77.]\n",
      " [46.  7.]\n",
      " [47. 43.]\n",
      " [48. 62.]\n",
      " [49. 65.]\n",
      " [50. 42.]\n",
      " [51. 17.]\n",
      " [52. 21.]\n",
      " [53. 61.]\n",
      " [54. 47.]\n",
      " [55.  4.]\n",
      " [56. 53.]\n",
      " [57.  9.]\n",
      " [58. 18.]\n",
      " [59. 66.]\n",
      " [60.  6.]\n",
      " [61. 29.]\n",
      " [62. 16.]\n",
      " [63. 27.]\n",
      " [64. 28.]\n",
      " [65. 34.]\n",
      " [66.  5.]\n",
      " [67. 15.]\n",
      " [68. 63.]\n",
      " [69. 19.]\n",
      " [70. 78.]\n",
      " [71. 73.]\n",
      " [72. 50.]\n",
      " [73. 56.]\n",
      " [74. 48.]\n",
      " [75. 20.]\n",
      " [76. 60.]\n",
      " [77. 64.]\n",
      " [78.  8.]\n",
      " [79. 25.]\n",
      " [80. 49.]]\n"
     ]
    }
   ],
   "source": [
    "senzori = get_sensor(M)\n",
    "print(senzori)"
   ]
  },
  {
   "cell_type": "markdown",
   "metadata": {},
   "source": [
    "Sada mozemo izracunati cisti, noiseless RSSI pomocu inverse square law propagation modela"
   ]
  },
  {
   "cell_type": "code",
   "execution_count": 111,
   "metadata": {},
   "outputs": [
    {
     "data": {
      "text/plain": [
       "array([1.00000000e+01, 3.98406375e-02, 5.84795322e-02, 2.77008310e-02,\n",
       "       1.38696255e-02, 1.99600798e-02, 1.21802680e-02, 1.56006240e-02,\n",
       "       3.83141762e-02, 1.96078431e-01, 2.93255132e-02, 2.43309002e-02,\n",
       "       2.43902439e-01, 1.53609831e-02, 1.96078431e-01, 1.53609831e-02,\n",
       "       9.09090909e-01, 4.76190476e-01, 5.84795322e-02, 3.83141762e-02,\n",
       "       9.90099010e-02, 2.93255132e-02, 1.34952767e-02, 3.83141762e-02,\n",
       "       1.23304562e-02, 1.63666121e-02, 4.97512438e-02, 1.17508813e-02,\n",
       "       1.91938580e-02, 1.46842878e-02, 1.96078431e-01, 3.98406375e-02,\n",
       "       7.63358779e-02, 2.43902439e-01, 2.77008310e-02, 1.24843945e-02,\n",
       "       2.69541779e-02, 1.36798906e-02, 1.63666121e-02, 9.90099010e-02,\n",
       "       3.98406375e-02, 3.43642612e-02, 3.11526480e-02, 1.21802680e-02,\n",
       "       1.09890110e-01, 9.42507069e-03, 5.84795322e-02, 4.97512438e-02,\n",
       "       4.76190476e-01, 6.21118012e-02, 1.99600798e-02, 1.72117040e-02,\n",
       "       7.63358779e-02, 2.43309002e-02, 1.17508813e-02, 5.52486188e-02,\n",
       "       1.53609831e-02, 2.03665988e-02, 9.09090909e-01, 1.02986612e-02,\n",
       "       2.21729490e-02, 9.99000999e-03, 2.69541779e-02, 2.49376559e-02,\n",
       "       3.98406375e-02, 1.10987791e-02, 1.12233446e-02, 3.43642612e-02,\n",
       "       1.99600798e-02, 6.21118012e-02, 9.09090909e-01, 1.09890110e-01,\n",
       "       2.21729490e-02, 1.91938580e-02, 1.88323917e-02, 1.23456790e-01,\n",
       "       2.49376559e-02, 8.53970965e-03, 2.69541779e-02, 9.90099010e-02])"
      ]
     },
     "execution_count": 111,
     "metadata": {},
     "output_type": "execute_result"
    }
   ],
   "source": [
    "RSSI_noiseless = get_RSSI_noiseless_square(D_positions, senzori)\n",
    "RSSI_noiseless[0, :]"
   ]
  },
  {
   "cell_type": "markdown",
   "metadata": {},
   "source": [
    "Sada kada imamo noiseless RSSI, mozemo dodati sum, to cemo pospremiti u matricu 'RSSI'"
   ]
  },
  {
   "cell_type": "code",
   "execution_count": 112,
   "metadata": {},
   "outputs": [
    {
     "data": {
      "image/png": "[encoded data removed]",
      "text/plain": [
       "<Figure size 432x288 with 1 Axes>"
      ]
     },
     "metadata": {
      "needs_background": "light"
     },
     "output_type": "display_data"
    }
   ],
   "source": [
    "#\n",
    "stdev = 0.001\n",
    "noise = np.random.normal(0, stdev, [M ,M])\n",
    "\n",
    "RSSI = RSSI_noiseless # + noise\n",
    "\n",
    "# mogu plotat da vidim\n",
    "plt.plot(RSSI_noiseless[0, :])\n",
    "plt.plot(RSSI[0, :])\n",
    "plt.title(\"Noiseless RSSI i RSSI sa šumom\")\n",
    "plt.show()"
   ]
  },
  {
   "cell_type": "markdown",
   "metadata": {},
   "source": [
    "Sada cemo izracunati matricu slicnosti C'"
   ]
  },
  {
   "cell_type": "code",
   "execution_count": 113,
   "metadata": {},
   "outputs": [
    {
     "data": {
      "text/plain": [
       "array([[0.        , 0.96364044, 0.86230336, ..., 0.01972387, 0.01312373,\n",
       "        0.00810872],\n",
       "       [0.96364044, 0.        , 0.96364044, ..., 0.02752687, 0.01972387,\n",
       "        0.01312373],\n",
       "       [0.86230336, 0.96364044, 0.        , ..., 0.03567399, 0.02752687,\n",
       "        0.01972387],\n",
       "       ...,\n",
       "       [0.01972387, 0.02752687, 0.03567399, ..., 0.        , 0.96364044,\n",
       "        0.86230336],\n",
       "       [0.01312373, 0.01972387, 0.02752687, ..., 0.96364044, 0.        ,\n",
       "        0.96364044],\n",
       "       [0.00810872, 0.01312373, 0.01972387, ..., 0.86230336, 0.96364044,\n",
       "        0.        ]])"
      ]
     },
     "execution_count": 113,
     "metadata": {},
     "output_type": "execute_result"
    }
   ],
   "source": [
    "C_positions = get_C(D_positions)\n",
    "C_positions"
   ]
  },
  {
   "cell_type": "markdown",
   "metadata": {},
   "source": [
    "Sada imamo matricu slicnosti C', te sada pomocu nje racunamo L'"
   ]
  },
  {
   "cell_type": "code",
   "execution_count": 114,
   "metadata": {},
   "outputs": [
    {
     "data": {
      "text/plain": [
       "array([[ 1.00000000e+00, -4.03346831e-02, -3.60930603e-02, ...,\n",
       "        -8.25573348e-04, -5.49314262e-04, -3.39403350e-04],\n",
       "       [-3.44846928e-02,  1.00000000e+00, -3.44846928e-02, ...,\n",
       "        -9.85072520e-04, -7.05835304e-04, -4.69643794e-04],\n",
       "       [-2.78394111e-02, -3.11110728e-02,  1.00000000e+00, ...,\n",
       "        -1.15173269e-03, -8.88703375e-04, -6.36783794e-04],\n",
       "       ...,\n",
       "       [-6.36783794e-04, -8.88703375e-04, -1.15173269e-03, ...,\n",
       "         1.00000000e+00, -3.11110728e-02, -2.78394111e-02],\n",
       "       [-4.69643794e-04, -7.05835304e-04, -9.85072520e-04, ...,\n",
       "        -3.44846928e-02,  1.00000000e+00, -3.44846928e-02],\n",
       "       [-3.39403350e-04, -5.49314262e-04, -8.25573348e-04, ...,\n",
       "        -3.60930603e-02, -4.03346831e-02,  1.00000000e+00]])"
      ]
     },
     "execution_count": 114,
     "metadata": {},
     "output_type": "execute_result"
    }
   ],
   "source": [
    "L_positions = get_L(C_positions)\n",
    "L_positions"
   ]
  },
  {
   "cell_type": "markdown",
   "metadata": {},
   "source": [
    "Sada treba izracunati i pronaci najmanje pozitivne svojstvene vektore matrice L' i stvoriti matricu P"
   ]
  },
  {
   "cell_type": "code",
   "execution_count": 115,
   "metadata": {},
   "outputs": [
    {
     "data": {
      "text/plain": [
       "array([[-0.16786436, -0.16448958],\n",
       "       [-0.16911277, -0.12192146],\n",
       "       [-0.16985378, -0.0749596 ],\n",
       "       [-0.17019949, -0.02529215],\n",
       "       [-0.17019949,  0.02529215],\n",
       "       [-0.16985378,  0.0749596 ],\n",
       "       [-0.16911277,  0.12192146],\n",
       "       [-0.16786436,  0.16448958],\n",
       "       [-0.13693481, -0.16683413],\n",
       "       [-0.13780878, -0.12344818],\n",
       "       [-0.13832735, -0.07582147],\n",
       "       [-0.13856929, -0.0255709 ],\n",
       "       [-0.13856929,  0.0255709 ],\n",
       "       [-0.13832735,  0.07582147],\n",
       "       [-0.13780878,  0.12344818],\n",
       "       [-0.13693481,  0.16683413],\n",
       "       [-0.10149536, -0.16838325],\n",
       "       [-0.10207478, -0.12445736],\n",
       "       [-0.1024186 , -0.07639157],\n",
       "       [-0.10257903, -0.02575537],\n",
       "       [-0.10257903,  0.02575537],\n",
       "       [-0.1024186 ,  0.07639157],\n",
       "       [-0.10207478,  0.12445736],\n",
       "       [-0.10149536,  0.16838325],\n",
       "       [-0.06246491, -0.16932902],\n",
       "       [-0.06279653, -0.12507416],\n",
       "       [-0.06299333, -0.07674037],\n",
       "       [-0.06308518, -0.0258683 ],\n",
       "       [-0.06308518,  0.0258683 ],\n",
       "       [-0.06299333,  0.07674037],\n",
       "       [-0.06279653,  0.12507416],\n",
       "       [-0.06246491,  0.16932902],\n",
       "       [-0.02109357, -0.16977823],\n",
       "       [-0.02120162, -0.12536741],\n",
       "       [-0.02126575, -0.07690635],\n",
       "       [-0.02129569, -0.02592207],\n",
       "       [-0.02129569,  0.02592207],\n",
       "       [-0.02126575,  0.07690635],\n",
       "       [-0.02120162,  0.12536741],\n",
       "       [-0.02109357,  0.16977823],\n",
       "       [ 0.02109357, -0.16977823],\n",
       "       [ 0.02120162, -0.12536741],\n",
       "       [ 0.02126575, -0.07690635],\n",
       "       [ 0.02129569, -0.02592207],\n",
       "       [ 0.02129569,  0.02592207],\n",
       "       [ 0.02126575,  0.07690635],\n",
       "       [ 0.02120162,  0.12536741],\n",
       "       [ 0.02109357,  0.16977823],\n",
       "       [ 0.06246491, -0.16932902],\n",
       "       [ 0.06279653, -0.12507416],\n",
       "       [ 0.06299333, -0.07674037],\n",
       "       [ 0.06308518, -0.0258683 ],\n",
       "       [ 0.06308518,  0.0258683 ],\n",
       "       [ 0.06299333,  0.07674037],\n",
       "       [ 0.06279653,  0.12507416],\n",
       "       [ 0.06246491,  0.16932902],\n",
       "       [ 0.10149536, -0.16838325],\n",
       "       [ 0.10207478, -0.12445736],\n",
       "       [ 0.1024186 , -0.07639157],\n",
       "       [ 0.10257903, -0.02575537],\n",
       "       [ 0.10257903,  0.02575537],\n",
       "       [ 0.1024186 ,  0.07639157],\n",
       "       [ 0.10207478,  0.12445736],\n",
       "       [ 0.10149536,  0.16838325],\n",
       "       [ 0.13693481, -0.16683413],\n",
       "       [ 0.13780878, -0.12344818],\n",
       "       [ 0.13832735, -0.07582147],\n",
       "       [ 0.13856929, -0.0255709 ],\n",
       "       [ 0.13856929,  0.0255709 ],\n",
       "       [ 0.13832735,  0.07582147],\n",
       "       [ 0.13780878,  0.12344818],\n",
       "       [ 0.13693481,  0.16683413],\n",
       "       [ 0.16786436, -0.16448958],\n",
       "       [ 0.16911277, -0.12192146],\n",
       "       [ 0.16985378, -0.0749596 ],\n",
       "       [ 0.17019949, -0.02529215],\n",
       "       [ 0.17019949,  0.02529215],\n",
       "       [ 0.16985378,  0.0749596 ],\n",
       "       [ 0.16911277,  0.12192146],\n",
       "       [ 0.16786436,  0.16448958]])"
      ]
     },
     "execution_count": 115,
     "metadata": {},
     "output_type": "execute_result"
    }
   ],
   "source": [
    "k = 2\n",
    "P = get_keigvec(L_positions, k)\n",
    "P"
   ]
  },
  {
   "cell_type": "markdown",
   "metadata": {},
   "source": [
    "Sada pomocu matrice RSSI i propagation modela racunamo matricu node_distance D"
   ]
  },
  {
   "cell_type": "code",
   "execution_count": 116,
   "metadata": {},
   "outputs": [],
   "source": [
    "D = np.zeros([M,M])\n",
    "\n",
    "for i in range(0, M):\n",
    "    for j in range(0, M):\n",
    "        D[i, j] = np.sqrt((1 - RSSI[i, j]/10) / RSSI[i, j])"
   ]
  },
  {
   "cell_type": "markdown",
   "metadata": {},
   "source": [
    "Sada nalazimo C, L i N od nodeova"
   ]
  },
  {
   "cell_type": "code",
   "execution_count": 117,
   "metadata": {},
   "outputs": [],
   "source": [
    "C = get_C(D)\n",
    "L = get_L(C)\n",
    "N = get_keigvec(L, k)"
   ]
  },
  {
   "cell_type": "markdown",
   "metadata": {},
   "source": [
    "Sada imamo za izmijeniti 2**k puta predznake u matrici N i sa svakom izracunati sa mađarskim algoritmom parove i cost"
   ]
  },
  {
   "cell_type": "markdown",
   "metadata": {},
   "source": [
    "Da bismo koristili mađarski algoritam trebamo kreirati cost matricu dimenzija (M,M) tj. to je matrica ciji je [i,j] element jednak euklidskoj udaljenosti izemđu i-tog nodea i j-te pozicije u difuzijskim koordinatama"
   ]
  },
  {
   "cell_type": "code",
   "execution_count": 118,
   "metadata": {},
   "outputs": [],
   "source": [
    "cost = get_cost(N, P)"
   ]
  },
  {
   "cell_type": "code",
   "execution_count": 119,
   "metadata": {},
   "outputs": [
    {
     "name": "stdout",
     "output_type": "stream",
     "text": [
      "(1, 7) -> 0.0\n",
      "(2, 2) -> 0.0\n",
      "(3, 40) -> 0.0\n",
      "(4, 1) -> 0.0\n",
      "(5, 49) -> 0.0\n",
      "(6, 42) -> 0.0\n",
      "(7, 80) -> 0.0\n",
      "(8, 71) -> 0.0\n",
      "(9, 10) -> 0.0\n",
      "(10, 22) -> 0.0\n",
      "(11, 44) -> 0.0\n",
      "(12, 43) -> 0.0\n",
      "(13, 23) -> 0.0\n",
      "(14, 70) -> 0.0\n",
      "(15, 24) -> 0.0\n",
      "(16, 59) -> 0.0\n",
      "(17, 6) -> 0.0\n",
      "(18, 14) -> 0.0\n",
      "(19, 11) -> 0.0\n",
      "(20, 48) -> 0.0\n",
      "(21, 12) -> 0.0\n",
      "(22, 26) -> 0.0\n",
      "(23, 58) -> 0.0\n",
      "(24, 46) -> 0.0\n",
      "(25, 79) -> 0.0\n",
      "(26, 41) -> 0.0\n",
      "(27, 37) -> 0.0\n",
      "(28, 57) -> 0.0\n",
      "(29, 51) -> 0.0\n",
      "(30, 69) -> 0.0\n",
      "(31, 13) -> 0.0\n",
      "(32, 36) -> 0.0\n",
      "(33, 29) -> 0.0\n",
      "(34, 5) -> 0.0\n",
      "(35, 55) -> 0.0\n",
      "(36, 67) -> 0.0\n",
      "(37, 9) -> 0.0\n",
      "(38, 68) -> 0.0\n",
      "(39, 50) -> 0.0\n",
      "(40, 30) -> 0.0\n",
      "(41, 27) -> 0.0\n",
      "(42, 45) -> 0.0\n",
      "(43, 35) -> 0.0\n",
      "(44, 78) -> 0.0\n",
      "(45, 4) -> 0.0\n",
      "(46, 74) -> 0.0\n",
      "(47, 38) -> 0.0\n",
      "(48, 19) -> 0.0\n",
      "(49, 16) -> 0.0\n",
      "(50, 39) -> 0.0\n",
      "(51, 64) -> 0.0\n",
      "(52, 60) -> 0.0\n",
      "(53, 20) -> 0.0\n",
      "(54, 34) -> 0.0\n",
      "(55, 77) -> 0.0\n",
      "(56, 28) -> 0.0\n",
      "(57, 72) -> 0.0\n",
      "(58, 63) -> 0.0\n",
      "(59, 15) -> 0.0\n",
      "(60, 75) -> 0.0\n",
      "(61, 52) -> 0.0\n",
      "(62, 65) -> 0.0\n",
      "(63, 54) -> 0.0\n",
      "(64, 53) -> 0.0\n",
      "(65, 47) -> 0.0\n",
      "(66, 76) -> 0.0\n",
      "(67, 66) -> 0.0\n",
      "(68, 18) -> 0.0\n",
      "(69, 62) -> 0.0\n",
      "(70, 3) -> 0.0\n",
      "(71, 8) -> 0.0\n",
      "(72, 31) -> 0.0\n",
      "(73, 25) -> 0.0\n",
      "(74, 33) -> 0.0\n",
      "(75, 61) -> 0.0\n",
      "(76, 21) -> 0.0\n",
      "(77, 17) -> 0.0\n",
      "(78, 73) -> 0.0\n",
      "(79, 56) -> 0.0\n",
      "(80, 32) -> 0.0\n",
      "total cost: 0.0\n"
     ]
    }
   ],
   "source": [
    "indexes = hungarian_alg(cost)"
   ]
  },
  {
   "cell_type": "markdown",
   "metadata": {},
   "source": [
    "Usporedba pridruzenih pozicija mađarskim algoritmom i pravih pozicija"
   ]
  },
  {
   "cell_type": "code",
   "execution_count": 120,
   "metadata": {},
   "outputs": [
    {
     "name": "stdout",
     "output_type": "stream",
     "text": [
      "[[ 1.  7.]\n",
      " [ 2.  2.]\n",
      " [ 3. 40.]\n",
      " [ 4.  1.]\n",
      " [ 5. 49.]\n",
      " [ 6. 42.]\n",
      " [ 7. 80.]\n",
      " [ 8. 71.]\n",
      " [ 9. 10.]\n",
      " [10. 22.]\n",
      " [11. 44.]\n",
      " [12. 43.]\n",
      " [13. 23.]\n",
      " [14. 70.]\n",
      " [15. 24.]\n",
      " [16. 59.]\n",
      " [17.  6.]\n",
      " [18. 14.]\n",
      " [19. 11.]\n",
      " [20. 48.]\n",
      " [21. 12.]\n",
      " [22. 26.]\n",
      " [23. 58.]\n",
      " [24. 46.]\n",
      " [25. 79.]\n",
      " [26. 41.]\n",
      " [27. 37.]\n",
      " [28. 57.]\n",
      " [29. 51.]\n",
      " [30. 69.]\n",
      " [31. 13.]\n",
      " [32. 36.]\n",
      " [33. 29.]\n",
      " [34.  5.]\n",
      " [35. 55.]\n",
      " [36. 67.]\n",
      " [37.  9.]\n",
      " [38. 68.]\n",
      " [39. 50.]\n",
      " [40. 30.]\n",
      " [41. 27.]\n",
      " [42. 45.]\n",
      " [43. 35.]\n",
      " [44. 78.]\n",
      " [45.  4.]\n",
      " [46. 74.]\n",
      " [47. 38.]\n",
      " [48. 19.]\n",
      " [49. 16.]\n",
      " [50. 39.]\n",
      " [51. 64.]\n",
      " [52. 60.]\n",
      " [53. 20.]\n",
      " [54. 34.]\n",
      " [55. 77.]\n",
      " [56. 28.]\n",
      " [57. 72.]\n",
      " [58. 63.]\n",
      " [59. 15.]\n",
      " [60. 75.]\n",
      " [61. 52.]\n",
      " [62. 65.]\n",
      " [63. 54.]\n",
      " [64. 53.]\n",
      " [65. 47.]\n",
      " [66. 76.]\n",
      " [67. 66.]\n",
      " [68. 18.]\n",
      " [69. 62.]\n",
      " [70.  3.]\n",
      " [71.  8.]\n",
      " [72. 31.]\n",
      " [73. 25.]\n",
      " [74. 33.]\n",
      " [75. 61.]\n",
      " [76. 21.]\n",
      " [77. 17.]\n",
      " [78. 73.]\n",
      " [79. 56.]\n",
      " [80. 32.]]\n",
      "[[ 1. 74.]\n",
      " [ 2. 79.]\n",
      " [ 3. 41.]\n",
      " [ 4. 80.]\n",
      " [ 5. 32.]\n",
      " [ 6. 39.]\n",
      " [ 7.  1.]\n",
      " [ 8. 10.]\n",
      " [ 9. 71.]\n",
      " [10. 59.]\n",
      " [11. 37.]\n",
      " [12. 38.]\n",
      " [13. 58.]\n",
      " [14. 11.]\n",
      " [15. 57.]\n",
      " [16. 22.]\n",
      " [17. 75.]\n",
      " [18. 67.]\n",
      " [19. 70.]\n",
      " [20. 33.]\n",
      " [21. 69.]\n",
      " [22. 55.]\n",
      " [23. 23.]\n",
      " [24. 35.]\n",
      " [25.  2.]\n",
      " [26. 40.]\n",
      " [27. 44.]\n",
      " [28. 24.]\n",
      " [29. 30.]\n",
      " [30. 12.]\n",
      " [31. 68.]\n",
      " [32. 45.]\n",
      " [33. 52.]\n",
      " [34. 76.]\n",
      " [35. 26.]\n",
      " [36. 14.]\n",
      " [37. 72.]\n",
      " [38. 13.]\n",
      " [39. 31.]\n",
      " [40. 51.]\n",
      " [41. 54.]\n",
      " [42. 36.]\n",
      " [43. 46.]\n",
      " [44.  3.]\n",
      " [45. 77.]\n",
      " [46.  7.]\n",
      " [47. 43.]\n",
      " [48. 62.]\n",
      " [49. 65.]\n",
      " [50. 42.]\n",
      " [51. 17.]\n",
      " [52. 21.]\n",
      " [53. 61.]\n",
      " [54. 47.]\n",
      " [55.  4.]\n",
      " [56. 53.]\n",
      " [57.  9.]\n",
      " [58. 18.]\n",
      " [59. 66.]\n",
      " [60.  6.]\n",
      " [61. 29.]\n",
      " [62. 16.]\n",
      " [63. 27.]\n",
      " [64. 28.]\n",
      " [65. 34.]\n",
      " [66.  5.]\n",
      " [67. 15.]\n",
      " [68. 63.]\n",
      " [69. 19.]\n",
      " [70. 78.]\n",
      " [71. 73.]\n",
      " [72. 50.]\n",
      " [73. 56.]\n",
      " [74. 48.]\n",
      " [75. 20.]\n",
      " [76. 60.]\n",
      " [77. 64.]\n",
      " [78.  8.]\n",
      " [79. 25.]\n",
      " [80. 49.]]\n"
     ]
    }
   ],
   "source": [
    "indexes=np.asarray(indexes)\n",
    "print(indexes+np.ones([M,2]))\n",
    "print(senzori)"
   ]
  },
  {
   "cell_type": "markdown",
   "metadata": {},
   "source": [
    "Mogu probat sad preostala 3 slucaja, da izvrtim predznake"
   ]
  },
  {
   "cell_type": "markdown",
   "metadata": {},
   "source": [
    "2.slucaj: 1.koordinata u -"
   ]
  },
  {
   "cell_type": "code",
   "execution_count": 121,
   "metadata": {},
   "outputs": [],
   "source": [
    "N[:,0] = -N[:,0]"
   ]
  },
  {
   "cell_type": "code",
   "execution_count": 122,
   "metadata": {},
   "outputs": [
    {
     "name": "stdout",
     "output_type": "stream",
     "text": [
      "(1, 79) -> 0.0\n",
      "(2, 74) -> 0.0\n",
      "(3, 48) -> 0.0\n",
      "(4, 73) -> 0.0\n",
      "(5, 25) -> 0.0\n",
      "(6, 34) -> 0.0\n",
      "(7, 8) -> 0.0\n",
      "(8, 15) -> 0.0\n",
      "(9, 66) -> 0.0\n",
      "(10, 62) -> 0.0\n",
      "(11, 36) -> 0.0\n",
      "(12, 35) -> 0.0\n",
      "(13, 63) -> 0.0\n",
      "(14, 14) -> 0.0\n",
      "(15, 64) -> 0.0\n",
      "(16, 19) -> 0.0\n",
      "(17, 78) -> 0.0\n",
      "(18, 70) -> 0.0\n",
      "(19, 67) -> 0.0\n",
      "(20, 40) -> 0.0\n",
      "(21, 68) -> 0.0\n",
      "(22, 50) -> 0.0\n",
      "(23, 18) -> 0.0\n",
      "(24, 38) -> 0.0\n",
      "(25, 7) -> 0.0\n",
      "(26, 33) -> 0.0\n",
      "(27, 45) -> 0.0\n",
      "(28, 17) -> 0.0\n",
      "(29, 27) -> 0.0\n",
      "(30, 13) -> 0.0\n",
      "(31, 69) -> 0.0\n",
      "(32, 44) -> 0.0\n",
      "(33, 53) -> 0.0\n",
      "(34, 77) -> 0.0\n",
      "(35, 31) -> 0.0\n",
      "(36, 11) -> 0.0\n",
      "(37, 65) -> 0.0\n",
      "(38, 12) -> 0.0\n",
      "(39, 26) -> 0.0\n",
      "(40, 54) -> 0.0\n",
      "(41, 51) -> 0.0\n",
      "(42, 37) -> 0.0\n",
      "(43, 43) -> 0.0\n",
      "(44, 6) -> 0.0\n",
      "(45, 76) -> 0.0\n",
      "(46, 2) -> 0.0\n",
      "(47, 46) -> 0.0\n",
      "(48, 59) -> 0.0\n",
      "(49, 72) -> 0.0\n",
      "(50, 47) -> 0.0\n",
      "(51, 24) -> 0.0\n",
      "(52, 20) -> 0.0\n",
      "(53, 60) -> 0.0\n",
      "(54, 42) -> 0.0\n",
      "(55, 5) -> 0.0\n",
      "(56, 52) -> 0.0\n",
      "(57, 16) -> 0.0\n",
      "(58, 23) -> 0.0\n",
      "(59, 71) -> 0.0\n",
      "(60, 3) -> 0.0\n",
      "(61, 28) -> 0.0\n",
      "(62, 9) -> 0.0\n",
      "(63, 30) -> 0.0\n",
      "(64, 29) -> 0.0\n",
      "(65, 39) -> 0.0\n",
      "(66, 4) -> 0.0\n",
      "(67, 10) -> 0.0\n",
      "(68, 58) -> 0.0\n",
      "(69, 22) -> 0.0\n",
      "(70, 75) -> 0.0\n",
      "(71, 80) -> 0.0\n",
      "(72, 55) -> 0.0\n",
      "(73, 49) -> 0.0\n",
      "(74, 41) -> 0.0\n",
      "(75, 21) -> 0.0\n",
      "(76, 61) -> 0.0\n",
      "(77, 57) -> 0.0\n",
      "(78, 1) -> 0.0\n",
      "(79, 32) -> 0.0\n",
      "(80, 56) -> 0.0\n",
      "total cost: 0.0\n"
     ]
    }
   ],
   "source": [
    "cost = get_cost(N, P)\n",
    "\n",
    "indexes = hungarian_alg(cost)"
   ]
  },
  {
   "cell_type": "code",
   "execution_count": 123,
   "metadata": {},
   "outputs": [
    {
     "name": "stdout",
     "output_type": "stream",
     "text": [
      "[[ 1. 79.]\n",
      " [ 2. 74.]\n",
      " [ 3. 48.]\n",
      " [ 4. 73.]\n",
      " [ 5. 25.]\n",
      " [ 6. 34.]\n",
      " [ 7.  8.]\n",
      " [ 8. 15.]\n",
      " [ 9. 66.]\n",
      " [10. 62.]\n",
      " [11. 36.]\n",
      " [12. 35.]\n",
      " [13. 63.]\n",
      " [14. 14.]\n",
      " [15. 64.]\n",
      " [16. 19.]\n",
      " [17. 78.]\n",
      " [18. 70.]\n",
      " [19. 67.]\n",
      " [20. 40.]\n",
      " [21. 68.]\n",
      " [22. 50.]\n",
      " [23. 18.]\n",
      " [24. 38.]\n",
      " [25.  7.]\n",
      " [26. 33.]\n",
      " [27. 45.]\n",
      " [28. 17.]\n",
      " [29. 27.]\n",
      " [30. 13.]\n",
      " [31. 69.]\n",
      " [32. 44.]\n",
      " [33. 53.]\n",
      " [34. 77.]\n",
      " [35. 31.]\n",
      " [36. 11.]\n",
      " [37. 65.]\n",
      " [38. 12.]\n",
      " [39. 26.]\n",
      " [40. 54.]\n",
      " [41. 51.]\n",
      " [42. 37.]\n",
      " [43. 43.]\n",
      " [44.  6.]\n",
      " [45. 76.]\n",
      " [46.  2.]\n",
      " [47. 46.]\n",
      " [48. 59.]\n",
      " [49. 72.]\n",
      " [50. 47.]\n",
      " [51. 24.]\n",
      " [52. 20.]\n",
      " [53. 60.]\n",
      " [54. 42.]\n",
      " [55.  5.]\n",
      " [56. 52.]\n",
      " [57. 16.]\n",
      " [58. 23.]\n",
      " [59. 71.]\n",
      " [60.  3.]\n",
      " [61. 28.]\n",
      " [62.  9.]\n",
      " [63. 30.]\n",
      " [64. 29.]\n",
      " [65. 39.]\n",
      " [66.  4.]\n",
      " [67. 10.]\n",
      " [68. 58.]\n",
      " [69. 22.]\n",
      " [70. 75.]\n",
      " [71. 80.]\n",
      " [72. 55.]\n",
      " [73. 49.]\n",
      " [74. 41.]\n",
      " [75. 21.]\n",
      " [76. 61.]\n",
      " [77. 57.]\n",
      " [78.  1.]\n",
      " [79. 32.]\n",
      " [80. 56.]]\n",
      "[[ 1. 74.]\n",
      " [ 2. 79.]\n",
      " [ 3. 41.]\n",
      " [ 4. 80.]\n",
      " [ 5. 32.]\n",
      " [ 6. 39.]\n",
      " [ 7.  1.]\n",
      " [ 8. 10.]\n",
      " [ 9. 71.]\n",
      " [10. 59.]\n",
      " [11. 37.]\n",
      " [12. 38.]\n",
      " [13. 58.]\n",
      " [14. 11.]\n",
      " [15. 57.]\n",
      " [16. 22.]\n",
      " [17. 75.]\n",
      " [18. 67.]\n",
      " [19. 70.]\n",
      " [20. 33.]\n",
      " [21. 69.]\n",
      " [22. 55.]\n",
      " [23. 23.]\n",
      " [24. 35.]\n",
      " [25.  2.]\n",
      " [26. 40.]\n",
      " [27. 44.]\n",
      " [28. 24.]\n",
      " [29. 30.]\n",
      " [30. 12.]\n",
      " [31. 68.]\n",
      " [32. 45.]\n",
      " [33. 52.]\n",
      " [34. 76.]\n",
      " [35. 26.]\n",
      " [36. 14.]\n",
      " [37. 72.]\n",
      " [38. 13.]\n",
      " [39. 31.]\n",
      " [40. 51.]\n",
      " [41. 54.]\n",
      " [42. 36.]\n",
      " [43. 46.]\n",
      " [44.  3.]\n",
      " [45. 77.]\n",
      " [46.  7.]\n",
      " [47. 43.]\n",
      " [48. 62.]\n",
      " [49. 65.]\n",
      " [50. 42.]\n",
      " [51. 17.]\n",
      " [52. 21.]\n",
      " [53. 61.]\n",
      " [54. 47.]\n",
      " [55.  4.]\n",
      " [56. 53.]\n",
      " [57.  9.]\n",
      " [58. 18.]\n",
      " [59. 66.]\n",
      " [60.  6.]\n",
      " [61. 29.]\n",
      " [62. 16.]\n",
      " [63. 27.]\n",
      " [64. 28.]\n",
      " [65. 34.]\n",
      " [66.  5.]\n",
      " [67. 15.]\n",
      " [68. 63.]\n",
      " [69. 19.]\n",
      " [70. 78.]\n",
      " [71. 73.]\n",
      " [72. 50.]\n",
      " [73. 56.]\n",
      " [74. 48.]\n",
      " [75. 20.]\n",
      " [76. 60.]\n",
      " [77. 64.]\n",
      " [78.  8.]\n",
      " [79. 25.]\n",
      " [80. 49.]]\n"
     ]
    }
   ],
   "source": [
    "indexes=np.asarray(indexes)\n",
    "print(indexes+np.ones([M,2]))\n",
    "print(senzori)"
   ]
  },
  {
   "cell_type": "markdown",
   "metadata": {},
   "source": [
    "3. slucaj: 2. koordinata u -"
   ]
  },
  {
   "cell_type": "code",
   "execution_count": 124,
   "metadata": {},
   "outputs": [],
   "source": [
    "N[:,0] = -N[:,0] # da vratimo zbog 1. slucaja\n",
    "N[:,1] = -N[:,1]"
   ]
  },
  {
   "cell_type": "code",
   "execution_count": 125,
   "metadata": {},
   "outputs": [
    {
     "name": "stdout",
     "output_type": "stream",
     "text": [
      "(1, 2) -> 0.0\n",
      "(2, 7) -> 0.0\n",
      "(3, 33) -> 0.0\n",
      "(4, 8) -> 0.0\n",
      "(5, 56) -> 0.0\n",
      "(6, 47) -> 0.0\n",
      "(7, 73) -> 0.0\n",
      "(8, 66) -> 0.0\n",
      "(9, 15) -> 0.0\n",
      "(10, 19) -> 0.0\n",
      "(11, 45) -> 0.0\n",
      "(12, 46) -> 0.0\n",
      "(13, 18) -> 0.0\n",
      "(14, 67) -> 0.0\n",
      "(15, 17) -> 0.0\n",
      "(16, 62) -> 0.0\n",
      "(17, 3) -> 0.0\n",
      "(18, 11) -> 0.0\n",
      "(19, 14) -> 0.0\n",
      "(20, 41) -> 0.0\n",
      "(21, 13) -> 0.0\n",
      "(22, 31) -> 0.0\n",
      "(23, 63) -> 0.0\n",
      "(24, 43) -> 0.0\n",
      "(25, 74) -> 0.0\n",
      "(26, 48) -> 0.0\n",
      "(27, 36) -> 0.0\n",
      "(28, 64) -> 0.0\n",
      "(29, 54) -> 0.0\n",
      "(30, 68) -> 0.0\n",
      "(31, 12) -> 0.0\n",
      "(32, 37) -> 0.0\n",
      "(33, 28) -> 0.0\n",
      "(34, 4) -> 0.0\n",
      "(35, 50) -> 0.0\n",
      "(36, 70) -> 0.0\n",
      "(37, 16) -> 0.0\n",
      "(38, 69) -> 0.0\n",
      "(39, 55) -> 0.0\n",
      "(40, 27) -> 0.0\n",
      "(41, 30) -> 0.0\n",
      "(42, 44) -> 0.0\n",
      "(43, 38) -> 0.0\n",
      "(44, 75) -> 0.0\n",
      "(45, 5) -> 0.0\n",
      "(46, 79) -> 0.0\n",
      "(47, 35) -> 0.0\n",
      "(48, 22) -> 0.0\n",
      "(49, 9) -> 0.0\n",
      "(50, 34) -> 0.0\n",
      "(51, 57) -> 0.0\n",
      "(52, 61) -> 0.0\n",
      "(53, 21) -> 0.0\n",
      "(54, 39) -> 0.0\n",
      "(55, 76) -> 0.0\n",
      "(56, 29) -> 0.0\n",
      "(57, 65) -> 0.0\n",
      "(58, 58) -> 0.0\n",
      "(59, 10) -> 0.0\n",
      "(60, 78) -> 0.0\n",
      "(61, 53) -> 0.0\n",
      "(62, 72) -> 0.0\n",
      "(63, 51) -> 0.0\n",
      "(64, 52) -> 0.0\n",
      "(65, 42) -> 0.0\n",
      "(66, 77) -> 0.0\n",
      "(67, 71) -> 0.0\n",
      "(68, 23) -> 0.0\n",
      "(69, 59) -> 0.0\n",
      "(70, 6) -> 0.0\n",
      "(71, 1) -> 0.0\n",
      "(72, 26) -> 0.0\n",
      "(73, 32) -> 0.0\n",
      "(74, 40) -> 0.0\n",
      "(75, 60) -> 0.0\n",
      "(76, 20) -> 0.0\n",
      "(77, 24) -> 0.0\n",
      "(78, 80) -> 0.0\n",
      "(79, 49) -> 0.0\n",
      "(80, 25) -> 0.0\n",
      "total cost: 0.0\n"
     ]
    }
   ],
   "source": [
    "cost = get_cost(N, P)\n",
    "\n",
    "indexes = hungarian_alg(cost)"
   ]
  },
  {
   "cell_type": "code",
   "execution_count": 126,
   "metadata": {},
   "outputs": [
    {
     "name": "stdout",
     "output_type": "stream",
     "text": [
      "[[ 1.  2.]\n",
      " [ 2.  7.]\n",
      " [ 3. 33.]\n",
      " [ 4.  8.]\n",
      " [ 5. 56.]\n",
      " [ 6. 47.]\n",
      " [ 7. 73.]\n",
      " [ 8. 66.]\n",
      " [ 9. 15.]\n",
      " [10. 19.]\n",
      " [11. 45.]\n",
      " [12. 46.]\n",
      " [13. 18.]\n",
      " [14. 67.]\n",
      " [15. 17.]\n",
      " [16. 62.]\n",
      " [17.  3.]\n",
      " [18. 11.]\n",
      " [19. 14.]\n",
      " [20. 41.]\n",
      " [21. 13.]\n",
      " [22. 31.]\n",
      " [23. 63.]\n",
      " [24. 43.]\n",
      " [25. 74.]\n",
      " [26. 48.]\n",
      " [27. 36.]\n",
      " [28. 64.]\n",
      " [29. 54.]\n",
      " [30. 68.]\n",
      " [31. 12.]\n",
      " [32. 37.]\n",
      " [33. 28.]\n",
      " [34.  4.]\n",
      " [35. 50.]\n",
      " [36. 70.]\n",
      " [37. 16.]\n",
      " [38. 69.]\n",
      " [39. 55.]\n",
      " [40. 27.]\n",
      " [41. 30.]\n",
      " [42. 44.]\n",
      " [43. 38.]\n",
      " [44. 75.]\n",
      " [45.  5.]\n",
      " [46. 79.]\n",
      " [47. 35.]\n",
      " [48. 22.]\n",
      " [49.  9.]\n",
      " [50. 34.]\n",
      " [51. 57.]\n",
      " [52. 61.]\n",
      " [53. 21.]\n",
      " [54. 39.]\n",
      " [55. 76.]\n",
      " [56. 29.]\n",
      " [57. 65.]\n",
      " [58. 58.]\n",
      " [59. 10.]\n",
      " [60. 78.]\n",
      " [61. 53.]\n",
      " [62. 72.]\n",
      " [63. 51.]\n",
      " [64. 52.]\n",
      " [65. 42.]\n",
      " [66. 77.]\n",
      " [67. 71.]\n",
      " [68. 23.]\n",
      " [69. 59.]\n",
      " [70.  6.]\n",
      " [71.  1.]\n",
      " [72. 26.]\n",
      " [73. 32.]\n",
      " [74. 40.]\n",
      " [75. 60.]\n",
      " [76. 20.]\n",
      " [77. 24.]\n",
      " [78. 80.]\n",
      " [79. 49.]\n",
      " [80. 25.]]\n",
      "[[ 1. 74.]\n",
      " [ 2. 79.]\n",
      " [ 3. 41.]\n",
      " [ 4. 80.]\n",
      " [ 5. 32.]\n",
      " [ 6. 39.]\n",
      " [ 7.  1.]\n",
      " [ 8. 10.]\n",
      " [ 9. 71.]\n",
      " [10. 59.]\n",
      " [11. 37.]\n",
      " [12. 38.]\n",
      " [13. 58.]\n",
      " [14. 11.]\n",
      " [15. 57.]\n",
      " [16. 22.]\n",
      " [17. 75.]\n",
      " [18. 67.]\n",
      " [19. 70.]\n",
      " [20. 33.]\n",
      " [21. 69.]\n",
      " [22. 55.]\n",
      " [23. 23.]\n",
      " [24. 35.]\n",
      " [25.  2.]\n",
      " [26. 40.]\n",
      " [27. 44.]\n",
      " [28. 24.]\n",
      " [29. 30.]\n",
      " [30. 12.]\n",
      " [31. 68.]\n",
      " [32. 45.]\n",
      " [33. 52.]\n",
      " [34. 76.]\n",
      " [35. 26.]\n",
      " [36. 14.]\n",
      " [37. 72.]\n",
      " [38. 13.]\n",
      " [39. 31.]\n",
      " [40. 51.]\n",
      " [41. 54.]\n",
      " [42. 36.]\n",
      " [43. 46.]\n",
      " [44.  3.]\n",
      " [45. 77.]\n",
      " [46.  7.]\n",
      " [47. 43.]\n",
      " [48. 62.]\n",
      " [49. 65.]\n",
      " [50. 42.]\n",
      " [51. 17.]\n",
      " [52. 21.]\n",
      " [53. 61.]\n",
      " [54. 47.]\n",
      " [55.  4.]\n",
      " [56. 53.]\n",
      " [57.  9.]\n",
      " [58. 18.]\n",
      " [59. 66.]\n",
      " [60.  6.]\n",
      " [61. 29.]\n",
      " [62. 16.]\n",
      " [63. 27.]\n",
      " [64. 28.]\n",
      " [65. 34.]\n",
      " [66.  5.]\n",
      " [67. 15.]\n",
      " [68. 63.]\n",
      " [69. 19.]\n",
      " [70. 78.]\n",
      " [71. 73.]\n",
      " [72. 50.]\n",
      " [73. 56.]\n",
      " [74. 48.]\n",
      " [75. 20.]\n",
      " [76. 60.]\n",
      " [77. 64.]\n",
      " [78.  8.]\n",
      " [79. 25.]\n",
      " [80. 49.]]\n"
     ]
    }
   ],
   "source": [
    "indexes=np.asarray(indexes)\n",
    "print(indexes+np.ones([M,2]))\n",
    "print(senzori)"
   ]
  },
  {
   "cell_type": "markdown",
   "metadata": {},
   "source": [
    "Zadnji slucaj: obje koordinate u -"
   ]
  },
  {
   "cell_type": "code",
   "execution_count": 127,
   "metadata": {},
   "outputs": [],
   "source": [
    "N[:,0] = -N[:,0]"
   ]
  },
  {
   "cell_type": "code",
   "execution_count": 128,
   "metadata": {},
   "outputs": [
    {
     "name": "stdout",
     "output_type": "stream",
     "text": [
      "(1, 74) -> 0.0\n",
      "(2, 79) -> 0.0\n",
      "(3, 41) -> 0.0\n",
      "(4, 80) -> 0.0\n",
      "(5, 32) -> 0.0\n",
      "(6, 39) -> 0.0\n",
      "(7, 1) -> 0.0\n",
      "(8, 10) -> 0.0\n",
      "(9, 71) -> 0.0\n",
      "(10, 59) -> 0.0\n",
      "(11, 37) -> 0.0\n",
      "(12, 38) -> 0.0\n",
      "(13, 58) -> 0.0\n",
      "(14, 11) -> 0.0\n",
      "(15, 57) -> 0.0\n",
      "(16, 22) -> 0.0\n",
      "(17, 75) -> 0.0\n",
      "(18, 67) -> 0.0\n",
      "(19, 70) -> 0.0\n",
      "(20, 33) -> 0.0\n",
      "(21, 69) -> 0.0\n",
      "(22, 55) -> 0.0\n",
      "(23, 23) -> 0.0\n",
      "(24, 35) -> 0.0\n",
      "(25, 2) -> 0.0\n",
      "(26, 40) -> 0.0\n",
      "(27, 44) -> 0.0\n",
      "(28, 24) -> 0.0\n",
      "(29, 30) -> 0.0\n",
      "(30, 12) -> 0.0\n",
      "(31, 68) -> 0.0\n",
      "(32, 45) -> 0.0\n",
      "(33, 52) -> 0.0\n",
      "(34, 76) -> 0.0\n",
      "(35, 26) -> 0.0\n",
      "(36, 14) -> 0.0\n",
      "(37, 72) -> 0.0\n",
      "(38, 13) -> 0.0\n",
      "(39, 31) -> 0.0\n",
      "(40, 51) -> 0.0\n",
      "(41, 54) -> 0.0\n",
      "(42, 36) -> 0.0\n",
      "(43, 46) -> 0.0\n",
      "(44, 3) -> 0.0\n",
      "(45, 77) -> 0.0\n",
      "(46, 7) -> 0.0\n",
      "(47, 43) -> 0.0\n",
      "(48, 62) -> 0.0\n",
      "(49, 65) -> 0.0\n",
      "(50, 42) -> 0.0\n",
      "(51, 17) -> 0.0\n",
      "(52, 21) -> 0.0\n",
      "(53, 61) -> 0.0\n",
      "(54, 47) -> 0.0\n",
      "(55, 4) -> 0.0\n",
      "(56, 53) -> 0.0\n",
      "(57, 9) -> 0.0\n",
      "(58, 18) -> 0.0\n",
      "(59, 66) -> 0.0\n",
      "(60, 6) -> 0.0\n",
      "(61, 29) -> 0.0\n",
      "(62, 16) -> 0.0\n",
      "(63, 27) -> 0.0\n",
      "(64, 28) -> 0.0\n",
      "(65, 34) -> 0.0\n",
      "(66, 5) -> 0.0\n",
      "(67, 15) -> 0.0\n",
      "(68, 63) -> 0.0\n",
      "(69, 19) -> 0.0\n",
      "(70, 78) -> 0.0\n",
      "(71, 73) -> 0.0\n",
      "(72, 50) -> 0.0\n",
      "(73, 56) -> 0.0\n",
      "(74, 48) -> 0.0\n",
      "(75, 20) -> 0.0\n",
      "(76, 60) -> 0.0\n",
      "(77, 64) -> 0.0\n",
      "(78, 8) -> 0.0\n",
      "(79, 25) -> 0.0\n",
      "(80, 49) -> 0.0\n",
      "total cost: 0.0\n"
     ]
    }
   ],
   "source": [
    "cost = get_cost(N, P)\n",
    "\n",
    "indexes = hungarian_alg(cost)"
   ]
  },
  {
   "cell_type": "code",
   "execution_count": 129,
   "metadata": {},
   "outputs": [
    {
     "name": "stdout",
     "output_type": "stream",
     "text": [
      "[[ 1. 74.]\n",
      " [ 2. 79.]\n",
      " [ 3. 41.]\n",
      " [ 4. 80.]\n",
      " [ 5. 32.]\n",
      " [ 6. 39.]\n",
      " [ 7.  1.]\n",
      " [ 8. 10.]\n",
      " [ 9. 71.]\n",
      " [10. 59.]\n",
      " [11. 37.]\n",
      " [12. 38.]\n",
      " [13. 58.]\n",
      " [14. 11.]\n",
      " [15. 57.]\n",
      " [16. 22.]\n",
      " [17. 75.]\n",
      " [18. 67.]\n",
      " [19. 70.]\n",
      " [20. 33.]\n",
      " [21. 69.]\n",
      " [22. 55.]\n",
      " [23. 23.]\n",
      " [24. 35.]\n",
      " [25.  2.]\n",
      " [26. 40.]\n",
      " [27. 44.]\n",
      " [28. 24.]\n",
      " [29. 30.]\n",
      " [30. 12.]\n",
      " [31. 68.]\n",
      " [32. 45.]\n",
      " [33. 52.]\n",
      " [34. 76.]\n",
      " [35. 26.]\n",
      " [36. 14.]\n",
      " [37. 72.]\n",
      " [38. 13.]\n",
      " [39. 31.]\n",
      " [40. 51.]\n",
      " [41. 54.]\n",
      " [42. 36.]\n",
      " [43. 46.]\n",
      " [44.  3.]\n",
      " [45. 77.]\n",
      " [46.  7.]\n",
      " [47. 43.]\n",
      " [48. 62.]\n",
      " [49. 65.]\n",
      " [50. 42.]\n",
      " [51. 17.]\n",
      " [52. 21.]\n",
      " [53. 61.]\n",
      " [54. 47.]\n",
      " [55.  4.]\n",
      " [56. 53.]\n",
      " [57.  9.]\n",
      " [58. 18.]\n",
      " [59. 66.]\n",
      " [60.  6.]\n",
      " [61. 29.]\n",
      " [62. 16.]\n",
      " [63. 27.]\n",
      " [64. 28.]\n",
      " [65. 34.]\n",
      " [66.  5.]\n",
      " [67. 15.]\n",
      " [68. 63.]\n",
      " [69. 19.]\n",
      " [70. 78.]\n",
      " [71. 73.]\n",
      " [72. 50.]\n",
      " [73. 56.]\n",
      " [74. 48.]\n",
      " [75. 20.]\n",
      " [76. 60.]\n",
      " [77. 64.]\n",
      " [78.  8.]\n",
      " [79. 25.]\n",
      " [80. 49.]]\n",
      "[[ 1. 74.]\n",
      " [ 2. 79.]\n",
      " [ 3. 41.]\n",
      " [ 4. 80.]\n",
      " [ 5. 32.]\n",
      " [ 6. 39.]\n",
      " [ 7.  1.]\n",
      " [ 8. 10.]\n",
      " [ 9. 71.]\n",
      " [10. 59.]\n",
      " [11. 37.]\n",
      " [12. 38.]\n",
      " [13. 58.]\n",
      " [14. 11.]\n",
      " [15. 57.]\n",
      " [16. 22.]\n",
      " [17. 75.]\n",
      " [18. 67.]\n",
      " [19. 70.]\n",
      " [20. 33.]\n",
      " [21. 69.]\n",
      " [22. 55.]\n",
      " [23. 23.]\n",
      " [24. 35.]\n",
      " [25.  2.]\n",
      " [26. 40.]\n",
      " [27. 44.]\n",
      " [28. 24.]\n",
      " [29. 30.]\n",
      " [30. 12.]\n",
      " [31. 68.]\n",
      " [32. 45.]\n",
      " [33. 52.]\n",
      " [34. 76.]\n",
      " [35. 26.]\n",
      " [36. 14.]\n",
      " [37. 72.]\n",
      " [38. 13.]\n",
      " [39. 31.]\n",
      " [40. 51.]\n",
      " [41. 54.]\n",
      " [42. 36.]\n",
      " [43. 46.]\n",
      " [44.  3.]\n",
      " [45. 77.]\n",
      " [46.  7.]\n",
      " [47. 43.]\n",
      " [48. 62.]\n",
      " [49. 65.]\n",
      " [50. 42.]\n",
      " [51. 17.]\n",
      " [52. 21.]\n",
      " [53. 61.]\n",
      " [54. 47.]\n",
      " [55.  4.]\n",
      " [56. 53.]\n",
      " [57.  9.]\n",
      " [58. 18.]\n",
      " [59. 66.]\n",
      " [60.  6.]\n",
      " [61. 29.]\n",
      " [62. 16.]\n",
      " [63. 27.]\n",
      " [64. 28.]\n",
      " [65. 34.]\n",
      " [66.  5.]\n",
      " [67. 15.]\n",
      " [68. 63.]\n",
      " [69. 19.]\n",
      " [70. 78.]\n",
      " [71. 73.]\n",
      " [72. 50.]\n",
      " [73. 56.]\n",
      " [74. 48.]\n",
      " [75. 20.]\n",
      " [76. 60.]\n",
      " [77. 64.]\n",
      " [78.  8.]\n",
      " [79. 25.]\n",
      " [80. 49.]]\n"
     ]
    }
   ],
   "source": [
    "indexes=np.asarray(indexes)\n",
    "print(indexes+np.ones([M,2]))\n",
    "print(senzori)"
   ]
  },
  {
   "cell_type": "markdown",
   "metadata": {},
   "source": [
    "BINGO!, jedan od ovih 4 je uvijek"
   ]
  },
  {
   "cell_type": "markdown",
   "metadata": {},
   "source": [
    "## Drukcije / dodajemo noise"
   ]
  },
  {
   "cell_type": "code",
   "execution_count": 34,
   "metadata": {},
   "outputs": [],
   "source": [
    "# drukciji path loss model\n",
    "\n",
    "def get_RSSI_noiseless(D_positions, senzori, a, eta, T):\n",
    "    M = np.shape(senzori)[0]\n",
    "    RSSI_noiseless = np.zeros([M, M])\n",
    "\n",
    "    for i in range(0, M):\n",
    "        for j in range(0, M):\n",
    "            if(D_positions[int(senzori[i, 1]) - 1, int(senzori[j, 1]) - 1] == 0):\n",
    "                RSSI_noiseless[i, j] = a + 10*eta*np.log10(T)\n",
    "            else:\n",
    "                RSSI_noiseless[i, j] = a - 10*eta*np.log10(D_positions[int(senzori[i, 1]) - 1, int(senzori[j, 1]) - 1]) + 10*eta*np.log10(T)\n",
    "    return RSSI_noiseless"
   ]
  },
  {
   "cell_type": "code",
   "execution_count": 535,
   "metadata": {},
   "outputs": [
    {
     "data": {
      "image/png": "[encoded data removed]",
      "text/plain": [
       "<Figure size 432x288 with 1 Axes>"
      ]
     },
     "metadata": {
      "needs_background": "light"
     },
     "output_type": "display_data"
    }
   ],
   "source": [
    "#a = -50\n",
    "#eta = 3\n",
    "#T = 1\n",
    "#RSSI_noiseless = get_RSSI_noiseless(D_positions, senzori, a, eta, T)\n",
    "\n",
    "\n",
    "RSSI_noiseless = get_RSSI_noiseless_square(D_positions, senzori)\n",
    "stdev = 0.01\n",
    "noise = np.zeros([M, M])\n",
    "for i in range(0, M):\n",
    "    for j in range(0, M):\n",
    "        if (i != j):\n",
    "            while 1:\n",
    "                x = np.random.normal(0, stdev)\n",
    "                if(RSSI_noiseless[i, j] + x > 0 and RSSI_noiseless[i, j] + x <= 10):\n",
    "                    noise[i, j] = x\n",
    "                    break\n",
    "\n",
    "#noise = np.random.normal(0, 10 ,[M, M])\n",
    "RSSI = RSSI_noiseless + noise\n",
    "\n",
    "# mogu plotat da vidim\n",
    "plt.plot(RSSI_noiseless[0, :], color='red')\n",
    "plt.plot(RSSI[0, :], color='blue')\n",
    "plt.title(\"Noiseless RSSI i RSSI sa šumom\")\n",
    "plt.show()"
   ]
  },
  {
   "cell_type": "code",
   "execution_count": 536,
   "metadata": {},
   "outputs": [],
   "source": [
    "C_positions = get_C(D_positions)\n",
    "L_positions = get_L(C_positions)\n",
    "k = 2\n",
    "P = get_keigvec(L_positions, k)\n",
    "print(P)"
   ]
  },
  {
   "cell_type": "code",
   "execution_count": 537,
   "metadata": {},
   "outputs": [],
   "source": [
    "D = np.zeros([M,M])\n",
    "\n",
    "#for i in range(0, M):\n",
    "#    for j in range(0, M):\n",
    "#        D[i, j] = np.power(10, (a + 10*eta*np.log10(T) - RSSI[i, j]) / (10*eta))\n",
    "\n",
    "for i in range(0, M):\n",
    "    for j in range(0, M):\n",
    "        D[i, j] = np.sqrt((1 - RSSI[i, j]/10) / RSSI[i, j])"
   ]
  },
  {
   "cell_type": "code",
   "execution_count": 538,
   "metadata": {},
   "outputs": [],
   "source": [
    "C = get_C(D)\n",
    "L = get_L(C)\n",
    "N = get_keigvec(L, k)\n",
    "N = N.real"
   ]
  },
  {
   "cell_type": "code",
   "execution_count": 539,
   "metadata": {},
   "outputs": [],
   "source": [
    "cost = get_cost(N, P)\n",
    "indexes = hungarian_alg(cost)"
   ]
  },
  {
   "cell_type": "code",
   "execution_count": 540,
   "metadata": {},
   "outputs": [
    {
     "name": "stdout",
     "output_type": "stream",
     "text": [
      "[[ 1. 59.]\n",
      " [ 2. 16.]\n",
      " [ 3. 19.]\n",
      " [ 4. 45.]\n",
      " [ 5. 23.]\n",
      " [ 6. 66.]\n",
      " [ 7. 20.]\n",
      " [ 8. 74.]\n",
      " [ 9. 28.]\n",
      " [10. 31.]\n",
      " [11. 17.]\n",
      " [12. 62.]\n",
      " [13. 14.]\n",
      " [14. 40.]\n",
      " [15. 58.]\n",
      " [16.  2.]\n",
      " [17. 68.]\n",
      " [18. 42.]\n",
      " [19. 46.]\n",
      " [20. 76.]\n",
      " [21. 37.]\n",
      " [22.  7.]\n",
      " [23. 38.]\n",
      " [24. 44.]\n",
      " [25. 21.]\n",
      " [26. 48.]\n",
      " [27. 63.]\n",
      " [28. 64.]\n",
      " [29.  8.]\n",
      " [30. 79.]\n",
      " [31. 33.]\n",
      " [32. 13.]\n",
      " [33. 50.]\n",
      " [34. 65.]\n",
      " [35. 54.]\n",
      " [36. 69.]\n",
      " [37. 77.]\n",
      " [38. 80.]\n",
      " [39. 34.]\n",
      " [40. 25.]\n",
      " [41. 56.]\n",
      " [42. 61.]\n",
      " [43.  6.]\n",
      " [44. 32.]\n",
      " [45. 18.]\n",
      " [46. 39.]\n",
      " [47. 35.]\n",
      " [48. 24.]\n",
      " [49. 57.]\n",
      " [50. 53.]\n",
      " [51. 29.]\n",
      " [52. 30.]\n",
      " [53. 26.]\n",
      " [54. 71.]\n",
      " [55. 67.]\n",
      " [56. 49.]\n",
      " [57. 22.]\n",
      " [58. 72.]\n",
      " [59. 70.]\n",
      " [60.  3.]\n",
      " [61. 75.]\n",
      " [62. 12.]\n",
      " [63.  4.]\n",
      " [64.  5.]\n",
      " [65. 15.]\n",
      " [66. 47.]\n",
      " [67. 73.]\n",
      " [68. 52.]\n",
      " [69. 41.]\n",
      " [70. 11.]\n",
      " [71. 36.]\n",
      " [72. 55.]\n",
      " [73. 60.]\n",
      " [74. 43.]\n",
      " [75.  1.]\n",
      " [76.  9.]\n",
      " [77. 10.]\n",
      " [78. 78.]\n",
      " [79. 51.]\n",
      " [80. 27.]]\n",
      "0.0\n"
     ]
    }
   ],
   "source": [
    "indexes=np.asarray(indexes)\n",
    "print(indexes+np.ones([M,2]))\n",
    "print(get_accuracy(senzori[:, 1], (indexes+np.ones([M,2]))[:, 1]))"
   ]
  },
  {
   "cell_type": "code",
   "execution_count": 541,
   "metadata": {},
   "outputs": [],
   "source": [
    "N[:,0] = -N[:,0]"
   ]
  },
  {
   "cell_type": "code",
   "execution_count": 542,
   "metadata": {},
   "outputs": [],
   "source": [
    "cost = get_cost(N, P)\n",
    "indexes = hungarian_alg(cost)"
   ]
  },
  {
   "cell_type": "code",
   "execution_count": 543,
   "metadata": {},
   "outputs": [
    {
     "name": "stdout",
     "output_type": "stream",
     "text": [
      "[[ 1. 19.]\n",
      " [ 2. 72.]\n",
      " [ 3. 59.]\n",
      " [ 4. 37.]\n",
      " [ 5. 63.]\n",
      " [ 6. 10.]\n",
      " [ 7. 60.]\n",
      " [ 8.  2.]\n",
      " [ 9. 52.]\n",
      " [10. 55.]\n",
      " [11. 57.]\n",
      " [12. 22.]\n",
      " [13. 70.]\n",
      " [14. 48.]\n",
      " [15. 18.]\n",
      " [16. 74.]\n",
      " [17. 12.]\n",
      " [18. 34.]\n",
      " [19. 38.]\n",
      " [20.  4.]\n",
      " [21. 45.]\n",
      " [22. 79.]\n",
      " [23. 46.]\n",
      " [24. 36.]\n",
      " [25. 61.]\n",
      " [26. 40.]\n",
      " [27. 23.]\n",
      " [28. 24.]\n",
      " [29. 80.]\n",
      " [30.  7.]\n",
      " [31. 41.]\n",
      " [32. 69.]\n",
      " [33. 26.]\n",
      " [34.  9.]\n",
      " [35. 30.]\n",
      " [36. 13.]\n",
      " [37.  5.]\n",
      " [38.  8.]\n",
      " [39. 42.]\n",
      " [40. 49.]\n",
      " [41. 32.]\n",
      " [42. 21.]\n",
      " [43. 78.]\n",
      " [44. 56.]\n",
      " [45. 58.]\n",
      " [46. 47.]\n",
      " [47. 43.]\n",
      " [48. 64.]\n",
      " [49. 17.]\n",
      " [50. 29.]\n",
      " [51. 53.]\n",
      " [52. 54.]\n",
      " [53. 50.]\n",
      " [54. 15.]\n",
      " [55. 11.]\n",
      " [56. 25.]\n",
      " [57. 62.]\n",
      " [58. 16.]\n",
      " [59. 14.]\n",
      " [60. 75.]\n",
      " [61.  3.]\n",
      " [62. 68.]\n",
      " [63. 76.]\n",
      " [64. 77.]\n",
      " [65. 71.]\n",
      " [66. 39.]\n",
      " [67.  1.]\n",
      " [68. 28.]\n",
      " [69. 33.]\n",
      " [70. 67.]\n",
      " [71. 44.]\n",
      " [72. 31.]\n",
      " [73. 20.]\n",
      " [74. 35.]\n",
      " [75. 73.]\n",
      " [76. 65.]\n",
      " [77. 66.]\n",
      " [78.  6.]\n",
      " [79. 27.]\n",
      " [80. 51.]]\n",
      "0.95\n"
     ]
    }
   ],
   "source": [
    "indexes=np.asarray(indexes)\n",
    "print(indexes+np.ones([M,2]))\n",
    "print(get_accuracy(senzori[:, 1], (indexes+np.ones([M,2]))[:, 1]))"
   ]
  },
  {
   "cell_type": "code",
   "execution_count": 544,
   "metadata": {},
   "outputs": [],
   "source": [
    "N[:,0] = -N[:,0] # da vratimo zbog 1. slucaja\n",
    "N[:,1] = -N[:,1]\n",
    "\n",
    "cost = get_cost(N, P)\n",
    "indexes = hungarian_alg(cost)"
   ]
  },
  {
   "cell_type": "code",
   "execution_count": 545,
   "metadata": {},
   "outputs": [
    {
     "name": "stdout",
     "output_type": "stream",
     "text": [
      "[[ 1. 62.]\n",
      " [ 2.  9.]\n",
      " [ 3. 22.]\n",
      " [ 4. 44.]\n",
      " [ 5. 18.]\n",
      " [ 6. 71.]\n",
      " [ 7. 21.]\n",
      " [ 8. 79.]\n",
      " [ 9. 29.]\n",
      " [10. 26.]\n",
      " [11. 24.]\n",
      " [12. 59.]\n",
      " [13. 11.]\n",
      " [14. 33.]\n",
      " [15. 63.]\n",
      " [16.  7.]\n",
      " [17. 69.]\n",
      " [18. 47.]\n",
      " [19. 43.]\n",
      " [20. 77.]\n",
      " [21. 36.]\n",
      " [22.  2.]\n",
      " [23. 35.]\n",
      " [24. 45.]\n",
      " [25. 20.]\n",
      " [26. 41.]\n",
      " [27. 58.]\n",
      " [28. 57.]\n",
      " [29.  1.]\n",
      " [30. 74.]\n",
      " [31. 40.]\n",
      " [32. 12.]\n",
      " [33. 55.]\n",
      " [34. 72.]\n",
      " [35. 51.]\n",
      " [36. 68.]\n",
      " [37. 76.]\n",
      " [38. 73.]\n",
      " [39. 39.]\n",
      " [40. 32.]\n",
      " [41. 49.]\n",
      " [42. 60.]\n",
      " [43.  3.]\n",
      " [44. 25.]\n",
      " [45. 23.]\n",
      " [46. 34.]\n",
      " [47. 38.]\n",
      " [48. 17.]\n",
      " [49. 64.]\n",
      " [50. 52.]\n",
      " [51. 28.]\n",
      " [52. 27.]\n",
      " [53. 31.]\n",
      " [54. 66.]\n",
      " [55. 70.]\n",
      " [56. 56.]\n",
      " [57. 19.]\n",
      " [58. 65.]\n",
      " [59. 67.]\n",
      " [60.  6.]\n",
      " [61. 78.]\n",
      " [62. 13.]\n",
      " [63.  5.]\n",
      " [64.  4.]\n",
      " [65. 10.]\n",
      " [66. 42.]\n",
      " [67. 80.]\n",
      " [68. 53.]\n",
      " [69. 48.]\n",
      " [70. 14.]\n",
      " [71. 37.]\n",
      " [72. 50.]\n",
      " [73. 61.]\n",
      " [74. 46.]\n",
      " [75.  8.]\n",
      " [76. 16.]\n",
      " [77. 15.]\n",
      " [78. 75.]\n",
      " [79. 54.]\n",
      " [80. 30.]]\n",
      "0.0\n"
     ]
    }
   ],
   "source": [
    "indexes=np.asarray(indexes)\n",
    "print(indexes+np.ones([M,2]))\n",
    "print(get_accuracy(senzori[:, 1], (indexes+np.ones([M,2]))[:, 1]))"
   ]
  },
  {
   "cell_type": "code",
   "execution_count": 546,
   "metadata": {},
   "outputs": [],
   "source": [
    "N[:,0] = -N[:,0]\n",
    "\n",
    "cost = get_cost(N, P)\n",
    "indexes = hungarian_alg(cost)"
   ]
  },
  {
   "cell_type": "code",
   "execution_count": 547,
   "metadata": {},
   "outputs": [
    {
     "name": "stdout",
     "output_type": "stream",
     "text": [
      "[[ 1. 22.]\n",
      " [ 2. 65.]\n",
      " [ 3. 62.]\n",
      " [ 4. 36.]\n",
      " [ 5. 58.]\n",
      " [ 6. 15.]\n",
      " [ 7. 61.]\n",
      " [ 8.  7.]\n",
      " [ 9. 53.]\n",
      " [10. 50.]\n",
      " [11. 64.]\n",
      " [12. 19.]\n",
      " [13. 67.]\n",
      " [14. 41.]\n",
      " [15. 23.]\n",
      " [16. 79.]\n",
      " [17. 13.]\n",
      " [18. 39.]\n",
      " [19. 35.]\n",
      " [20.  5.]\n",
      " [21. 44.]\n",
      " [22. 74.]\n",
      " [23. 43.]\n",
      " [24. 37.]\n",
      " [25. 60.]\n",
      " [26. 33.]\n",
      " [27. 18.]\n",
      " [28. 17.]\n",
      " [29. 73.]\n",
      " [30.  2.]\n",
      " [31. 48.]\n",
      " [32. 68.]\n",
      " [33. 31.]\n",
      " [34. 16.]\n",
      " [35. 27.]\n",
      " [36. 12.]\n",
      " [37.  4.]\n",
      " [38.  1.]\n",
      " [39. 47.]\n",
      " [40. 56.]\n",
      " [41. 25.]\n",
      " [42. 20.]\n",
      " [43. 75.]\n",
      " [44. 49.]\n",
      " [45. 63.]\n",
      " [46. 42.]\n",
      " [47. 46.]\n",
      " [48. 57.]\n",
      " [49. 24.]\n",
      " [50. 28.]\n",
      " [51. 52.]\n",
      " [52. 51.]\n",
      " [53. 55.]\n",
      " [54. 10.]\n",
      " [55. 14.]\n",
      " [56. 32.]\n",
      " [57. 59.]\n",
      " [58.  9.]\n",
      " [59. 11.]\n",
      " [60. 78.]\n",
      " [61.  6.]\n",
      " [62. 69.]\n",
      " [63. 77.]\n",
      " [64. 76.]\n",
      " [65. 66.]\n",
      " [66. 34.]\n",
      " [67.  8.]\n",
      " [68. 29.]\n",
      " [69. 40.]\n",
      " [70. 70.]\n",
      " [71. 45.]\n",
      " [72. 26.]\n",
      " [73. 21.]\n",
      " [74. 38.]\n",
      " [75. 80.]\n",
      " [76. 72.]\n",
      " [77. 71.]\n",
      " [78.  3.]\n",
      " [79. 30.]\n",
      " [80. 54.]]\n",
      "0.0\n"
     ]
    }
   ],
   "source": [
    "indexes=np.asarray(indexes)\n",
    "print(indexes+np.ones([M,2]))\n",
    "print(get_accuracy(senzori[:, 1], (indexes+np.ones([M,2]))[:, 1]))"
   ]
  },
  {
   "cell_type": "markdown",
   "metadata": {},
   "source": [
    "### Ovo izvrtit prije visestrukog koristenja fje hungarian_alg da ne ispisuje"
   ]
  },
  {
   "cell_type": "code",
   "execution_count": 65,
   "metadata": {},
   "outputs": [],
   "source": [
    "# ovaj runat prije visestrukog koristenja ove fje\n",
    "def hungarian_alg(cost):\n",
    "    m = Munkres()\n",
    "    indexes = m.compute(cost)\n",
    "    #print_matrix(cost, msg='Lowest cost through this matrix:')\n",
    "    total = 0\n",
    "    for row, column in indexes:\n",
    "        value = cost[row][column]\n",
    "        total += value\n",
    "        #print(f'({row+1}, {column+1}) -> {value}')\n",
    "    #print(f'total cost: {total}')\n",
    "    \n",
    "    return np.asarray(indexes)"
   ]
  },
  {
   "cell_type": "markdown",
   "metadata": {},
   "source": [
    "# SNR"
   ]
  },
  {
   "cell_type": "markdown",
   "metadata": {},
   "source": [
    "### Primjer 1"
   ]
  },
  {
   "cell_type": "code",
   "execution_count": 27,
   "metadata": {},
   "outputs": [],
   "source": [
    "# dovoljno jednom provrtit\n",
    "x = 10\n",
    "y = 8\n",
    "pozicije = []\n",
    "for i in range(0, x):\n",
    "    for j in range(0, y):\n",
    "        pozicije.append([i+1, j+1])\n",
    "pozicije = np.asarray(pozicije)\n",
    "\n",
    "M = np.shape(pozicije)[0]\n",
    "D_positions = position_distance(pozicije)\n",
    "C_positions = get_C(D_positions)\n",
    "L_positions = get_L(C_positions)\n",
    "k = 2\n",
    "P = get_keigvec(L_positions, k)"
   ]
  },
  {
   "cell_type": "code",
   "execution_count": 29,
   "metadata": {},
   "outputs": [
    {
     "data": {
      "image/png": "[encoded data removed]",
      "text/plain": [
       "<Figure size 432x288 with 1 Axes>"
      ]
     },
     "metadata": {
      "needs_background": "light"
     },
     "output_type": "display_data"
    }
   ],
   "source": [
    "plt.plot(pozicije[:, 0], pozicije[:, 1], 'ro')\n",
    "plt.title(\"Zadane pozicije\")\n",
    "plt.ylabel('y')\n",
    "plt.xlabel('x')\n",
    "plt.grid()\n",
    "plt.show()"
   ]
  },
  {
   "cell_type": "code",
   "execution_count": 29,
   "metadata": {},
   "outputs": [],
   "source": [
    "SNR_values = [1, 5, 10, 30, 100, 300, 1000]"
   ]
  },
  {
   "cell_type": "code",
   "execution_count": 30,
   "metadata": {},
   "outputs": [],
   "source": [
    "sredina = np.zeros([len(SNR_values), 1])\n",
    "donja = np.zeros([len(SNR_values), 1])\n",
    "gornja = np.zeros([len(SNR_values), 1])\n",
    "    \n",
    "B = 10\n",
    "    \n",
    "for snr in range(0, len(SNR_values)):\n",
    "    sredine = np.zeros([B, 1])\n",
    "    for i in range(0, B):\n",
    "        senzori = get_sensor(M)\n",
    "        RSSI_noiseless = get_RSSI_noiseless_square(D_positions, senzori)\n",
    "        stdev = np.mean(RSSI_noiseless) / SNR_values[snr]\n",
    "        noise = np.zeros([M, M])\n",
    "        for j in range(0, M):\n",
    "            for k in range(0, M):\n",
    "                if (j != k):\n",
    "                    while 1:\n",
    "                        x = np.random.normal(0, stdev)\n",
    "                        if(RSSI_noiseless[j, k] + x > 0 and RSSI_noiseless[j, k] + x <= 10):\n",
    "                            noise[j, k] = x\n",
    "                            break\n",
    "\n",
    "        RSSI = RSSI_noiseless + noise\n",
    "        \n",
    "        D = np.zeros([M,M])\n",
    "        for j in range(0, M):\n",
    "            for k in range(0, M):\n",
    "                D[j, k] = np.sqrt((1 - RSSI[j, k]/10) / RSSI[j, k])\n",
    "        C = get_C(D)\n",
    "        L = get_L(C)\n",
    "        N = get_keigvec(L, 2)\n",
    "        N = N.real\n",
    "        \n",
    "        sredine[i] = get_best_accuracy(N, P, senzori)\n",
    "        print(f'SNR: {SNR_values[snr]} : {i+1}/{B}')\n",
    "    \n",
    "    sredina[snr], donja[snr], gornja[snr] = mean_confidence_interval(sredine, 0.99)"
   ]
  },
  {
   "cell_type": "code",
   "execution_count": 39,
   "metadata": {},
   "outputs": [
    {
     "data": {
      "image/png": "[encoded data removed]",
      "text/plain": [
       "<Figure size 432x288 with 1 Axes>"
      ]
     },
     "metadata": {
      "needs_background": "light"
     },
     "output_type": "display_data"
    }
   ],
   "source": [
    "plt.plot(SNR_values, sredina, color=\"black\")\n",
    "plt.plot(SNR_values, donja, color=\"red\")\n",
    "plt.plot(SNR_values, gornja, color=\"red\")\n",
    "plt.ylabel('accuracy')\n",
    "plt.xlabel('snr')\n",
    "plt.grid()\n",
    "plt.show()"
   ]
  },
  {
   "cell_type": "markdown",
   "metadata": {},
   "source": [
    "### Primjer 2"
   ]
  },
  {
   "cell_type": "code",
   "execution_count": 32,
   "metadata": {},
   "outputs": [],
   "source": [
    "x = 10\n",
    "y = 8\n",
    "pozicije = []\n",
    "for i in range(0, x):\n",
    "    for j in range(0, y):\n",
    "        pozicije.append([random.uniform(1, x), random.uniform(1, y)])\n",
    "pozicije = np.asarray(pozicije)"
   ]
  },
  {
   "cell_type": "code",
   "execution_count": 33,
   "metadata": {},
   "outputs": [
    {
     "data": {
      "image/png": "[encoded data removed]",
      "text/plain": [
       "<Figure size 432x288 with 1 Axes>"
      ]
     },
     "metadata": {
      "needs_background": "light"
     },
     "output_type": "display_data"
    }
   ],
   "source": [
    "plt.plot(pozicije[:, 0], pozicije[:, 1], 'ro')\n",
    "plt.title(\"Zadane pozicije\")\n",
    "plt.ylabel('y')\n",
    "plt.xlabel('x')\n",
    "plt.grid()\n",
    "plt.show()"
   ]
  },
  {
   "cell_type": "code",
   "execution_count": 18,
   "metadata": {},
   "outputs": [],
   "source": [
    "M = np.shape(pozicije)[0]\n",
    "D_positions = position_distance(pozicije)\n",
    "C_positions = get_C(D_positions)\n",
    "L_positions = get_L(C_positions)\n",
    "k = 2\n",
    "P = get_keigvec(L_positions, k)"
   ]
  },
  {
   "cell_type": "code",
   "execution_count": 25,
   "metadata": {},
   "outputs": [
    {
     "name": "stdout",
     "output_type": "stream",
     "text": [
      "SNR: 1 : 1/10\n",
      "SNR: 1 : 2/10\n",
      "SNR: 1 : 3/10\n",
      "SNR: 1 : 4/10\n",
      "SNR: 1 : 5/10\n",
      "SNR: 1 : 6/10\n",
      "SNR: 1 : 7/10\n",
      "SNR: 1 : 8/10\n",
      "SNR: 1 : 9/10\n",
      "SNR: 1 : 10/10\n",
      "SNR: 10 : 1/10\n",
      "SNR: 10 : 2/10\n",
      "SNR: 10 : 3/10\n",
      "SNR: 10 : 4/10\n",
      "SNR: 10 : 5/10\n",
      "SNR: 10 : 6/10\n",
      "SNR: 10 : 7/10\n",
      "SNR: 10 : 8/10\n",
      "SNR: 10 : 9/10\n",
      "SNR: 10 : 10/10\n",
      "SNR: 100 : 1/10\n",
      "SNR: 100 : 2/10\n",
      "SNR: 100 : 3/10\n",
      "SNR: 100 : 4/10\n",
      "SNR: 100 : 5/10\n",
      "SNR: 100 : 6/10\n",
      "SNR: 100 : 7/10\n",
      "SNR: 100 : 8/10\n",
      "SNR: 100 : 9/10\n",
      "SNR: 100 : 10/10\n",
      "SNR: 500 : 1/10\n",
      "SNR: 500 : 2/10\n",
      "SNR: 500 : 3/10\n",
      "SNR: 500 : 4/10\n",
      "SNR: 500 : 5/10\n",
      "SNR: 500 : 6/10\n",
      "SNR: 500 : 7/10\n",
      "SNR: 500 : 8/10\n",
      "SNR: 500 : 9/10\n",
      "SNR: 500 : 10/10\n",
      "SNR: 1000 : 1/10\n",
      "SNR: 1000 : 2/10\n",
      "SNR: 1000 : 3/10\n",
      "SNR: 1000 : 4/10\n",
      "SNR: 1000 : 5/10\n",
      "SNR: 1000 : 6/10\n",
      "SNR: 1000 : 7/10\n",
      "SNR: 1000 : 8/10\n",
      "SNR: 1000 : 9/10\n",
      "SNR: 1000 : 10/10\n"
     ]
    }
   ],
   "source": [
    "SNR_values = [1, 10, 100, 500, 1000]\n",
    "\n",
    "sredina = np.zeros([len(SNR_values), 1])\n",
    "donja = np.zeros([len(SNR_values), 1])\n",
    "gornja = np.zeros([len(SNR_values), 1])\n",
    "    \n",
    "B = 10\n",
    "    \n",
    "for snr in range(0, len(SNR_values)):\n",
    "    sredine = np.zeros([B, 1])\n",
    "    for i in range(0, B):\n",
    "        senzori = get_sensor(M)\n",
    "        RSSI_noiseless = get_RSSI_noiseless_square(D_positions, senzori)\n",
    "        stdev = np.mean(RSSI_noiseless) / SNR_values[snr]\n",
    "        noise = np.zeros([M, M])\n",
    "        for j in range(0, M):\n",
    "            for k in range(0, M):\n",
    "                if (j != k):\n",
    "                    while 1:\n",
    "                        x = np.random.normal(0, stdev)\n",
    "                        if(RSSI_noiseless[j, k] + x > 0 and RSSI_noiseless[j, k] + x <= 10):\n",
    "                            noise[j, k] = x\n",
    "                            break\n",
    "\n",
    "        RSSI = RSSI_noiseless + noise\n",
    "        \n",
    "        D = np.zeros([M,M])\n",
    "        for j in range(0, M):\n",
    "            for k in range(0, M):\n",
    "                D[j, k] = np.sqrt((1 - RSSI[j, k]/10) / RSSI[j, k])\n",
    "        C = get_C(D)\n",
    "        L = get_L(C)\n",
    "        N = get_keigvec(L, 2)\n",
    "        N = N.real\n",
    "        \n",
    "        sredine[i] = get_best_accuracy(N, P, senzori)\n",
    "        print(f'SNR: {SNR_values[snr]} : {i+1}/{B}')\n",
    "    \n",
    "    sredina[snr], donja[snr], gornja[snr] = mean_confidence_interval(sredine, 0.99)"
   ]
  },
  {
   "cell_type": "code",
   "execution_count": 26,
   "metadata": {},
   "outputs": [
    {
     "data": {
      "image/png": "[encoded data removed]",
      "text/plain": [
       "<Figure size 432x288 with 1 Axes>"
      ]
     },
     "metadata": {
      "needs_background": "light"
     },
     "output_type": "display_data"
    }
   ],
   "source": [
    "plt.plot(SNR_values, sredina, color=\"black\")\n",
    "plt.plot(SNR_values, donja, color=\"red\")\n",
    "plt.plot(SNR_values, gornja, color=\"red\")\n",
    "plt.ylabel('accuracy')\n",
    "plt.xlabel('snr')\n",
    "plt.grid()\n",
    "plt.show()"
   ]
  },
  {
   "cell_type": "markdown",
   "metadata": {},
   "source": [
    "### Primjer 3 / pokusaj"
   ]
  },
  {
   "cell_type": "code",
   "execution_count": 105,
   "metadata": {},
   "outputs": [],
   "source": [
    "# i kad uzmem neki daljnji vektor, dobivam jos losije rezultate"
   ]
  },
  {
   "cell_type": "code",
   "execution_count": 104,
   "metadata": {},
   "outputs": [],
   "source": [
    "x = 20\n",
    "y = 2\n",
    "pozicije = []\n",
    "for i in range(0, x):\n",
    "    for j in range(0, y):\n",
    "        pozicije.append([i + 1, j + 1])\n",
    "pozicije = np.asarray(pozicije)"
   ]
  },
  {
   "cell_type": "code",
   "execution_count": 77,
   "metadata": {},
   "outputs": [
    {
     "data": {
      "image/png": "[encoded data removed]",
      "text/plain": [
       "<Figure size 432x288 with 1 Axes>"
      ]
     },
     "metadata": {
      "needs_background": "light"
     },
     "output_type": "display_data"
    }
   ],
   "source": [
    "plt.plot(pozicije[:, 0], pozicije[:, 1], 'ro')\n",
    "plt.title(\"Zadane pozicije\")\n",
    "plt.ylim([0, 20])\n",
    "plt.ylabel('y')\n",
    "plt.xlabel('x')\n",
    "plt.grid()\n",
    "plt.show()"
   ]
  },
  {
   "cell_type": "code",
   "execution_count": 62,
   "metadata": {},
   "outputs": [],
   "source": [
    "M = np.shape(pozicije)[0]\n",
    "D_positions = position_distance(pozicije)\n",
    "C_positions = get_C(D_positions)\n",
    "L_positions = get_L(C_positions)"
   ]
  },
  {
   "cell_type": "markdown",
   "metadata": {},
   "source": [
    "1. slucaj"
   ]
  },
  {
   "cell_type": "code",
   "execution_count": 63,
   "metadata": {},
   "outputs": [],
   "source": [
    "k = 2\n",
    "P = get_keigvec(L_positions, k)"
   ]
  },
  {
   "cell_type": "code",
   "execution_count": 68,
   "metadata": {},
   "outputs": [
    {
     "name": "stdout",
     "output_type": "stream",
     "text": [
      "SNR: 1 : 1/10\n",
      "SNR: 1 : 2/10\n",
      "SNR: 1 : 3/10\n",
      "SNR: 1 : 4/10\n",
      "SNR: 1 : 5/10\n",
      "SNR: 1 : 6/10\n",
      "SNR: 1 : 7/10\n",
      "SNR: 1 : 8/10\n",
      "SNR: 1 : 9/10\n",
      "SNR: 1 : 10/10\n",
      "SNR: 10 : 1/10\n",
      "SNR: 10 : 2/10\n",
      "SNR: 10 : 3/10\n",
      "SNR: 10 : 4/10\n",
      "SNR: 10 : 5/10\n",
      "SNR: 10 : 6/10\n",
      "SNR: 10 : 7/10\n",
      "SNR: 10 : 8/10\n",
      "SNR: 10 : 9/10\n",
      "SNR: 10 : 10/10\n",
      "SNR: 100 : 1/10\n",
      "SNR: 100 : 2/10\n",
      "SNR: 100 : 3/10\n",
      "SNR: 100 : 4/10\n",
      "SNR: 100 : 5/10\n",
      "SNR: 100 : 6/10\n",
      "SNR: 100 : 7/10\n",
      "SNR: 100 : 8/10\n",
      "SNR: 100 : 9/10\n",
      "SNR: 100 : 10/10\n",
      "SNR: 500 : 1/10\n",
      "SNR: 500 : 2/10\n",
      "SNR: 500 : 3/10\n",
      "SNR: 500 : 4/10\n",
      "SNR: 500 : 5/10\n",
      "SNR: 500 : 6/10\n",
      "SNR: 500 : 7/10\n",
      "SNR: 500 : 8/10\n",
      "SNR: 500 : 9/10\n",
      "SNR: 500 : 10/10\n",
      "SNR: 1000 : 1/10\n",
      "SNR: 1000 : 2/10\n",
      "SNR: 1000 : 3/10\n",
      "SNR: 1000 : 4/10\n",
      "SNR: 1000 : 5/10\n",
      "SNR: 1000 : 6/10\n",
      "SNR: 1000 : 7/10\n",
      "SNR: 1000 : 8/10\n",
      "SNR: 1000 : 9/10\n",
      "SNR: 1000 : 10/10\n"
     ]
    }
   ],
   "source": [
    "SNR_values = [1, 10, 100, 500, 1000]\n",
    "\n",
    "sredina1 = np.zeros([len(SNR_values), 1])\n",
    "donja1 = np.zeros([len(SNR_values), 1])\n",
    "gornja1 = np.zeros([len(SNR_values), 1])\n",
    "    \n",
    "B = 10\n",
    "    \n",
    "for snr in range(0, len(SNR_values)):\n",
    "    sredine = np.zeros([B, 1])\n",
    "    for i in range(0, B):\n",
    "        senzori = get_sensor(M)\n",
    "        RSSI_noiseless = get_RSSI_noiseless_square(D_positions, senzori)\n",
    "        stdev = np.mean(RSSI_noiseless) / SNR_values[snr]\n",
    "        noise = np.zeros([M, M])\n",
    "        for j in range(0, M):\n",
    "            for k in range(0, M):\n",
    "                if (j != k):\n",
    "                    while 1:\n",
    "                        x = np.random.normal(0, stdev)\n",
    "                        if(RSSI_noiseless[j, k] + x > 0 and RSSI_noiseless[j, k] + x <= 10):\n",
    "                            noise[j, k] = x\n",
    "                            break\n",
    "\n",
    "        RSSI = RSSI_noiseless + noise\n",
    "        \n",
    "        D = np.zeros([M,M])\n",
    "        for j in range(0, M):\n",
    "            for k in range(0, M):\n",
    "                D[j, k] = np.sqrt((1 - RSSI[j, k]/10) / RSSI[j, k])\n",
    "        C = get_C(D)\n",
    "        L = get_L(C)\n",
    "        N = get_keigvec(L, 2)\n",
    "        N = N.real\n",
    "        \n",
    "        sredine[i] = get_best_accuracy(N, P, senzori)\n",
    "        print(f'SNR: {SNR_values[snr]} : {i+1}/{B}')\n",
    "    \n",
    "    sredina1[snr], donja1[snr], gornja1[snr] = mean_confidence_interval(sredine, 0.99)"
   ]
  },
  {
   "cell_type": "markdown",
   "metadata": {},
   "source": [
    "2. slucaj, uzimamo 1. i 4. najmanji svoj. vektor, dakle preskacemo 2. i 3."
   ]
  },
  {
   "cell_type": "code",
   "execution_count": 100,
   "metadata": {},
   "outputs": [],
   "source": [
    "w, v = np.linalg.eig(L)\n",
    "w = np.asarray(w)\n",
    "v = np.asarray(v)\n",
    "    \n",
    "idx = np.argsort(w)\n",
    "P = v[:,[idx[1], idx[4]]]\n",
    "\n",
    "# PRIPAZIT, moramo i u N napravit promjene !"
   ]
  },
  {
   "cell_type": "code",
   "execution_count": 101,
   "metadata": {},
   "outputs": [
    {
     "name": "stderr",
     "output_type": "stream",
     "text": [
      "C:\\Users\\Tin\\anaconda3\\lib\\site-packages\\ipykernel_launcher.py:5: ComplexWarning: Casting complex values to real discards the imaginary part\n",
      "  \"\"\"\n"
     ]
    },
    {
     "name": "stdout",
     "output_type": "stream",
     "text": [
      "SNR: 1 : 1/10\n",
      "SNR: 1 : 2/10\n",
      "SNR: 1 : 3/10\n",
      "SNR: 1 : 4/10\n",
      "SNR: 1 : 5/10\n",
      "SNR: 1 : 6/10\n",
      "SNR: 1 : 7/10\n",
      "SNR: 1 : 8/10\n",
      "SNR: 1 : 9/10\n",
      "SNR: 1 : 10/10\n",
      "SNR: 10 : 1/10\n",
      "SNR: 10 : 2/10\n",
      "SNR: 10 : 3/10\n",
      "SNR: 10 : 4/10\n",
      "SNR: 10 : 5/10\n",
      "SNR: 10 : 6/10\n",
      "SNR: 10 : 7/10\n",
      "SNR: 10 : 8/10\n",
      "SNR: 10 : 9/10\n",
      "SNR: 10 : 10/10\n",
      "SNR: 100 : 1/10\n",
      "SNR: 100 : 2/10\n",
      "SNR: 100 : 3/10\n",
      "SNR: 100 : 4/10\n",
      "SNR: 100 : 5/10\n",
      "SNR: 100 : 6/10\n",
      "SNR: 100 : 7/10\n",
      "SNR: 100 : 8/10\n",
      "SNR: 100 : 9/10\n",
      "SNR: 100 : 10/10\n",
      "SNR: 500 : 1/10\n",
      "SNR: 500 : 2/10\n",
      "SNR: 500 : 3/10\n",
      "SNR: 500 : 4/10\n",
      "SNR: 500 : 5/10\n",
      "SNR: 500 : 6/10\n",
      "SNR: 500 : 7/10\n",
      "SNR: 500 : 8/10\n",
      "SNR: 500 : 9/10\n",
      "SNR: 500 : 10/10\n",
      "SNR: 1000 : 1/10\n",
      "SNR: 1000 : 2/10\n",
      "SNR: 1000 : 3/10\n",
      "SNR: 1000 : 4/10\n",
      "SNR: 1000 : 5/10\n",
      "SNR: 1000 : 6/10\n",
      "SNR: 1000 : 7/10\n",
      "SNR: 1000 : 8/10\n",
      "SNR: 1000 : 9/10\n",
      "SNR: 1000 : 10/10\n"
     ]
    }
   ],
   "source": [
    "sredina2 = np.zeros([len(SNR_values), 1])\n",
    "donja2 = np.zeros([len(SNR_values), 1])\n",
    "gornja2 = np.zeros([len(SNR_values), 1])\n",
    "    \n",
    "B = 10\n",
    "    \n",
    "for snr in range(0, len(SNR_values)):\n",
    "    sredine = np.zeros([B, 1])\n",
    "    for i in range(0, B):\n",
    "        senzori = get_sensor(M)\n",
    "        RSSI_noiseless = get_RSSI_noiseless_square(D_positions, senzori)\n",
    "        stdev = np.mean(RSSI_noiseless) / SNR_values[snr]\n",
    "        noise = np.zeros([M, M])\n",
    "        for j in range(0, M):\n",
    "            for k in range(0, M):\n",
    "                if (j != k):\n",
    "                    while 1:\n",
    "                        x = np.random.normal(0, stdev)\n",
    "                        if(RSSI_noiseless[j, k] + x > 0 and RSSI_noiseless[j, k] + x <= 10):\n",
    "                            noise[j, k] = x\n",
    "                            break\n",
    "\n",
    "        RSSI = RSSI_noiseless + noise\n",
    "        \n",
    "        D = np.zeros([M,M])\n",
    "        for j in range(0, M):\n",
    "            for k in range(0, M):\n",
    "                D[j, k] = np.sqrt((1 - RSSI[j, k]/10) / RSSI[j, k])\n",
    "        C = get_C(D)\n",
    "        L = get_L(C)\n",
    "        \n",
    "        w, v = np.linalg.eig(L)\n",
    "        w.real\n",
    "        v.real\n",
    "        w = np.asarray(w)\n",
    "        v = np.asarray(v)\n",
    "        idx = np.argsort(w)\n",
    "        N = v[:,[idx[1], idx[4]]]\n",
    "        \n",
    "        N = N.real\n",
    "        \n",
    "        sredine[i] = get_best_accuracy(N, P, senzori)\n",
    "        print(f'SNR: {SNR_values[snr]} : {i+1}/{B}')\n",
    "    \n",
    "    sredina2[snr], donja2[snr], gornja2[snr] = mean_confidence_interval(sredine, 0.99)"
   ]
  },
  {
   "cell_type": "code",
   "execution_count": 67,
   "metadata": {},
   "outputs": [
    {
     "data": {
      "image/png": "[encoded data removed]",
      "text/plain": [
       "<Figure size 432x288 with 1 Axes>"
      ]
     },
     "metadata": {
      "needs_background": "light"
     },
     "output_type": "display_data"
    }
   ],
   "source": [
    "plt.plot(SNR_values, sredina, color=\"black\")\n",
    "plt.plot(SNR_values, donja, color=\"red\")\n",
    "plt.plot(SNR_values, gornja, color=\"red\")\n",
    "plt.ylabel('accuracy')\n",
    "plt.xlabel('snr')\n",
    "plt.grid()\n",
    "plt.show()"
   ]
  },
  {
   "cell_type": "code",
   "execution_count": 102,
   "metadata": {},
   "outputs": [
    {
     "data": {
      "image/png": "[encoded data removed]",
      "text/plain": [
       "<Figure size 432x288 with 1 Axes>"
      ]
     },
     "metadata": {
      "needs_background": "light"
     },
     "output_type": "display_data"
    }
   ],
   "source": [
    "plt.plot(SNR_values, sredina2, color=\"black\")\n",
    "plt.plot(SNR_values, donja2, color=\"red\")\n",
    "plt.plot(SNR_values, gornja2, color=\"red\")\n",
    "plt.ylabel('accuracy')\n",
    "plt.xlabel('snr')\n",
    "plt.grid()\n",
    "plt.show()"
   ]
  },
  {
   "cell_type": "markdown",
   "metadata": {},
   "source": [
    "## Po predavanju / pokusaj"
   ]
  },
  {
   "cell_type": "code",
   "execution_count": 180,
   "metadata": {},
   "outputs": [],
   "source": [
    "# Program to multiply two matrices using nested loops\n",
    "def matrix_mult(A, B):\n",
    "    dim1 = np.shape(A)[0]\n",
    "    dim2 = np.shape(B)[1]\n",
    "    result = np.zeros([dim1, dim2])\n",
    "\n",
    "    for i in range(dim1):\n",
    "        for j in range(dim2):\n",
    "            for k in range(dim2):\n",
    "                result[i][j] += A[i][k] * B[k][j]\n",
    "    return result"
   ]
  },
  {
   "cell_type": "code",
   "execution_count": 278,
   "metadata": {},
   "outputs": [],
   "source": [
    "x = 10\n",
    "y = 8\n",
    "pozicije = []\n",
    "for i in range(0, x):\n",
    "    for j in range(0, y):\n",
    "        pozicije.append([i+1, j+1])\n",
    "pozicije = np.asarray(pozicije)"
   ]
  },
  {
   "cell_type": "code",
   "execution_count": 279,
   "metadata": {},
   "outputs": [
    {
     "data": {
      "image/png": "[encoded data removed]",
      "text/plain": [
       "<Figure size 432x288 with 1 Axes>"
      ]
     },
     "metadata": {
      "needs_background": "light"
     },
     "output_type": "display_data"
    }
   ],
   "source": [
    "plt.plot(pozicije[:, 0], pozicije[:, 1], 'ro')\n",
    "plt.title(\"Apriori zadane pozicije\")\n",
    "plt.ylabel('y')\n",
    "plt.xlabel('x')\n",
    "plt.grid()\n",
    "plt.show()"
   ]
  },
  {
   "cell_type": "code",
   "execution_count": 280,
   "metadata": {},
   "outputs": [],
   "source": [
    "M = np.shape(pozicije)[0]\n",
    "\n",
    "# euklidske udaljenosti izmedu pozicija\n",
    "D_positions = position_distance(pozicije)\n",
    "\n",
    "# random raspodjela senzora po pozicijama\n",
    "senzori = get_sensor(M)"
   ]
  },
  {
   "cell_type": "code",
   "execution_count": 281,
   "metadata": {},
   "outputs": [],
   "source": [
    "# 1. - matrica K\n",
    "K = np.zeros(np.shape(D_positions))\n",
    "sigma = 1/(M**2) * np.sum(np.power(D_positions, 2))\n",
    "for i in range(0, M):\n",
    "    for j in range(0, M):\n",
    "        K[i, j] = gaussian_kernel(D_positions[i, j], sigma)\n",
    "        \n",
    "# matrica D\n",
    "sum_row_K = np.sum(K, axis=1)\n",
    "D = np.zeros([M, M])\n",
    "for i in range(0, M):\n",
    "    D[i, i] = sum_row_K[i]"
   ]
  },
  {
   "cell_type": "code",
   "execution_count": 282,
   "metadata": {},
   "outputs": [],
   "source": [
    "# 2. - matrica P_s\n",
    "D2 = D\n",
    "for i in range(0, M):\n",
    "    D2[i, i] = np.power(D[i, i], -1/2)\n",
    "P_s = matrix_mult(D2, matrix_mult(K, D2))\n",
    "\n",
    "# njena spektralna dekompozicija (inv(U) = t(U), tj U je ortogonalna)\n",
    "w, U = np.linalg.eig(P_s)\n",
    "lam = np.zeros([len(w), len(w)])\n",
    "for i in range(0, len(w)):\n",
    "    lam[i, i] = w[i]"
   ]
  },
  {
   "cell_type": "code",
   "execution_count": 283,
   "metadata": {},
   "outputs": [],
   "source": [
    "# 3. - matrica V\n",
    "V = matrix_mult(D2, U)"
   ]
  },
  {
   "cell_type": "code",
   "execution_count": 284,
   "metadata": {},
   "outputs": [],
   "source": [
    "# 4. - dif. koordinate u trenutku t\n",
    "t = 1\n",
    "psi = matrix_mult(np.power(lam, t), np.transpose(V))"
   ]
  },
  {
   "cell_type": "code",
   "execution_count": 285,
   "metadata": {},
   "outputs": [],
   "source": [
    "# 5. - redukcija na k redaka\n",
    "k = 2\n",
    "psi = psi[0:k, :]"
   ]
  },
  {
   "cell_type": "code",
   "execution_count": 286,
   "metadata": {},
   "outputs": [],
   "source": [
    "# sada sve isto za senzore"
   ]
  },
  {
   "cell_type": "code",
   "execution_count": 287,
   "metadata": {},
   "outputs": [],
   "source": [
    "RSSI_noiseless = get_RSSI_noiseless_square(D_positions, senzori)\n",
    "\n",
    "noise = np.random.normal(0, np.min(RSSI_noiseless)/3 ,[M, M])\n",
    "RSSI = RSSI_noiseless + abs(noise)\n",
    "# ne diramo rssi na dijagonali\n",
    "for i in range(0, M):\n",
    "    RSSI[i, i] = 10"
   ]
  },
  {
   "cell_type": "code",
   "execution_count": 288,
   "metadata": {},
   "outputs": [],
   "source": [
    "# noisy D\n",
    "noisyD = np.zeros([M,M])\n",
    "for i in range(0, M):\n",
    "    for j in range(0, M):\n",
    "        noisyD[i, j] = np.sqrt((1-RSSI[i, j]/10) / RSSI[i, j])"
   ]
  },
  {
   "cell_type": "code",
   "execution_count": 289,
   "metadata": {},
   "outputs": [],
   "source": [
    "# 1. - matrica K\n",
    "K2 = np.zeros(np.shape(noisyD))\n",
    "sigma2 = 1/(M**2) * np.sum(np.power(noisyD, 2))\n",
    "for i in range(0, M):\n",
    "    for j in range(0, M):\n",
    "        K2[i, j] = gaussian_kernel(noisyD[i, j], sigma2)\n",
    "        \n",
    "# matrica D\n",
    "sum_row_K2 = np.sum(K2, axis=1)\n",
    "DD = np.zeros([M, M])\n",
    "for i in range(0, M):\n",
    "    DD[i, i] = sum_row_K2[i]"
   ]
  },
  {
   "cell_type": "code",
   "execution_count": 290,
   "metadata": {},
   "outputs": [
    {
     "name": "stderr",
     "output_type": "stream",
     "text": [
      "C:\\Users\\Tin\\anaconda3\\lib\\site-packages\\ipykernel_launcher.py:11: ComplexWarning: Casting complex values to real discards the imaginary part\n",
      "  # This is added back by InteractiveShellApp.init_path()\n"
     ]
    }
   ],
   "source": [
    "# 2. - matrica P_s\n",
    "DD2 = DD\n",
    "for i in range(0, M):\n",
    "    DD2[i, i] = np.power(DD[i, i], -1/2)\n",
    "P_s2 = matrix_mult(DD2, matrix_mult(K2, DD2))\n",
    "\n",
    "# njena spektralna dekompozicija (inv(U) = t(U), tj U je ortogonalna)\n",
    "w2, U2 = np.linalg.eig(P_s2)\n",
    "lam2 = np.zeros([len(w2), len(w2)])\n",
    "for i in range(0, len(w2)):\n",
    "    lam2[i, i] = w2[i]"
   ]
  },
  {
   "cell_type": "code",
   "execution_count": 291,
   "metadata": {},
   "outputs": [
    {
     "name": "stderr",
     "output_type": "stream",
     "text": [
      "C:\\Users\\Tin\\anaconda3\\lib\\site-packages\\ipykernel_launcher.py:10: ComplexWarning: Casting complex values to real discards the imaginary part\n",
      "  # Remove the CWD from sys.path while we load stuff.\n"
     ]
    }
   ],
   "source": [
    "# 3. - matrica V\n",
    "V2 = matrix_mult(DD2, U2)"
   ]
  },
  {
   "cell_type": "code",
   "execution_count": 292,
   "metadata": {},
   "outputs": [],
   "source": [
    "# 4. - dif. koordinate u trenutku t\n",
    "t = 1\n",
    "psi2 = matrix_mult(np.power(lam2, t), np.transpose(V2))"
   ]
  },
  {
   "cell_type": "code",
   "execution_count": 293,
   "metadata": {},
   "outputs": [],
   "source": [
    "# 5. - redukcija na k redaka\n",
    "k = 2\n",
    "psi2 = psi2[0:k, :]"
   ]
  },
  {
   "cell_type": "code",
   "execution_count": 294,
   "metadata": {},
   "outputs": [],
   "source": [
    "###"
   ]
  },
  {
   "cell_type": "code",
   "execution_count": 295,
   "metadata": {},
   "outputs": [],
   "source": [
    "cost = np.zeros([M, M])\n",
    "for i in range(0, M):\n",
    "    for j in range(0, M):\n",
    "        cost[i, j] = euclidean_distance(psi[:, i], psi2[:, j])"
   ]
  },
  {
   "cell_type": "code",
   "execution_count": 296,
   "metadata": {},
   "outputs": [
    {
     "name": "stdout",
     "output_type": "stream",
     "text": [
      "Lowest cost through this matrix:\n",
      "[                   0.0,    0.00806772939640028, 1.3877787807814457e-17,   0.020388044077044178,    0.02522764332718928, 2.8189256484623115e-18,   0.007999128258014462,   0.014440962416849534,    0.00499586598869286,  0.0024356795676071298,                    0.0,    0.02062061610678386,   0.025441375529651252,   0.020546772401414365,   0.007962129192722508,  0.0022510304053684972,   0.023136643448543957,   0.008036981033845052,    0.02336767115626388,   0.017676439362406118,    0.02062121915620971, 3.7947076036992655e-19,  3.526367566009103e-17,   0.023385764575659742,   0.020573810923631624,     0.0144716081969249, 1.3552527156068805e-17,  0.0023849173565924473,    0.02567336360512035,  0.0024521142595940715,     0.0144745572908415,   0.020599250298453338,    0.02288810154282821,   0.017556597988820557,   0.014473487100629942,   0.014432797603867476,   0.014447946517640527,    0.02283368182144378,   0.002452251550730981,     0.0176075651578538,    0.02326882619592211,   0.005195288021507232,   0.017650318978999695,   0.023373954604358517,   0.014420660834957171,   0.002238561134124869,    0.00517178549962368,   0.025767420860823103,   0.005073102499496429,   0.017700304969708414, 3.1143707404646115e-17,    0.01130859695907995,  0.0024475510505205926,    0.01122117399272527,   0.017606788305714674,   0.025459542393019573,     0.0048708477492807,   0.020681510748505917,   0.011208195059474877,    0.02542244621013685,    0.02324333307294396,     0.0176511740079815,   0.011144107661598481,   0.017692608083798324,   0.002341058217222604,   0.007980331956865717,    0.02550272024626873,   0.011215874511328138,    0.02057054381640445,   0.025574841869004383,    0.01445135491008995,   0.011209339285835403,   0.008104175013376262,   0.008017231633084805,   0.004942790874038812,   0.011197368877510085,  0.0052014573798148675,   0.011213569040770891,   0.007864930645519973,   0.005179040688408679]\n",
      "[2.3310346708438345e-18,   0.008067729396400304,  5.421010862427522e-20,   0.020388044077044212,    0.02522764332718931, 1.0842021724855044e-18,   0.007999128258014486,    0.01444096241684956,   0.004995865988692885,   0.002435679567607152,  9.595189226496714e-18,   0.020620616106783892,   0.025441375529651283,     0.0205467724014144,    0.00796212919272253,  0.0022510304053685202,    0.02313664344854399,   0.008036981033845076,    0.02336767115626391,    0.01767643936240615,    0.02062121915620974, 1.6805133673525319e-18, 1.9786689647860456e-18,    0.02338576457565977,   0.020573810923631655,   0.014471608196924925,                    0.0,    0.00238491735659247,   0.025673363605120385,   0.002452114259594094,   0.014474557290841523,   0.020599250298453373,    0.02288810154282824,   0.017556597988820588,   0.014473487100629966,   0.014432797603867502,    0.01444794651764055,   0.022833681821443817,  0.0024522515507310037,   0.017607565157853836,   0.023268826195922142,   0.005195288021507256,   0.017650318978999727,    0.02337395460435855,   0.014420660834957197,   0.002238561134124892,   0.005171785499623707,   0.025767420860823134,   0.005073102499496456,    0.01770030496970845,                    0.0,   0.011308596959079976,   0.002447551050520616,   0.011221173992725294,   0.017606788305714705,   0.025459542393019605,   0.004870847749280725,    0.02068151074850595,   0.011208195059474901,    0.02542244621013688,   0.023243333072943996,   0.017651174007981534,   0.011144107661598505,   0.017692608083798356,  0.0023410582172226266,   0.007980331956865743,   0.025502720246268762,   0.011215874511328165,   0.020570543816404486,    0.02557484186900441,   0.014451354910089973,    0.01120933928583543,   0.008104175013376283,   0.008017231633084829,   0.004942790874038837,   0.011197368877510109,  0.0052014573798148936,   0.011213569040770916,       0.00786493064552,   0.005179040688408706]\n",
      "[ 6.288372600415926e-18,   0.008067729396400318,                    0.0,   0.020388044077044226,    0.02522764332718933,   3.74049749507499e-18,     0.0079991282580145,   0.014440962416849574,  0.0049958659886929005,  0.0024356795676071658, 1.6588293239028218e-17,   0.020620616106783906,   0.025441375529651294,   0.020546772401414413,   0.007962129192722543,  0.0022510304053685337,   0.023136643448544002,    0.00803698103384509,    0.02336767115626392,   0.017676439362406166,   0.020621219156209753,  5.312590645178972e-18, 1.8675382421062814e-17,   0.023385764575659787,   0.020573810923631673,   0.014471608196924939,                    0.0,  0.0023849173565924833,   0.025673363605120392,   0.002452114259594108,   0.014474557290841539,   0.020599250298453387,    0.02288810154282826,   0.017556597988820602,    0.01447348710062998,   0.014432797603867514,   0.014447946517640564,    0.02283368182144382,  0.0024522515507310176,    0.01760756515785385,   0.023268826195922156,   0.005195288021507272,   0.017650318978999737,    0.02337395460435856,   0.014420660834957211,  0.0022385611341249048,  0.0051717854996237225,    0.02576742086082315,   0.005073102499496471,   0.017700304969708463, 3.0086610286472748e-18,   0.011308596959079988,    0.00244755105052063,   0.011221173992725307,    0.01760678830571472,   0.025459542393019622,   0.004870847749280741,   0.020681510748505962,   0.011208195059474915,   0.025422446210136892,   0.023243333072944006,   0.017651174007981548,    0.01114410766159852,   0.017692608083798373,    0.00234105821722264,   0.007980331956865757,    0.02550272024626878,   0.011215874511328178,     0.0205705438164045,   0.025574841869004425,   0.014451354910089987,   0.011209339285835443,   0.008104175013376298,   0.008017231633084843,  0.0049427908740388524,   0.011197368877510123,   0.005201457379814909,    0.01121356904077093,   0.007864930645520013,    0.00517904068840872]\n",
      "[  4.87890977618477e-19,   0.008067729396400297, 1.6805133673525319e-18,    0.02038804407704421,   0.025227643327189308,                    0.0,   0.007999128258014479,   0.014440962416849551,   0.004995865988692881,  0.0024356795676071484,  6.776263578034403e-18,   0.020620616106783885,   0.025441375529651273,   0.020546772401414396,   0.007962129192722526,  0.0022510304053685167,   0.023136643448543985,    0.00803698103384507,   0.023367671156263904,   0.017676439362406145,    0.02062121915620974,                    0.0, 1.9000643072808465e-17,   0.023385764575659766,    0.02057381092363165,   0.014471608196924918, 1.5720931501039814e-18,  0.0023849173565924663,    0.02567336360512038,  0.0024521142595940897,   0.014474557290841517,   0.020599250298453366,   0.022888101542828245,   0.017556597988820585,   0.014473487100629961,   0.014432797603867495,   0.014447946517640545,   0.022833681821443807,      0.002452251550731,    0.01760756515785383,    0.02326882619592214,   0.005195288021507253,   0.017650318978999723,   0.023373954604358545,    0.01442066083495719,   0.002238561134124888,  0.0051717854996237034,    0.02576742086082313,  0.0050731024994964515,   0.017700304969708442,   9.18861341181465e-18,   0.011308596959079967,  0.0024475510505206116,   0.011221173992725287,     0.0176067883057147,     0.0254595423930196,   0.004870847749280722,    0.02068151074850594,   0.011208195059474894,   0.025422446210136878,    0.02324333307294399,   0.017651174007981527,   0.011144107661598499,   0.017692608083798352,   0.002341058217222623,   0.007980331956865734,    0.02550272024626876,   0.011215874511328158,   0.020570543816404482,   0.025574841869004404,   0.014451354910089967,    0.01120933928583542,    0.00810417501337628,   0.008017231633084822,   0.004942790874038833,   0.011197368877510102,    0.00520145737981489,   0.011213569040770909,    0.00786493064551999,   0.005179040688408701]\n",
      "[ 2.168404344971009e-19,   0.008067729396400292, 3.3610267347050637e-18,     0.0203880440770442,     0.0252276433271893,  5.421010862427522e-19,   0.007999128258014474,   0.014440962416849546,  0.0049958659886928745,    0.00243567956760714,  4.580754178751256e-18,   0.020620616106783878,   0.025441375529651266,   0.020546772401414386,   0.007962129192722519,  0.0022510304053685094,   0.023136643448543975,   0.008036981033845064,   0.023367671156263897,    0.01767643936240614,    0.02062121915620973,                    0.0,                    0.0,   0.023385764575659763,   0.020573810923631645,    0.01447160819692491, 3.2255014631443757e-18,   0.002384917356592459,   0.025673363605120365,  0.0024521142595940824,   0.014474557290841511,    0.02059925029845336,   0.022888101542828238,   0.017556597988820574,   0.014473487100629952,   0.014432797603867488,    0.01444794651764054,     0.0228336818214438,   0.002452251550730992,   0.017607565157853822,   0.023268826195922132,   0.005195288021507244,    0.01765031897899971,   0.023373954604358534,   0.014420660834957182,  0.0022385611341248805,   0.005171785499623695,   0.025767420860823124,   0.005073102499496443,   0.017700304969708435,  5.068645156369733e-18,   0.011308596959079962,  0.0024475510505206043,   0.011221173992725281,    0.01760678830571469,   0.025459542393019594,   0.004870847749280713,   0.020681510748505934,   0.011208195059474891,    0.02542244621013687,    0.02324333307294398,    0.01765117400798152,   0.011144107661598493,   0.017692608083798345,  0.0023410582172226154,   0.007980331956865733,    0.02550272024626875,   0.011215874511328154,   0.020570543816404472,     0.0255748418690044,   0.014451354910089961,   0.011209339285835415,    0.00810417501337627,   0.008017231633084815,   0.004942790874038825,   0.011197368877510097,   0.005201457379814881,   0.011213569040770904,   0.007864930645519987,   0.005179040688408694]\n",
      "[ 8.131516293641283e-19,   0.008067729396400299,  8.131516293641283e-20,   0.020388044077044205,    0.02522764332718931,                    0.0,    0.00799912825801448,   0.014440962416849555,   0.004995865988692882,  0.0024356795676071484,  7.345469718589293e-18,    0.02062061610678389,   0.025441375529651276,   0.020546772401414393,   0.007962129192722527,  0.0022510304053685167,   0.023136643448543985,   0.008036981033845073,   0.023367671156263908,   0.017676439362406145,    0.02062121915620974,  2.710505431213761e-19, 2.7647155398380363e-18,    0.02338576457565977,    0.02057381092363165,    0.01447160819692492,                    0.0,  0.0023849173565924663,    0.02567336360512038,  0.0024521142595940897,    0.01447455729084152,   0.020599250298453366,    0.02288810154282824,   0.017556597988820585,   0.014473487100629961,   0.014432797603867495,   0.014447946517640546,    0.02283368182144381,      0.002452251550731,    0.01760756515785383,    0.02326882619592214,   0.005195288021507252,   0.017650318978999723,   0.023373954604358545,   0.014420660834957192,   0.002238561134124888,   0.005171785499623703,    0.02576742086082313,  0.0050731024994964515,   0.017700304969708442, 1.3010426069826053e-18,    0.01130859695907997,  0.0024475510505206125,   0.011221173992725288,   0.017606788305714702,   0.025459542393019598,   0.004870847749280723,   0.020681510748505945,   0.011208195059474896,    0.02542244621013688,    0.02324333307294399,   0.017651174007981527,   0.011144107661598502,   0.017692608083798352,   0.002341058217222623,   0.007980331956865736,   0.025502720246268762,   0.011215874511328158,    0.02057054381640448,   0.025574841869004408,   0.014451354910089968,   0.011209339285835423,   0.008104175013376281,   0.008017231633084824,  0.0049427908740388325,   0.011197368877510104,   0.005201457379814889,   0.011213569040770912,   0.007864930645519993,   0.005179040688408702]\n",
      "[ 8.971772977317549e-18,   0.008067729396400308,  7.182839392716467e-18,   0.020388044077044216,   0.025227643327189315,  7.995991022080595e-18,    0.00799912825801449,   0.014440962416849563,    0.00499586598869289,  0.0024356795676071558,   1.56396163381034e-17,   0.020620616106783896,   0.025441375529651287,   0.020546772401414403,   0.007962129192722534,   0.002251030405368525,    0.02313664344854399,    0.00803698103384508,   0.023367671156263915,   0.017676439362406152,   0.020621219156209746,  8.429671891074797e-18,                    0.0,   0.023385764575659777,    0.02057381092363166,   0.014471608196924928,   7.15573433840433e-18,  0.0023849173565924737,   0.025673363605120385,   0.002452114259594098,   0.014474557290841527,   0.020599250298453376,   0.022888101542828252,    0.01755659798882059,    0.01447348710062997,   0.014432797603867504,   0.014447946517640553,    0.02283368182144382,  0.0024522515507310076,    0.01760756515785384,    0.02326882619592215,   0.005195288021507261,    0.01765031897899973,   0.023373954604358555,     0.0144206608349572,   0.002238561134124896,    0.00517178549962371,   0.025767420860823138,   0.005073102499496459,   0.017700304969708456,  4.336808689942018e-18,   0.011308596959079978,    0.00244755105052062,   0.011221173992725297,    0.01760678830571471,   0.025459542393019608,  0.0048708477492807305,   0.020681510748505952,   0.011208195059474905,   0.025422446210136885,      0.023243333072944,   0.017651174007981538,   0.011144107661598509,    0.01769260808379836,   0.002341058217222631,   0.007980331956865748,   0.025502720246268765,    0.01121587451132817,    0.02057054381640449,   0.025574841869004418,   0.014451354910089977,   0.011209339285835432,   0.008104175013376286,   0.008017231633084832,    0.00494279087403884,   0.011197368877510112,   0.005201457379814897,   0.011213569040770921,   0.007864930645520003,    0.00517904068840871]\n",
      "[                   0.0,   0.008067729396400287,  7.806255641895632e-18,    0.02038804407704419,   0.025227643327189294, 1.2468324983583301e-18,   0.007999128258014469,   0.014440962416849543,   0.004995865988692868,   0.002435679567607137, 2.7647155398380363e-18,    0.02062061610678387,    0.02544137552965126,    0.02054677240141438,   0.007962129192722513,  0.0022510304053685055,   0.023136643448543968,    0.00803698103384506,    0.02336767115626389,   0.017676439362406128,    0.02062121915620972,                    0.0,  2.257851024201063e-17,    0.02338576457565975,   0.020573810923631634,   0.014471608196924907,  7.589415207398531e-18,   0.002384917356592455,   0.025673363605120365,  0.0024521142595940785,   0.014474557290841506,   0.020599250298453352,   0.022888101542828224,   0.017556597988820567,   0.014473487100629949,   0.014432797603867484,   0.014447946517640534,   0.022833681821443793,   0.002452251550730988,   0.017607565157853815,   0.023268826195922125,   0.005195288021507241,   0.017650318978999706,    0.02337395460435853,    0.01442066083495718,  0.0022385611341248775,  0.0051717854996236904,   0.025767420860823113,   0.005073102499496439,   0.017700304969708428, 1.8756697583999227e-17,    0.01130859695907996,  0.0024475510505206004,   0.011221173992725276,   0.017606788305714684,   0.025459542393019587,   0.004870847749280709,   0.020681510748505928,   0.011208195059474886,   0.025422446210136864,   0.023243333072943975,   0.017651174007981513,    0.01114410766159849,   0.017692608083798335,   0.002341058217222612,   0.007980331956865728,   0.025502720246268745,   0.011215874511328147,   0.020570543816404465,   0.025574841869004394,   0.014451354910089956,   0.011209339285835413,   0.008104175013376267,   0.008017231633084812,    0.00494279087403882,   0.011197368877510093,   0.005201457379814878,   0.011213569040770898,   0.007864930645519982,   0.005179040688408688]\n",
      "[  0.001815601224092756,   0.005590085641335006,  0.0021194228868740552,   0.017909977003803847,   0.022749553674312927,  0.0019203732936135093,   0.005521491702097715,   0.011962963415287678,  0.0025193889305712936,                    0.0,  0.0014989557137979875,   0.018142548038580817,    0.02296328552788573,   0.018068704710689675,   0.005484496120346179, 1.0814916670542907e-17,    0.02065856207337724,   0.005559340671756488,    0.02088958914183934,   0.015198394487941415,   0.018143151084273206,   0.001845699865544065,   0.002368504227523811,   0.020907682489281064,    0.01809574310824262,   0.011993608642682528,   0.002116072188309987,                    0.0,     0.0231952732124945,   4.87890977618477e-19,     0.0119965576772598,   0.018121182353436897,    0.02041002073990072,   0.015078554394395658,    0.01199548750873787,   0.011954798734692221,   0.011969947398631893,    0.02035560114123337,   4.87890977618477e-19,   0.015129521144831359,   0.020790744488369782,   0.002718605144068636,   0.015172274505619332,   0.020895872565904076,   0.011942662154250595, 1.2305694657710475e-17,  0.0026951565502597633,   0.023289330295591756,   0.002596575151833093,   0.015222259525797928,   0.002291857726204009,   0.008830690525958845, 3.2526065174565133e-19,   0.008743271753974755,   0.015128744299831094,   0.022981452361366773,   0.002394443063927322,    0.01820344215410287,   0.008730293275183059,   0.022944356239450726,     0.0207652514332221,   0.015173129523488612,   0.008666207898952812,   0.015214562857987094,  7.860465750519907e-19,   0.005502697192916374,    0.02302463014329133,   0.008737972460713835,   0.018092476016684445,    0.02309675164559219,   0.011973355732184436,     0.0087314374623048,   0.005626526603185301,   0.005539593295687955,   0.002466345139652295,    0.00871946745752554,  0.0027247533996696527,   0.008735667070860905,   0.005387306171773795,  0.0027023981491716763]\n",
      "[   0.00181560122409278,   0.005590085641335003,  0.0021194228868740782,   0.017909977003803836,   0.022749553674312924,  0.0019203732936135314,   0.005521491702097714,   0.011962963415287676,  0.0025193889305712928,  9.215718466126788e-19,  0.0014989557137980109,    0.01814254803858081,   0.022963285527885728,   0.018068704710689668,  0.0054844961203461785, 2.7321894746634712e-17,   0.020658562073377233,  0.0055593406717564875,   0.020889589141839335,   0.015198394487941412,     0.0181431510842732,   0.001845699865544087,  0.0023685042275238335,   0.020907682489281057,   0.018095743108242614,   0.011993608642682526,  0.0021160721883100087,  6.613633252161577e-18,   0.023195273212494497,                    0.0,   0.011996557677259798,   0.018121182353436894,    0.02041002073990071,   0.015078554394395654,   0.011995487508737869,    0.01195479873469222,    0.01196994739863189,   0.020355601141233366,                    0.0,   0.015129521144831359,   0.020790744488369775,  0.0027186051440686344,   0.015172274505619329,   0.020895872565904073,   0.011942662154250593,  2.927345865710862e-17,   0.002695156550259762,    0.02328933029559175,  0.0025965751518330915,   0.015222259525797926,  0.0022918577262040314,   0.008830690525958843,  2.168404344971009e-19,   0.008743271753974753,   0.015128744299831092,    0.02298145236136677,  0.0023944430639273213,   0.018203442154102866,   0.008730293275183057,   0.022944356239450722,   0.020765251433222096,   0.015173129523488612,    0.00866620789895281,   0.015214562857987092, 1.1817803680091998e-17,   0.005502697192916371,    0.02302463014329132,   0.008737972460713835,   0.018092476016684438,   0.023096751645592186,   0.011973355732184434,     0.0087314374623048,     0.0056265266031853,   0.005539593295687954,   0.002466345139652293,   0.008719467457525538,  0.0027247533996696514,   0.008735667070860903,   0.005387306171773793,   0.002702398149171675]\n",
      "[ 0.0018156012240927509,   0.005590085641335004,    0.00211942288687405,   0.017909977003803843,   0.022749553674312927,  0.0019203732936135041,   0.005521491702097715,   0.011962963415287674,  0.0025193889305712928,                    0.0,  0.0014989557137979827,   0.018142548038580814,    0.02296328552788573,    0.01806870471068967,   0.005484496120346178,  9.540979117872439e-18,   0.020658562073377237,   0.005559340671756487,    0.02088958914183934,   0.015198394487941412,   0.018143151084273203,  0.0018456998655440597,   0.002368504227523806,    0.02090768248928106,   0.018095743108242617,   0.011993608642682526,   0.002116072188309982, 3.7947076036992655e-19,     0.0231952732124945,                    0.0,   0.011996557677259798,   0.018121182353436897,   0.020410020739900715,   0.015078554394395654,   0.011995487508737869,    0.01195479873469222,    0.01196994739863189,    0.02035560114123337,  5.421010862427522e-20,    0.01512952114483136,    0.02079074448836978,  0.0027186051440686344,   0.015172274505619329,   0.020895872565904076,   0.011942662154250593, 1.0869126779167182e-17,  0.0026951565502597616,   0.023289330295591753,   0.002596575151833091,   0.015222259525797926,  0.0022918577262040036,   0.008830690525958843,                    0.0,   0.008743271753974753,   0.015128744299831092,   0.022981452361366773,  0.0023944430639273213,    0.01820344215410287,   0.008730293275183057,   0.022944356239450726,     0.0207652514332221,   0.015173129523488612,    0.00866620789895281,   0.015214562857987092,  7.047314121155779e-19,   0.005502697192916372,   0.023024630143291324,   0.008737972460713837,    0.01809247601668444,    0.02309675164559219,   0.011973355732184434,     0.0087314374623048,   0.005626526603185299,   0.005539593295687955,   0.002466345139652293,   0.008719467457525538,   0.002724753399669651,   0.008735667070860903,   0.005387306171773794,  0.0027023981491716745]\n",
      "[ 0.0018156012240927322,   0.005590085641335024,   0.002119422886874031,    0.01790997700380386,   0.022749553674312948,   0.001920373293613485,   0.005521491702097733,   0.011962963415287695,   0.002519388930571311, 1.5178830414797062e-17,   0.001498955713797964,   0.018142548038580834,   0.022963285527885752,   0.018068704710689693,   0.005484496120346198,  2.439454888092385e-19,   0.020658562073377258,   0.005559340671756507,   0.020889589141839356,   0.015198394487941434,   0.018143151084273224,  0.0018456998655440406,  0.0023685042275237867,    0.02090768248928108,   0.018095743108242638,   0.011993608642682547,   0.002116072188309962,  6.559423143537302e-18,   0.023195273212494517,  1.734723475976807e-17,   0.011996557677259819,   0.018121182353436915,   0.020410020739900735,   0.015078554394395677,    0.01199548750873789,    0.01195479873469224,   0.011969947398631912,   0.020355601141233384, 1.7401444868392346e-17,    0.01512952114483138,     0.0207907444883698,  0.0027186051440686526,   0.015172274505619351,   0.020895872565904094,   0.011942662154250614,  8.131516293641283e-19,  0.0026951565502597806,   0.023289330295591774,  0.0025965751518331097,   0.015222259525797947,  0.0022918577262039837,   0.008830690525958864, 1.6859343782149594e-17,   0.008743271753974774,   0.015128744299831113,   0.022981452361366794,  0.0023944430639273396,   0.018203442154102887,   0.008730293275183078,    0.02294435623945074,   0.020765251433222116,   0.015173129523488631,   0.008666207898952831,   0.015214562857987113,                    0.0,    0.00550269719291639,   0.023024630143291345,   0.008737972460713854,   0.018092476016684463,   0.023096751645592207,   0.011973355732184455,    0.00873143746230482,   0.005626526603185319,   0.005539593295687973,  0.0024663451396523114,   0.008719467457525559,    0.00272475339966967,   0.008735667070860924,   0.005387306171773814,  0.0027023981491716936]\n",
      "[ 0.0018156012240927626,   0.005590085641335005,  0.0021194228868740617,    0.01790997700380384,   0.022749553674312927,  0.0019203732936135145,   0.005521491702097716,   0.011962963415287678,   0.002519388930571293,                    0.0,   0.001498955713797994,   0.018142548038580814,    0.02296328552788573,   0.018068704710689668,  0.0054844961203461785, 1.5287250632045613e-17,   0.020658562073377237,   0.005559340671756489,    0.02088958914183934,   0.015198394487941415,   0.018143151084273203,  0.0018456998655440714,   0.002368504227523817,    0.02090768248928106,   0.018095743108242617,   0.011993608642682528,  0.0021160721883099923, 1.6263032587282567e-18,   0.023195273212494497,  5.421010862427522e-20,     0.0119965576772598,   0.018121182353436894,   0.020410020739900715,   0.015078554394395658,   0.011995487508737869,    0.01195479873469222,   0.011969947398631893,   0.020355601141233363,  5.421010862427522e-20,   0.015129521144831359,    0.02079074448836978,   0.002718605144068635,   0.015172274505619332,   0.020895872565904073,   0.011942662154250596, 1.6886448836461732e-17,   0.002695156550259763,   0.023289330295591753,   0.002596575151833092,   0.015222259525797928,  0.0022918577262040145,   0.008830690525958845,                    0.0,   0.008743271753974755,   0.015128744299831094,   0.022981452361366766,  0.0023944430639273218,    0.01820344215410287,   0.008730293275183059,   0.022944356239450726,   0.020765251433222096,   0.015173129523488612,   0.008666207898952812,   0.015214562857987094,  3.686287386450715e-18,   0.005502697192916373,   0.023024630143291324,   0.008737972460713837,   0.018092476016684438,    0.02309675164559219,   0.011973355732184436,     0.0087314374623048,     0.0056265266031853,   0.005539593295687954,  0.0024663451396522936,    0.00871946745752554,  0.0027247533996696523,   0.008735667070860905,  0.0053873061717737945,   0.002702398149171676]\n",
      "[ 0.0018156012240927574,    0.00559008564133501,   0.002119422886874056,    0.01790997700380385,   0.022749553674312934,  0.0019203732936135102,   0.005521491702097721,   0.011962963415287681,   0.002519388930571298, 2.0057740190981832e-18,  0.0014989557137979888,    0.01814254803858082,    0.02296328552788574,    0.01806870471068968,   0.005484496120346184,  9.676504389433127e-18,   0.020658562073377244,   0.005559340671756493,   0.020889589141839346,   0.015198394487941419,    0.01814315108427321,  0.0018456998655440658,  0.0023685042275238114,   0.020907682489281067,   0.018095743108242624,   0.011993608642682533,   0.002116072188309987,                    0.0,   0.023195273212494507,  3.333921680392926e-18,   0.011996557677259805,   0.018121182353436904,    0.02041002073990072,   0.015078554394395661,   0.011995487508737876,   0.011954798734692226,   0.011969947398631896,   0.020355601141233377, 3.3881317890172014e-18,   0.015129521144831367,   0.020790744488369785,  0.0027186051440686396,   0.015172274505619336,   0.020895872565904083,     0.0119426621542506, 1.1167282376600696e-17,  0.0026951565502597676,    0.02328933029559176,   0.002596575151833097,   0.015222259525797933,  0.0022918577262040097,    0.00883069052595885, 2.9544509200229996e-18,    0.00874327175397476,   0.015128744299831099,    0.02298145236136678,  0.0023944430639273265,   0.018203442154102877,   0.008730293275183064,   0.022944356239450733,   0.020765251433222106,    0.01517312952348862,   0.008666207898952817,   0.015214562857987099,                    0.0,   0.005502697192916378,    0.02302463014329133,   0.008737972460713844,    0.01809247601668445,   0.023096751645592196,   0.011973355732184441,   0.008731437462304805,   0.005626526603185305,   0.005539593295687961,  0.0024663451396522993,   0.008719467457525545,   0.002724753399669657,    0.00873566707086091,     0.0053873061717738,  0.0027023981491716806]\n",
      "[  0.001815601224092728,   0.005590085641335058,   0.002119422886874026,   0.017909977003803892,   0.022749553674312983,  0.0019203732936134807,   0.005521491702097769,   0.011962963415287728,   0.002519388930571345, 4.1226787608761306e-17,  0.0014989557137979593,   0.018142548038580866,   0.022963285527885787,   0.018068704710689724,  0.0054844961203462305,                    0.0,   0.020658562073377292,   0.005559340671756542,    0.02088958914183939,   0.015198394487941465,   0.018143151084273255,  0.0018456998655440363,  0.0023685042275237824,   0.020907682489281116,   0.018095743108242673,    0.01199360864268258,  0.0021160721883099576, 2.1304572689340162e-17,    0.02319527321249455,  4.700016417724662e-17,   0.011996557677259852,    0.01812118235343695,    0.02041002073990077,   0.015078554394395708,   0.011995487508737922,   0.011954798734692273,   0.011969947398631943,    0.02035560114123342,  4.710858439449517e-17,   0.015129521144831414,   0.020790744488369834,   0.002718605144068687,   0.015172274505619383,   0.020895872565904125,   0.011942662154250648,                    0.0,   0.002695156550259814,    0.02328933029559181,  0.0025965751518331436,    0.01522225952579798,  0.0022918577262039798,   0.008830690525958897, 4.5536491244391186e-17,   0.008743271753974807,   0.015128744299831146,   0.022981452361366828,  0.0023944430639273743,    0.01820344215410292,    0.00873029327518311,   0.022944356239450774,   0.020765251433222148,   0.015173129523488666,   0.008666207898952864,   0.015214562857987146,  7.453889935837843e-18,   0.005502697192916426,    0.02302463014329138,    0.00873797246071389,   0.018092476016684494,    0.02309675164559224,   0.011973355732184488,   0.008731437462304852,   0.005626526603185353,   0.005539593295688007,  0.0024663451396523452,   0.008719467457525592,  0.0027247533996697048,   0.008735667070860957,   0.005387306171773847,   0.002702398149171728]\n",
      "[ 0.0018156012240927392,   0.005590085641335038,   0.002119422886874038,    0.01790997700380387,   0.022749553674312962,  0.0019203732936134911,   0.005521491702097747,    0.01196296341528771,   0.002519388930571325, 2.2144829373016428e-17,  0.0014989557137979701,   0.018142548038580848,   0.022963285527885766,   0.018068704710689703,  0.0054844961203462115,                    0.0,    0.02065856207337727,  0.0055593406717565205,   0.020889589141839374,   0.015198394487941448,    0.01814315108427324,  0.0018456998655440476,  0.0023685042275237932,   0.020907682489281095,   0.018095743108242652,   0.011993608642682561,   0.002116072188309969,  8.375461782450522e-18,    0.02319527321249453, 2.6752688606079822e-17,   0.011996557677259833,    0.01812118235343693,    0.02041002073990075,    0.01507855439439569,   0.011995487508737903,   0.011954798734692252,   0.011969947398631926,   0.020355601141233397, 2.6861108823328372e-17,   0.015129521144831392,    0.02079074448836981,  0.0027186051440686665,   0.015172274505619364,   0.020895872565904108,    0.01194266215425063,  6.776263578034403e-19,  0.0026951565502597945,   0.023289330295591788,  0.0025965751518331236,    0.01522225952579796,  0.0022918577262039906,   0.008830690525958878, 2.5560066216345767e-17,   0.008743271753974787,   0.015128744299831126,   0.022981452361366807,  0.0023944430639273534,   0.018203442154102904,   0.008730293275183093,    0.02294435623945076,    0.02076525143322213,   0.015173129523488645,   0.008666207898952845,   0.015214562857987127,                    0.0,   0.005502697192916404,    0.02302463014329136,   0.008737972460713868,   0.018092476016684473,   0.023096751645592224,   0.011973355732184469,   0.008731437462304831,   0.005626526603185333,   0.005539593295687987,  0.0024663451396523253,   0.008719467457525573,   0.002724753399669684,   0.008735667070860938,  0.0053873061717738275,  0.0027023981491717075]\n",
      "[  0.004571614319128965,  0.0028251987428138748,  0.0048756747816739695,   0.015143688864705674,   0.019983228196696134,    0.00467647118538753,   0.002756643407367203,   0.009196808631777572, 2.0328790734103208e-17,  0.0023617352643085596,   0.004254686392225465,   0.015376258178612687,   0.020196959502343872,   0.015302415502801125,   0.002719666745548543,   0.002682074536628106,   0.017892249860516747,  0.0027944718844558777,   0.018123275886743027,   0.012432146482818885,    0.01537686121786056,   0.004601737684904786,   0.005124976679888764,    0.01814136911705657,    0.01532945368489291,     0.0092274526541714,   0.004872321519429062,  0.0025720793072136114,    0.02042894657420338,   0.002135504504341579,   0.009230401559491052,   0.015354892706161326,   0.017643709462507384,   0.012312308803642645,   0.009229331438212507,   0.009188644240119906,     0.0092037923588868,   0.017589290064758203,   0.002132518667841008,    0.01236327476334367,    0.01802443173322511,                    0.0,   0.012406027255845897,   0.018129559271687315,   0.009176508071215152,   0.002686145216631615,  1.463672932855431e-18,    0.02052300338707575, 1.2224379494774062e-17,   0.012456010450081245,  0.0050482483948985106,   0.006064766557873735,   0.002220699251170443,   0.005977359660111766,   0.012362497931819092,   0.020215126288930064,  2.970713952610282e-17,   0.015437151386779063,   0.005964382475587819,    0.02017803026268133,   0.017998938788677536,   0.012406882252773014,    0.00590030287517646,   0.012448314192057785,   0.002631218137698895,  0.0027378586110621285,   0.020258303958969517,   0.005972060902467082,   0.015326186620410069,   0.020330425272434564,   0.009207200563977395,    0.00596552655090062,   0.002861615094145925,  0.0027747353861553945,  2.496375502147874e-17,   0.005953557696542779,                    0.0,   0.005969755742455338,  0.0026225241802927805,  6.776263578034403e-19]\n",
      "[ 0.0045716143191289514,  0.0028251987428138865,   0.004875674781673958,    0.01514368886470569,    0.01998322819669614,   0.004676471185387518,  0.0027566434073672146,   0.009196808631777588,  5.773376568485311e-18,   0.002361735264308548,  0.0042546863922254515,   0.015376258178612703,   0.020196959502343886,   0.015302415502801143,  0.0027196667455485555,  0.0026820745366280935,   0.017892249860516754,  0.0027944718844558894,   0.018123275886743038,   0.012432146482818901,   0.015376861217860575,   0.004601737684904774,   0.005124976679888754,   0.018141369117056577,   0.015329453684892923,   0.009227452654171414,   0.004872321519429051,   0.002572079307213599,   0.020428946574203386,  0.0021355045043415658,   0.009230401559491067,   0.015354892706161341,   0.017643709462507397,    0.01231230880364266,   0.009229331438212522,   0.009188644240119921,   0.009203792358886815,   0.017589290064758217,   0.002132518667840996,   0.012363274763343687,   0.018024431733225123, 3.0899761915836876e-18,    0.01240602725584591,   0.018129559271687322,   0.009176508071215167,  0.0026861452166316033,                    0.0,    0.02052300338707576,                    0.0,    0.01245601045008126,   0.005048248394898498,   0.006064766557873747,  0.0022206992511704313,   0.005977359660111779,    0.01236249793181911,   0.020215126288930078, 1.4555414165617897e-17,   0.015437151386779079,   0.005964382475587832,   0.020178030262681345,   0.017998938788677546,   0.012406882252773031,   0.005900302875176474,     0.0124483141920578,   0.002631218137698883,   0.002737858611062141,    0.02025830395896953,   0.005972060902467097,   0.015326186620410088,   0.020330425272434578,    0.00920720056397741,   0.005965526550900635,   0.002861615094145937,  0.0027747353861554062,  9.920449878242366e-18,   0.005953557696542792,  4.363913744254155e-18,   0.005969755742455351,   0.002622524180292792,  5.421010862427522e-19]\n",
      "[  0.004571614319128958,  0.0028251987428138813,   0.004875674781673963,   0.015143688864705684,   0.019983228196696134,  0.0046764711853875245,  0.0027566434073672094,   0.009196808631777582,  1.235990476633475e-17,   0.002361735264308555,   0.004254686392225458,   0.015376258178612696,    0.02019695950234388,   0.015302415502801136,  0.0027196667455485503,  0.0026820745366280996,   0.017892249860516747,   0.002794471884455884,   0.018123275886743034,   0.012432146482818894,   0.015376861217860568,   0.004601737684904781,    0.00512497667988876,    0.01814136911705657,   0.015329453684892918,   0.009227452654171409,   0.004872321519429056,   0.002572079307213606,   0.020428946574203386,  0.0021355045043415727,    0.00923040155949106,   0.015354892706161336,    0.01764370946250739,   0.012312308803642653,   0.009229331438212517,   0.009188644240119915,   0.009203792358886808,    0.01758929006475821,   0.002132518667841002,   0.012363274763343682,   0.018024431733225117, 1.1655173354219173e-18,   0.012406027255845905,   0.018129559271687322,    0.00917650807121516,  0.0026861452166316102,                    0.0,    0.02052300338707575,  5.204170427930421e-18,   0.012456010450081255,   0.005048248394898505,   0.006064766557873742,  0.0022206992511704373,   0.005977359660111775,   0.012362497931819103,    0.02021512628893007,   2.17653586126465e-17,   0.015437151386779072,   0.005964382475587827,   0.020178030262681338,   0.017998938788677542,   0.012406882252773026,   0.005900302875176467,   0.012448314192057794,    0.00263121813769889,   0.002737858611062135,   0.020258303958969524,    0.00597206090246709,    0.01532618662041008,    0.02033042527243457,   0.009207200563977403,  0.0059655265509006294,  0.0028616150941459316,   0.002774735386155401,  1.691355389077387e-17,   0.005953557696542787, 1.8973538018496328e-18,   0.005969755742455346,   0.002622524180292787,                    0.0]\n",
      "[  0.004571614319128946,  0.0028251987428138748,   0.004875674781673953,   0.015143688864705676,   0.019983228196696127,   0.004676471185387512,   0.002756643407367202,   0.009196808631777574, 1.0814916670542907e-17,   0.002361735264308544,   0.004254686392225446,    0.01537625817861269,   0.020196959502343872,   0.015302415502801127,   0.002719666745548543,  0.0026820745366280896,    0.01789224986051674,   0.002794471884455877,   0.018123275886743027,   0.012432146482818889,   0.015376861217860562,   0.004601737684904769,  0.0051249766798887484,   0.018141369117056563,    0.01532945368489291,     0.0092274526541714,  0.0048723215194290456,   0.002572079307213595,   0.020428946574203372,   0.002135504504341563,   0.009230401559491052,   0.015354892706161326,   0.017643709462507377,   0.012312308803642646,   0.009229331438212508,   0.009188644240119906,   0.009203792358886801,   0.017589290064758203,  0.0021325186678409925,   0.012363274763343672,   0.018024431733225103,                    0.0,   0.012406027255845898,   0.018129559271687308,   0.009176508071215152,  0.0026861452166315994, 4.0657581468206416e-19,   0.020523003387075744,   5.55653613398821e-18,   0.012456010450081245,   0.005048248394898493,   0.006064766557873735,  0.0022206992511704274,   0.005977359660111767,   0.012362497931819094,   0.020215126288930064, 1.7780915628762273e-17,   0.015437151386779065,   0.005964382475587818,    0.02017803026268133,   0.017998938788677536,   0.012406882252773015,  0.0059003028751764604,   0.012448314192057787,   0.002631218137698879,  0.0027378586110621285,   0.020258303958969517,   0.005972060902467083,   0.015326186620410073,   0.020330425272434564,   0.009207200563977395,   0.005965526550900621,  0.0028616150941459246,  0.0027747353861553936,  1.417594340524797e-17,   0.005953557696542778, 1.6263032587282567e-19,   0.005969755742455339,  0.0026225241802927805,                    0.0]\n",
      "[  0.004571614319128931,  0.0028251987428138865,   0.004875674781673937,   0.015143688864705686,    0.01998322819669614,   0.004676471185387497,  0.0027566434073672138,   0.009196808631777586, 1.0028870095490916e-18,   0.002361735264308528,   0.004254686392225431,   0.015376258178612701,   0.020196959502343886,    0.01530241550280114,  0.0027196667455485547,  0.0026820745366280736,   0.017892249860516754,  0.0027944718844558894,   0.018123275886743038,     0.0124321464828189,   0.015376861217860574,   0.004601737684904753,   0.005124976679888733,   0.018141369117056577,   0.015329453684892922,   0.009227452654171412,    0.00487232151942903,   0.002572079307213579,   0.020428946574203386,  0.0021355045043415467,   0.009230401559491064,    0.01535489270616134,    0.01764370946250739,   0.012312308803642659,    0.00922933143821252,   0.009188644240119918,   0.009203792358886813,   0.017589290064758217,   0.002132518667840976,   0.012363274763343684,    0.01802443173322512,  8.239936510889834e-18,    0.01240602725584591,   0.018129559271687322,   0.009176508071215164,  0.0026861452166315834,  5.637851296924623e-18,    0.02052300338707576,                    0.0,   0.012456010450081257,   0.005048248394898478,  0.0060647665578737455,  0.0022206992511704113,   0.005977359660111779,   0.012362497931819106,   0.020215126288930078,  4.851804721872632e-18,   0.015437151386779077,    0.00596438247558783,   0.020178030262681345,   0.017998938788677546,   0.012406882252773027,   0.005900302875176473,   0.012448314192057799,   0.002631218137698863,  0.0027378586110621403,    0.02025830395896953,   0.005972060902467095,   0.015326186620410085,   0.020330425272434578,   0.009207200563977407,   0.005965526550900633,  0.0028616150941459364,  0.0027747353861554054, 2.6834003769016235e-18,    0.00595355769654279,  9.107298248878237e-18,   0.005969755742455351,   0.002622524180292792,  6.179952383167375e-18]\n",
      "[  0.004571614319128925,  0.0028251987428138847,   0.004875674781673932,   0.015143688864705686,    0.01998322819669614,   0.004676471185387492,   0.002756643407367213,   0.009196808631777586,                    0.0,  0.0023617352643085236,  0.0042546863922254255,     0.0153762581786127,   0.020196959502343886,    0.01530241550280114,   0.002719666745548554,  0.0026820745366280692,   0.017892249860516754,  0.0027944718844558876,   0.018123275886743034,   0.012432146482818898,   0.015376861217860572,    0.00460173768490475,   0.005124976679888728,   0.018141369117056577,   0.015329453684892922,   0.009227452654171412,   0.004872321519429025,  0.0025720793072135746,   0.020428946574203383,  0.0021355045043415415,   0.009230401559491064,   0.015354892706161341,    0.01764370946250739,   0.012312308803642657,    0.00922933143821252,   0.009188644240119918,   0.009203792358886811,    0.01758929006475821,  0.0021325186678409717,   0.012363274763343686,    0.01802443173322512,  8.863352760068999e-18,   0.012406027255845909,    0.01812955927168732,   0.009176508071215164,   0.002686145216631579,  6.532318089225164e-18,    0.02052300338707576,                    0.0,   0.012456010450081257,   0.005048248394898472,  0.0060647665578737455,   0.002220699251170407,  0.0059773596601117775,   0.012362497931819106,   0.020215126288930078,  2.791820594150174e-18,   0.015437151386779077,  0.0059643824755878285,   0.020178030262681345,   0.017998938788677542,    0.01240688225277303,   0.005900302875176471,   0.012448314192057797,  0.0026312181376988587,  0.0027378586110621385,    0.02025830395896953,   0.005972060902467094,   0.015326186620410085,   0.020330425272434574,   0.009207200563977407,   0.005965526550900631,   0.002861615094145935,  0.0027747353861554045, 1.1655173354219173e-18,    0.00595355769654279,  9.595189226496714e-18,   0.005969755742455349,  0.0026225241802927913,  7.047314121155779e-18]\n",
      "[ 0.0045716143191289185,   0.002825198742813893,   0.004875674781673923,   0.015143688864705695,   0.019983228196696148,   0.004676471185387485,  0.0027566434073672216,   0.009196808631777593,  5.149960319306146e-19,   0.002361735264308515,  0.0042546863922254185,    0.01537625817861271,   0.020196959502343886,   0.015302415502801148,   0.002719666745548562,    0.00268207453662806,    0.01789224986051676,   0.002794471884455896,   0.018123275886743045,   0.012432146482818906,    0.01537686121786058,   0.004601737684904741,   0.005124976679888719,   0.018141369117056584,   0.015329453684892929,   0.009227452654171419,   0.004872321519429017,   0.002572079307213566,   0.020428946574203393,   0.002135504504341533,    0.00923040155949107,   0.015354892706161347,   0.017643709462507404,   0.012312308803642666,   0.009229331438212527,   0.009188644240119925,    0.00920379235888682,   0.017589290064758224,   0.002132518667840963,   0.012363274763343689,    0.01802443173322513,  1.940721888749053e-17,   0.012406027255845917,    0.01812955927168733,    0.00917650807121517,  0.0026861452166315703, 1.6506978076091805e-17,   0.020523003387075765,  4.092863201132779e-18,   0.012456010450081264,   0.005048248394898465,   0.006064766557873753,  0.0022206992511703983,   0.005977359660111786,   0.012362497931819113,   0.020215126288930085,                    0.0,   0.015437151386779084,   0.005964382475587838,   0.020178030262681352,   0.017998938788677553,   0.012406882252773034,    0.00590030287517648,   0.012448314192057807,    0.00263121813769885,   0.002737858611062147,   0.020258303958969538,  0.0059720609024671014,   0.015326186620410092,    0.02033042527243458,   0.009207200563977414,   0.005965526550900641,  0.0028616150941459433,  0.0027747353861554127,                    0.0,   0.005953557696542798, 2.0166160408230382e-17,   0.005969755742455357,   0.002622524180292799, 1.7265919596831658e-17]\n",
      "[  0.004571614319128924,   0.002825198742813906,    0.00487567478167393,   0.015143688864705709,    0.01998322819669616,   0.004676471185387492,  0.0027566434073672346,   0.009196808631777607,                    0.0,   0.002361735264308521,   0.004254686392225424,   0.015376258178612724,   0.020196959502343906,   0.015302415502801162,   0.002719666745548575,  0.0026820745366280653,   0.017892249860516775,   0.002794471884455909,   0.018123275886743062,    0.01243214648281892,   0.015376861217860594,   0.004601737684904748,   0.005124976679888726,   0.018141369117056598,   0.015329453684892943,   0.009227452654171433,   0.004872321519429023,   0.002572079307213572,   0.020428946574203407,   0.002135504504341539,   0.009230401559491085,    0.01535489270616136,    0.01764370946250741,    0.01231230880364268,   0.009229331438212541,   0.009188644240119939,   0.009203792358886834,   0.017589290064758237,   0.002132518667840968,   0.012363274763343703,    0.01802443173322514, 2.5261910618912253e-17,   0.012406027255845931,   0.018129559271687343,   0.009176508071215185,  0.0026861452166315756, 1.9678269430611905e-17,    0.02052300338707578, 3.2526065174565133e-18,   0.012456010450081278,   0.005048248394898471,   0.006064766557873768,  0.0022206992511704035,     0.0059773596601118,   0.012362497931819127,     0.0202151262889301,  7.860465750519907e-19,   0.015437151386779098,   0.005964382475587851,   0.020178030262681366,   0.017998938788677567,   0.012406882252773047,   0.005900302875176493,    0.01244831419205782,   0.002631218137698855,    0.00273785861106216,    0.02025830395896955,   0.005972060902467116,   0.015326186620410106,     0.0203304252724346,   0.009207200563977428,   0.005965526550900654,  0.0028616150941459563,  0.0027747353861554257,                    0.0,   0.005953557696542811, 2.6834003769016235e-17,   0.005969755742455372,   0.002622524180292812, 2.1169047417779474e-17]\n",
      "[  0.007572731603416107, 1.6263032587282567e-19,   0.007876828591825868,   0.012150184821374359,   0.016989656890565207,   0.007677601088099662, 3.3068166260807885e-18,   0.006203624521670486,  0.0029314376477097984,   0.005361653322258198,   0.007255764162578743,   0.012382750822321507,    0.01720338728260636,   0.012308909399476877,  6.451002926288751e-18,   0.005682237283287785,   0.014898701330168008,   9.75781955236954e-19,   0.015129725521571434,   0.009438725468929175,   0.012383353849200857,   0.007602858610137043,   0.008126167191333203,    0.01514781854616317,   0.012335947167238084,   0.006234265067248434,   0.007873474920597964,  0.0055721304251972635,   0.017435373335361447,   0.005135284308460028,    0.00623721360029468,   0.012361385758236459,   0.014650162585531167,   0.009318893138476975,   0.006236143615066093,   0.006195460965386025,   0.006210607508505164,    0.01459574354369342,   0.005132296590997542,   0.009369857341952328,   0.015030882247247202,  0.0026442737576058764,   0.009412607910987116,   0.015136008837794503,  0.0061833259874443875,   0.005686315134360984,   0.002758202166164524,   0.017529429699674824,  0.0028987631589282325,   0.009462587077366375,   0.008049424936315212,  0.0030724971424344197,   0.005220531974502244,  0.0029851535368369975,   0.009369080540320963,     0.0172215539911019,   0.002955799214830933,    0.01244364229187254,  0.0029721833686095246,    0.01718445812417813,    0.01500538949743425,   0.009413462861586772,  0.0029081353660038085,   0.009454891721283394,  0.0056313177861942055,  4.933119884809045e-18,   0.017264731474891753,   0.002979857679961325,   0.012332680154803443,   0.017336852474218043,   0.006214015342657377,  0.0029733268368766553,                    0.0, 2.0599841277224584e-18,  0.0029442377080731493,   0.002961364236878843,   0.002594489257391529,  0.0029775537659415723,  1.474514954580286e-17,   0.002731551767378696]\n",
      "[  0.007572731603416114,                    0.0,   0.007876828591825877,    0.01215018482137437,    0.01698965689056522,   0.007677601088099671,  3.876022766635678e-18,   0.006203624521670498,   0.002931437647709807,   0.005361653322258206,   0.007255764162578751,   0.012382750822321516,   0.017203387282606366,   0.012308909399476889,  7.535205098774256e-18,   0.005682237283287794,    0.01489870133016802, 1.0842021724855044e-18,   0.015129725521571446,   0.009438725468929186,   0.012383353849200867,   0.007602858610137052,   0.008126167191333212,   0.015147818546163183,   0.012335947167238097,  0.0062342650672484465,   0.007873474920597973,   0.005572130425197272,   0.017435373335361458,  0.0051352843084600365,  0.0062372136002946926,   0.012361385758236471,   0.014650162585531179,   0.009318893138476985,   0.006236143615066105,  0.0061954609653860375,   0.006210607508505176,   0.014595743543693432,   0.005132296590997551,   0.009369857341952342,   0.015030882247247215,   0.002644273757605885,   0.009412607910987126,   0.015136008837794515,     0.0061833259874444,   0.005686315134360993,  0.0027582021661645326,   0.017529429699674838,  0.0028987631589282407,   0.009462587077366386,   0.008049424936315221,   0.003072497142434432,   0.005220531974502251,  0.0029851535368370092,   0.009369080540320976,   0.017221553991101913,  0.0029557992148309406,   0.012443642291872553,   0.002972183368609536,   0.017184458124178136,   0.015005389497434261,   0.009413462861586785,  0.0029081353660038206,   0.009454891721283406,   0.005631317786194214,  5.773376568485311e-18,   0.017264731474891767,   0.002979857679961337,   0.012332680154803453,   0.017336852474218054,   0.006214015342657389,  0.0029733268368766675,                    0.0, 2.3852447794681098e-18,   0.002944237708073158,  0.0029613642368788544,  0.0025944892573915366,  0.0029775537659415836, 1.7157499379583108e-17,   0.002731551767378704]\n",
      "[ 0.0075727316034161244,                    0.0,   0.007876828591825886,   0.012150184821374407,   0.016989656890565256,  0.0076776010880996795, 2.3852447794681098e-18,   0.006203624521670535,  0.0029314376477098157,   0.005361653322258215,   0.007255764162578762,   0.012382750822321554,   0.017203387282606408,   0.012308909399476927,  6.071532165918825e-18,  0.0056822372832878035,   0.014898701330168058,                    0.0,   0.015129725521571484,   0.009438725468929224,   0.012383353849200904,   0.007602858610137062,   0.008126167191333222,   0.015147818546163221,   0.012335947167238135,   0.006234265067248484,   0.007873474920597982,   0.005572130425197282,   0.017435373335361496,   0.005135284308460047,   0.006237213600294729,   0.012361385758236509,   0.014650162585531217,   0.009318893138477023,   0.006236143615066142,   0.006195460965386075,  0.0062106075085052136,   0.014595743543693468,    0.00513229659099756,   0.009369857341952378,   0.015030882247247253,  0.0026442737576058938,   0.009412607910987164,   0.015136008837794554,   0.006183325987444435,   0.005686315134361002,  0.0027582021661645413,   0.017529429699674876,  0.0028987631589282494,   0.009462587077366424,   0.008049424936315231,  0.0030724971424344683,  0.0052205319745022615,  0.0029851535368370457,   0.009369080540321012,   0.017221553991101955,  0.0029557992148309493,    0.01244364229187259,  0.0029721833686095723,   0.017184458124178178,   0.015005389497434301,   0.009413462861586825,   0.002908135366003857,   0.009454891721283444,   0.005631317786194223,  4.228388472693467e-18,    0.01726473147489181,  0.0029798576799613735,   0.012332680154803493,    0.01733685247421809,   0.006214015342657426,   0.002973326836876703,  2.710505431213761e-18, 1.0028870095490916e-18,  0.0029442377080731667,   0.002961364236878891,  0.0025944892573915453,   0.002977553765941621, 1.6615398293340355e-17,  0.0027315517673787127]\n",
      "[  0.007572731603416102, 1.4094628242311558e-18,   0.007876828591825865,   0.012150184821374388,   0.016989656890565235,   0.007677601088099659,  4.607859233063394e-19,   0.006203624521670515,  0.0029314376477097928,   0.005361653322258194,   0.007255764162578739,   0.012382750822321537,    0.01720338728260638,   0.012308909399476908,  2.358139725155972e-18,    0.00568223728328778,   0.014898701330168039,                    0.0,   0.015129725521571465,   0.009438725468929206,   0.012383353849200888,  0.0076028586101370395,     0.0081261671913332,   0.015147818546163202,   0.012335947167238116,   0.006234265067248464,    0.00787347492059796,   0.005572130425197258,   0.017435373335361475,   0.005135284308460024,    0.00623721360029471,   0.012361385758236488,   0.014650162585531198,   0.009318893138477006,   0.006236143615066123,   0.006195460965386055,   0.006210607508505194,   0.014595743543693451,   0.005132296590997539,    0.00936985734195236,   0.015030882247247234,  0.0026442737576058708,   0.009412607910987147,   0.015136008837794535,   0.006183325987444417,   0.005686315134360979,  0.0027582021661645183,   0.017529429699674852,   0.002898763158928227,   0.009462587077366405,   0.008049424936315209,  0.0030724971424344488,   0.005220531974502239,   0.002985153536837026,   0.009369080540320995,   0.017221553991101934,  0.0029557992148309263,    0.01244364229187257,   0.002972183368609553,    0.01718445812417815,   0.015005389497434282,   0.009413462861586805,  0.0029081353660038375,   0.009454891721283425,     0.0056313177861942, 1.3823577699190182e-18,    0.01726473147489178,   0.002979857679961354,   0.012332680154803474,   0.017336852474218067,   0.006214015342657407,  0.0029733268368766844,  5.177065373618284e-18,                    0.0,  0.0029442377080731437,  0.0029613642368788713,  0.0025944892573915223,  0.0029775537659416013,  9.025983085941824e-18,  0.0027315517673786897]\n",
      "[  0.007572731603416098,  3.279711571768651e-18,   0.007876828591825862,   0.012150184821374404,   0.016989656890565256,   0.007677601088099655,                    0.0,   0.006203624521670533,  0.0029314376477097906,   0.005361653322258189,   0.007255764162578736,   0.012382750822321553,     0.0172033872826064,   0.012308909399476924, 1.2197274440461925e-18,   0.005682237283287778,   0.014898701330168056, 6.2341624917916505e-19,    0.01512972552157148,   0.009438725468929222,   0.012383353849200904,   0.007602858610137036,   0.008126167191333196,   0.015147818546163221,   0.012335947167238133,   0.006234265067248481,   0.007873474920597957,   0.005572130425197255,   0.017435373335361493,   0.005135284308460019,   0.006237213600294726,   0.012361385758236506,   0.014650162585531213,   0.009318893138477021,   0.006236143615066139,   0.006195460965386072,   0.006210607508505211,   0.014595743543693468,   0.005132296590997534,   0.009369857341952377,    0.01503088224724725,  0.0026442737576058686,   0.009412607910987162,   0.015136008837794552,   0.006183325987444434,   0.005686315134360975,   0.002758202166164516,    0.01752942969967487,  0.0028987631589282243,   0.009462587077366422,   0.008049424936315205,  0.0030724971424344657,  0.0052205319745022355,  0.0029851535368370426,    0.00936908054032101,   0.017221553991101948,   0.002955799214830924,   0.012443642291872586,  0.0029721833686095697,    0.01718445812417817,   0.015005389497434298,   0.009413462861586822,  0.0029081353660038545,   0.009454891721283443,   0.005631317786194198,  5.421010862427522e-19,     0.0172647314748918,    0.00297985767996137,    0.01233268015480349,   0.017336852474218085,   0.006214015342657423,  0.0029733268368767013,   9.18861341181465e-18,                    0.0,  0.0029442377080731415,   0.002961364236878888,    0.00259448925739152,  0.0029775537659416174,  6.911788849595091e-18,  0.0027315517673786875]\n",
      "[   0.00757273160341609,   8.05020113070487e-18,   0.007876828591825853,   0.012150184821374426,    0.01698965689056527,  0.0076776010880996465,  2.981555974335137e-19,  0.0062036245216705544,   0.002931437647709783,   0.005361653322258182,   0.007255764162578729,   0.012382750822321575,    0.01720338728260642,   0.012308909399476946,                    0.0,  0.0056822372832877706,   0.014898701330168075, 3.0357660829594124e-18,   0.015129725521571503,   0.009438725468929243,   0.012383353849200923,   0.007602858610137027,   0.008126167191333187,   0.015147818546163238,   0.012335947167238152,   0.006234265067248505,   0.007873474920597949,   0.005572130425197247,    0.01743537333536151,   0.005135284308460012,    0.00623721360029475,   0.012361385758236526,   0.014650162585531236,   0.009318893138477042,  0.0062361436150661625,   0.006195460965386096,   0.006210607508505234,   0.014595743543693487,   0.005132296590997527,   0.009369857341952397,   0.015030882247247272,   0.002644273757605862,   0.009412607910987183,   0.015136008837794571,   0.006183325987444458,  0.0056863151343609685,  0.0027582021661645096,   0.017529429699674887,  0.0028987631589282178,   0.009462587077366441,   0.008049424936315197,  0.0030724971424344904,  0.0052205319745022285,   0.002985153536837068,   0.009369080540321033,    0.01722155399110197,   0.002955799214830918,   0.012443642291872609,  0.0029721833686095944,    0.01718445812417819,   0.015005389497434319,   0.009413462861586843,   0.002908135366003879,   0.009454891721283462,    0.00563131778619419,                    0.0,   0.017264731474891815,  0.0029798576799613956,   0.012332680154803512,   0.017336852474218106,  0.0062140153426574465,   0.002973326836876726, 1.7618285302889447e-17, 1.2468324983583301e-18,  0.0029442377080731346,   0.002961364236878913,   0.002594489257391514,   0.002977553765941643, 3.3068166260807885e-18,   0.002731551767378681]\n",
      "[  0.007572731603416095,  6.261267546103788e-18,   0.007876828591825855,   0.012150184821374418,   0.016989656890565263,   0.007677601088099652,                    0.0,   0.006203624521670549,   0.002931437647709786,  0.0053616533222581855,   0.007255764162578732,   0.012382750822321566,   0.017203387282606415,   0.012308909399476937,  2.168404344971009e-19,   0.005682237283287774,    0.01489870133016807, 2.0599841277224584e-18,   0.015129725521571494,   0.009438725468929236,   0.012383353849200916,   0.007602858610137034,   0.008126167191333189,   0.015147818546163233,   0.012335947167238147,   0.006234265067248497,   0.007873474920597949,  0.0055721304251972505,   0.017435373335361506,  0.0051352843084600175,   0.006237213600294743,    0.01236138575823652,   0.014650162585531227,   0.009318893138477035,  0.0062361436150661555,   0.006195460965386089,  0.0062106075085052274,   0.014595743543693482,    0.00513229659099753,    0.00936985734195239,   0.015030882247247263,   0.002644273757605864,   0.009412607910987176,   0.015136008837794566,   0.006183325987444451,   0.005686315134360972,  0.0027582021661645114,   0.017529429699674883,  0.0028987631589282195,   0.009462587077366436,   0.008049424936315198,  0.0030724971424344817,   0.005220531974502232,   0.002985153536837059,   0.009369080540321024,    0.01722155399110196,  0.0029557992148309194,   0.012443642291872602,  0.0029721833686095858,   0.017184458124178185,   0.015005389497434312,   0.009413462861586834,  0.0029081353660038705,   0.009454891721283457,   0.005631317786194193,                    0.0,   0.017264731474891815,   0.002979857679961387,   0.012332680154803502,     0.0173368524742181,  0.0062140153426574396,  0.0029733268368767173, 1.4609624274242172e-17, 6.2341624917916505e-19,  0.0029442377080731367,  0.0029613642368789043,  0.0025944892573915154,  0.0029775537659416343,   4.30970363562988e-18,  0.0027315517673786828]\n",
      "[  0.007572731603416078,  1.428436362249652e-17,   0.007876828591825839,   0.012150184821374437,   0.016989656890565277,   0.007677601088099631,  2.087089182034596e-18,   0.006203624521670565,  0.0029314376477097715,   0.005361653322258168,   0.007255764162578713,   0.012382750822321585,    0.01720338728260643,   0.012308909399476957,                    0.0,   0.005682237283287757,   0.014898701330168088,  7.074419175467916e-18,   0.015129725521571512,   0.009438725468929252,   0.012383353849200933,  0.0076028586101370135,   0.008126167191333173,   0.015147818546163249,   0.012335947167238166,   0.006234265067248513,   0.007873474920597933,   0.005572130425197235,    0.01743537333536152,   0.005135284308459998,   0.006237213600294759,   0.012361385758236539,   0.014650162585531245,   0.009318893138477053,   0.006236143615066172,   0.006195460965386104,   0.006210607508505243,     0.0145957435436935,   0.005132296590997513,   0.009369857341952408,    0.01503088224724728,  0.0026442737576058495,   0.009412607910987194,   0.015136008837794581,   0.006183325987444466,  0.0056863151343609555,   0.002758202166164497,   0.017529429699674894,  0.0028987631589282056,   0.009462587077366453,   0.008049424936315183,  0.0030724971424345004,   0.005220531974502213,   0.002985153536837078,   0.009369080540321041,   0.017221553991101975,   0.002955799214830906,   0.012443642291872618,  0.0029721833686096044,     0.0171844581241782,   0.015005389497434329,   0.009413462861586855,   0.002908135366003889,   0.009454891721283474,   0.005631317786194177,  8.402566836762659e-19,   0.017264731474891822,  0.0029798576799614056,   0.012332680154803521,   0.017336852474218113,   0.006214015342657456,   0.002973326836876736, 2.6752688606079822e-17,  4.038653092508504e-18,  0.0029442377080731224,  0.0029613642368789238,   0.002594489257391502,   0.002977553765941653,                    0.0,  0.0027315517673786693]\n",
      "[  0.010722250984914465,    0.00304563831015343,     0.0110263593645701,   0.008990630642292045,   0.013829965309443623,   0.010827124369008205,  0.0030761886576265688,   0.003045249520847223,   0.006079784228222137,   0.008510909274527105,    0.01040527156839574,   0.009223189131773724,   0.014043694052432752,   0.009149350540570644,  0.0030863811406977057,   0.008831534929132277,   0.011739052740779252,  0.0030618964904363033,    0.01197007333515382,    0.00627938611283412,   0.009223792130756605,   0.010752379112961612,   0.011275709740672038,   0.011988165957901701,   0.009176387370727413,   0.003075871071766337,   0.011023005564014128,   0.008721408511744827,   0.014275678272620485,    0.00828451849674621,   0.003078817581475949,   0.009201824989346697,   0.011490517257482675,   0.006159569459904071,  0.0030777483354559095,   0.003037090554872078,  0.0030522284485264683,   0.011436098920177839,   0.008281530491293527,  0.0062105284899278065,   0.011871231781503124,  0.0057924255684581325,  0.0062532734218489336,   0.011976356517108561,   0.003024962139008794,   0.008835614069685683,   0.005906412809384377,   0.014369733832639566,  0.0060470689033981445,  0.0063032408814886354,   0.011198962962605832,  8.131516293641283e-19,   0.008369774352571352,                    0.0,    0.00620975177614354,   0.014061860620246848,   0.006104198656620395,   0.009284076690663412,  1.111307226797642e-18,    0.01402476504039471,   0.011845739413532395,   0.006254128237049459, 1.2603850255143989e-17,  0.0062955481353898345,   0.008780604259807904,  0.0030817312100156055,   0.014105037768677987,  2.710505431213761e-20,   0.009173120476007391,   0.014177158202921314,   0.003055634251739461,  8.944667923005412e-19,  0.0030167737297658237,   0.003069962003421092,   0.006092607963432648, 3.1712913545201005e-18,  0.0057426161647412275,  2.439454888092385e-19,   0.003103544055379457,   0.005879748195340066]\n",
      "[  0.010722250984914451,   0.003045638310153418,   0.011026359364570085,   0.008990630642292032,    0.01382996530944361,    0.01082712436900819,  0.0030761886576265557,   0.003045249520847209,   0.006079784228222123,    0.00851090927452709,   0.010405271568395727,   0.009223189131773708,   0.014043694052432738,    0.00914935054057063,  0.0030863811406976935,   0.008831534929132264,   0.011739052740779238,  0.0030618964904362903,   0.011970073335153809,   0.006279386112834106,    0.00922379213075659,   0.010752379112961598,   0.011275709740672026,   0.011988165957901689,     0.0091763873707274,  0.0030758710717663238,   0.011023005564014114,   0.008721408511744813,   0.014275678272620473,   0.008284518496746196,   0.003078817581475936,   0.009201824989346684,    0.01149051725748266,   0.006159569459904057,   0.003077748335455896,   0.003037090554872064,   0.003052228448526455,   0.011436098920177827,   0.008281530491293513,   0.006210528489927793,    0.01187123178150311,    0.00579242556845812,   0.006253273421848918,   0.011976356517108547,    0.00302496213900878,   0.008835614069685669,   0.005906412809384363,   0.014369733832639552,  0.0060470689033981315,  0.0063032408814886216,    0.01119896296260582,                    0.0,   0.008369774352571338,  5.421010862427522e-20,  0.0062097517761435265,   0.014061860620246834,   0.006104198656620381,   0.009284076690663398,  9.215718466126788e-19,   0.014024765040394698,   0.011845739413532381,  0.0062541282370494455, 1.0923336887791457e-17,   0.006295548135389821,    0.00878060425980789,  0.0030817312100155933,   0.014105037768677973,                    0.0,   0.009173120476007377,     0.0141771582029213,  0.0030556342517394476,  7.318364664277155e-19,   0.003016773729765811,  0.0030699620034210797,   0.006092607963432634, 2.7376104855258987e-18,   0.005742616164741214, 1.6263032587282567e-19,  0.0031035440553794447,   0.005879748195340054]\n",
      "[  0.010722250984914469,  0.0030456383101534344,   0.011026359364570101,   0.008990630642292056,   0.013829965309443634,   0.010827124369008206,   0.003076188657626573,  0.0030452495208472324,    0.00607978422822214,   0.008510909274527108,   0.010405271568395743,   0.009223189131773734,   0.014043694052432762,   0.009149350540570655,    0.00308638114069771,    0.00883153492913228,   0.011739052740779262,  0.0030618964904363067,   0.011970073335153831,   0.006279386112834131,   0.009223792130756615,   0.010752379112961615,   0.011275709740672041,   0.011988165957901711,   0.009176387370727424,  0.0030758710717663476,   0.011023005564014131,    0.00872140851174483,   0.014275678272620496,   0.008284518496746215,  0.0030788175814759596,   0.009201824989346708,   0.011490517257482685,   0.006159569459904081,    0.00307774833545592,  0.0030370905548720885,  0.0030522284485264783,    0.01143609892017785,    0.00828153049129353,   0.006210528489927817,   0.011871231781503134,   0.005792425568458138,   0.006253273421848944,   0.011976356517108572,  0.0030249621390088044,   0.008835614069685686,   0.005906412809384382,   0.014369733832639576,    0.00604706890339815,   0.006303240881488648,   0.011198962962605835, 3.2255014631443757e-18,   0.008369774352571354,                    0.0,   0.006209751776143551,    0.01406186062024686,   0.006104198656620399,   0.009284076690663423, 1.0570971181733668e-18,    0.01402476504039472,   0.011845739413532405,    0.00625412823704947, 1.2603850255143989e-17,   0.006295548135389845,   0.008780604259807907,    0.00308173121001561,   0.014105037768677995,                    0.0,   0.009173120476007402,   0.014177158202921324,   0.003055634251739471,  8.673617379884035e-19,  0.0030167737297658276,  0.0030699620034210953,   0.006092607963432651,   3.06287113727155e-18,   0.005742616164741233, 1.8973538018496328e-19,   0.003103544055379461,   0.005879748195340071]\n",
      "[   0.01072225098491443,  0.0030456383101533976,   0.011026359364570065,   0.008990630642292032,    0.01382996530944361,   0.010827124369008168,  0.0030761886576265362,  0.0030452495208472103,   0.006079784228222102,    0.00851090927452707,   0.010405271568395706,    0.00922318913177371,   0.014043694052432738,    0.00914935054057063,   0.003086381140697673,   0.008831534929132244,    0.01173905274077924,    0.00306189649043627,    0.01197007333515381,   0.006279386112834106,   0.009223792130756591,   0.010752379112961579,   0.011275709740672005,   0.011988165957901689,     0.0091763873707274,  0.0030758710717663246,   0.011023005564014093,   0.008721408511744792,   0.014275678272620473,   0.008284518496746177,   0.003078817581475937,   0.009201824989346684,   0.011490517257482662,   0.006159569459904058,   0.003077748335455897,  0.0030370905548720655,  0.0030522284485264553,   0.011436098920177827,   0.008281530491293492,   0.006210528489927793,    0.01187123178150311,  0.0057924255684580995,  0.0062532734218489205,    0.01197635651710855,  0.0030249621390087814,   0.008835614069685648,   0.005906412809384344,   0.014369733832639554,  0.0060470689033981125,  0.0063032408814886216,   0.011198962962605797,  6.749158523722265e-18,   0.008369774352571318,   4.87890977618477e-19,   0.006209751776143527,   0.014061860620246834,    0.00610419865662036,     0.0092840766906634, 3.7947076036992655e-19,   0.014024765040394698,   0.011845739413532381,  0.0062541282370494455,  6.342582709040201e-18,   0.006295548135389821,   0.008780604259807869,   0.003081731210015573,   0.014105037768677973,                    0.0,   0.009173120476007377,     0.0141771582029213,  0.0030556342517394485,  2.710505431213761e-19,   0.003016773729765791,  0.0030699620034210593,   0.006092607963432613, 1.4365678785432934e-18,  0.0057426161647411945,                    0.0,  0.0031035440553794248,   0.005879748195340033]\n",
      "[  0.010722250984914415,    0.00304563831015338,   0.011026359364570047,   0.008990630642292045,   0.013829965309443623,   0.010827124369008153,   0.003076188657626518,  0.0030452495208472246,   0.006079784228222083,   0.008510909274527053,   0.010405271568395689,   0.009223189131773724,   0.014043694052432752,   0.009149350540570644,   0.003086381140697655,   0.008831534929132226,   0.011739052740779254,  0.0030618964904362517,   0.011970073335153824,    0.00627938611283412,   0.009223792130756605,   0.010752379112961561,   0.011275709740671987,   0.011988165957901703,   0.009176387370727413,  0.0030758710717663385,   0.011023005564014076,   0.008721408511744777,   0.014275678272620487,   0.008284518496746157,  0.0030788175814759513,   0.009201824989346697,   0.011490517257482676,   0.006159569459904072,  0.0030777483354559117,    0.00303709055487208,  0.0030522284485264705,    0.01143609892017784,   0.008281530491293475,  0.0062105284899278065,   0.011871231781503126,  0.0057924255684580804,   0.006253273421848934,   0.011976356517108563,  0.0030249621390087953,    0.00883561406968563,   0.005906412809384325,   0.014369733832639568,   0.006047068903398093,   0.006303240881488637,    0.01119896296260578, 1.7672495411513722e-17,     0.0083697743525713, 1.2468324983583301e-18,   0.006209751776143541,    0.01406186062024685,   0.006104198656620341,   0.009284076690663414,                    0.0,    0.01402476504039471,   0.011845739413532395,   0.006254128237049459,  1.463672932855431e-18,   0.006295548135389836,   0.008780604259807853,  0.0030817312100155547,   0.014105037768677987,  2.981555974335137e-19,   0.009173120476007393,   0.014177158202921314,  0.0030556342517394633,                    0.0,  0.0030167737297657734,   0.003069962003421041,   0.006092607963432594, 1.3552527156068805e-19,   0.005742616164741175,  8.131516293641283e-20,  0.0031035440553794065,   0.005879748195340014]\n",
      "[   0.01072225098491443,   0.003045638310153397,   0.011026359364570065,    0.00899063064229207,   0.013829965309443647,    0.01082712436900817,  0.0030761886576265354,  0.0030452495208472463,   0.006079784228222102,    0.00851090927452707,   0.010405271568395706,   0.009223189131773746,   0.014043694052432776,   0.009149350540570669,  0.0030863811406976723,   0.008831534929132244,   0.011739052740779276,    0.00306189649043627,   0.011970073335153849,   0.006279386112834143,   0.009223792130756628,   0.010752379112961577,   0.011275709740672005,   0.011988165957901727,    0.00917638737072744,   0.003075871071766361,   0.011023005564014091,   0.008721408511744792,   0.014275678272620511,   0.008284518496746177,   0.003078817581475973,    0.00920182498934672,     0.0114905172574827,   0.006159569459904094,   0.003077748335455933,  0.0030370905548721015,  0.0030522284485264917,   0.011436098920177865,   0.008281530491293492,   0.006210528489927829,   0.011871231781503148,  0.0057924255684580995,   0.006253273421848955,   0.011976356517108586,   0.003024962139008817,   0.008835614069685648,   0.005906412809384344,    0.01436973383263959,   0.006047068903398111,   0.006303240881488658,   0.011198962962605797, 1.9705374484924043e-17,   0.008369774352571318, 1.0028870095490916e-18,   0.006209751776143564,   0.014061860620246874,    0.00610419865662036,   0.009284076690663437,  2.710505431213761e-20,   0.014024765040394736,    0.01184573941353242,   0.006254128237049482, 3.3881317890172014e-18,   0.006295548135389857,   0.008780604259807869,   0.003081731210015572,    0.01410503776867801, 1.6263032587282567e-19,   0.009173120476007416,   0.014177158202921338,   0.003055634251739485,                    0.0,  0.0030167737297657907,  0.0030699620034210584,   0.006092607963432613,  4.336808689942018e-19,  0.0057426161647411945,                    0.0,  0.0031035440553794248,   0.005879748195340033]\n",
      "[  0.010722250984914422,  0.0030456383101533885,   0.011026359364570056,   0.008990630642292075,   0.013829965309443653,   0.010827124369008161,  0.0030761886576265267,  0.0030452495208472524,  0.0060797842282220935,   0.008510909274527061,   0.010405271568395697,   0.009223189131773751,   0.014043694052432781,   0.009149350540570674,  0.0030863811406976636,   0.008831534929132235,   0.011739052740779283,   0.003061896490436261,   0.011970073335153852,    0.00627938611283415,   0.009223792130756633,   0.010752379112961568,   0.011275709740671996,   0.011988165957901732,   0.009176387370727443,  0.0030758710717663667,   0.011023005564014084,   0.008721408511744784,   0.014275678272620516,   0.008284518496746168,   0.003078817581475979,   0.009201824989346725,   0.011490517257482706,   0.006159569459904101,  0.0030777483354559394,  0.0030370905548721076,   0.003052228448526498,    0.01143609892017787,   0.008281530491293484,   0.006210528489927836,   0.011871231781503153,   0.005792425568458091,   0.006253273421848964,   0.011976356517108593,   0.003024962139008823,    0.00883561406968564,   0.005906412809384335,   0.014369733832639595,   0.006047068903398102,   0.006303240881488667,   0.011198962962605788, 2.4882439858542327e-17,   0.008369774352571309, 1.5449880957918438e-18,   0.006209751776143571,   0.014061860620246879,   0.006104198656620352,   0.009284076690663442,                    0.0,    0.01402476504039474,   0.011845739413532425,   0.006254128237049489, 1.2739375526704677e-18,   0.006295548135389864,    0.00878060425980786,  0.0030817312100155634,   0.014105037768678014,  4.607859233063394e-19,    0.00917312047600742,   0.014177158202921343,   0.003055634251739491,  2.710505431213761e-20,   0.003016773729765782,  0.0030699620034210498,   0.006092607963432604,                    0.0,   0.005742616164741184,  2.168404344971009e-19,   0.003103544055379415,   0.005879748195340024]\n",
      "[  0.010722250984914418,  0.0030456383101533863,   0.011026359364570052,   0.008990630642292089,   0.013829965309443666,   0.010827124369008158,  0.0030761886576265245,  0.0030452495208472675,    0.00607978422822209,   0.008510909274527058,   0.010405271568395694,   0.009223189131773765,   0.014043694052432795,   0.009149350540570688,  0.0030863811406976614,   0.008831534929132231,   0.011739052740779295,   0.003061896490436258,   0.011970073335153868,  0.0062793861128341635,   0.009223792130756647,   0.010752379112961565,   0.011275709740671993,   0.011988165957901746,   0.009176387370727457,  0.0030758710717663823,   0.011023005564014081,    0.00872140851174478,    0.01427567827262053,   0.008284518496746164,  0.0030788175814759947,    0.00920182498934674,    0.01149051725748272,   0.006159569459904115,   0.003077748335455954,  0.0030370905548721227,  0.0030522284485265134,   0.011436098920177882,    0.00828153049129348,    0.00621052848992785,   0.011871231781503167,   0.005792425568458087,   0.006253273421848976,   0.011976356517108605,  0.0030249621390088383,   0.008835614069685636,    0.00590641280938433,    0.01436973383263961,   0.006047068903398099,   0.006303240881488679,   0.011198962962605785,  3.168580849088887e-17,   0.008369774352571305, 2.4123498337802474e-18,   0.006209751776143585,   0.014061860620246893,   0.006104198656620348,   0.009284076690663456, 3.7947076036992655e-19,   0.014024765040394753,   0.011845739413532438,   0.006254128237049503,                    0.0,   0.006295548135389878,   0.008780604259807858,  0.0030817312100155612,   0.014105037768678028,  1.111307226797642e-18,   0.009173120476007435,   0.014177158202921357,  0.0030556342517395058,  4.336808689942018e-19,   0.003016773729765779,  0.0030699620034210476,   0.006092607963432601,                    0.0,   0.005742616164741182,  7.860465750519907e-19,  0.0031035440553794126,   0.005879748195340021]\n",
      "[  0.013937145106640203,    0.00625927369931474,   0.014241258276277143,   0.005785960210912959,    0.01062494890888495,   0.014042020122972369,   0.006289857112755756,  6.423897871976614e-18,   0.009294364985761762,   0.011725707400232054,   0.013620160724638819,   0.006018496038445857,    0.01083867432366985,   0.005944665935126985,   0.006300064922209498,   0.012046346682643021,   0.008534129725882354,   0.006275547704251959,   0.008765142011838695,   0.003075601548949727,  0.0060190989541388145,   0.013967273703272484,   0.014490613675371432,   0.008783233712103516,   0.005971699947442879, 1.3552527156068805e-19,   0.014237904420964903,   0.011936213810841237,   0.011070654867016689,   0.011499309699118346,                    0.0,   0.005997134651411676,   0.008285601855163718,   0.002955871675620793,                    0.0,  8.429671891074797e-18,  4.580754178751256e-18,   0.008231185172338534,   0.011496321602894363,  0.0030068016614450037,   0.008666304421145592,   0.009006972297256312,  0.0030495154055343054,   0.008771424885436467, 1.2441219929271163e-17,   0.012050426252630237,   0.009120969498420716,   0.011164708820531936,   0.009261642269110977,  0.0030994195927297585,   0.014413864959420361,  0.0030142529422384724,   0.011584568145391869,   0.003114466226819969,   0.003006025437454278,   0.010856840608411496,   0.009318789200477512,   0.006079371983901708,  0.0031215025604338148,    0.01081974560633433,   0.008640812935458701,    0.00305036947745386,  0.0031457241750904095,  0.0030917407806761114,   0.011995412313033724,   0.006295407602132229,   0.010900017082593954,   0.003117459990494023,  0.0059684334060974365,   0.010972136382454789, 3.9302328752599536e-18,   0.003120921020910906,   0.006230386675651258,  0.0062836224545003636,   0.009307193072973563,  0.0031266775346686223,   0.008957158755488998,   0.003118708866871314,   0.006317263923483311,   0.009094302453550106]\n",
      "[  0.013937145106640196,   0.006259273699314733,   0.014241258276277136,  0.0057859602109129795,   0.010624948908884971,    0.01404202012297236,  0.0062898571127557494, 3.5236570605778894e-18,   0.009294364985761755,   0.011725707400232044,   0.013620160724638812,  0.0060184960384458775,   0.010838674323669868,   0.005944665935127006,   0.006300064922209491,   0.012046346682643013,   0.008534129725882373,   0.006275547704251952,   0.008765142011838716,   0.003075601548949747,   0.006019098954138835,   0.013967273703272476,   0.014490613675371423,   0.008783233712103537,     0.0059716999474429,                    0.0,   0.014237904420964892,    0.01193621381084123,   0.011070654867016708,   0.011499309699118339, 1.6263032587282567e-19,   0.005997134651411697,   0.008285601855163739,   0.002955871675620813,  5.421010862427522e-20,  4.960224939121183e-18,  2.222614453595284e-18,   0.008231185172338555,   0.011496321602894355,  0.0030068016614450237,   0.008666304421145613,   0.009006972297256305,  0.0030495154055343253,   0.008771424885436488,  8.212831456577696e-18,   0.012050426252630229,   0.009120969498420707,   0.011164708820531955,    0.00926164226911097,  0.0030994195927297784,   0.014413864959420352,  0.0030142529422384646,   0.011584568145391863,   0.003114466226819961,  0.0030060254374542983,   0.010856840608411517,   0.009318789200477505,   0.006079371983901728,   0.003121502560433807,   0.010819745606334351,    0.00864081293545872,    0.00305036947745388,  0.0031457241750904017,  0.0030917407806761313,   0.011995412313033716,   0.006295407602132222,   0.010900017082593976,   0.003117459990494016,  0.0059684334060974556,   0.010972136382454808,  1.870248747537495e-18,   0.003120921020910899,   0.006230386675651251,   0.006283622454500357,   0.009307193072973556,  0.0031266775346686154,   0.008957158755488989,   0.003118708866871306,  0.0063172639234833055,   0.009094302453550097]\n",
      "[  0.013937145106640195,  0.0062592736993147295,   0.014241258276277133,   0.005785960210912969,   0.010624948908884959,   0.014042020122972359,   0.006289857112755748,  4.255493527005605e-18,   0.009294364985761753,    0.01172570740023204,   0.013620160724638808,   0.006018496038445866,   0.010838674323669856,   0.005944665935126994,  0.0063000649222094895,   0.012046346682643011,   0.008534129725882363,    0.00627554770425195,   0.008765142011838702,  0.0030756015489497367,   0.006019098954138825,   0.013967273703272474,    0.01449061367537142,   0.008783233712103529,   0.005971699947442888,                    0.0,   0.014237904420964889,   0.011936213810841229,   0.011070654867016697,   0.011499309699118337,  8.131516293641283e-20,   0.005997134651411685,   0.008285601855163726,  0.0029558716756208016,                    0.0,  5.827586677109586e-18,  2.846030702774449e-18,   0.008231185172338545,   0.011496321602894353,   0.003006801661445013,     0.0086663044211456,   0.009006972297256301,   0.003049515405534315,   0.008771424885436477,  9.215718466126788e-18,   0.012050426252630227,   0.009120969498420705,   0.011164708820531945,   0.009261642269110965,   0.003099419592729767,    0.01441386495942035,   0.003014252942238462,   0.011584568145391862,  0.0031144662268199584,   0.003006025437454287,   0.010856840608411505,   0.009318789200477502,   0.006079371983901718,  0.0031215025604338044,   0.010819745606334339,    0.00864081293545871,  0.0030503694774538697,     0.0031457241750904,   0.003091740780676121,   0.011995412313033716,    0.00629540760213222,   0.010900017082593966,  0.0031174599904940136,   0.005968433406097447,   0.010972136382454796, 2.4123498337802474e-18,  0.0031209210209108963,   0.006230386675651249,   0.006283622454500355,   0.009307193072973554,   0.003126677534668612,   0.008957158755488985,  0.0031187088668713035,   0.006317263923483302,   0.009094302453550094]\n",
      "[    0.0139371451066402,   0.006259273699314735,    0.01424125827627714,   0.005785960210913009,      0.010624948908885,   0.014042020122972364,   0.006289857112755753,  9.215718466126788e-19,   0.009294364985761758,   0.011725707400232047,   0.013620160724638815,   0.006018496038445907,     0.0108386743236699,   0.005944665935127036,   0.006300064922209495,   0.012046346682643016,   0.008534129725882404,   0.006275547704251956,   0.008765142011838745,  0.0030756015489497774,   0.006019098954138866,   0.013967273703272477,   0.014490613675371425,    0.00878323371210357,   0.005971699947442929,                    0.0,   0.014237904420964896,   0.011936213810841232,   0.011070654867016739,   0.011499309699118342,  5.149960319306146e-19,   0.005997134651411726,    0.00828560185516377,  0.0029558716756208424,  2.710505431213761e-19, 1.8973538018496328e-18, 1.3552527156068805e-19,   0.008231185172338586,   0.011496321602894358,  0.0030068016614450536,   0.008666304421145644,   0.009006972297256308,  0.0030495154055343557,   0.008771424885436519,  4.580754178751256e-18,   0.012050426252630232,    0.00912096949842071,   0.011164708820531987,   0.009261642269110972,   0.003099419592729808,   0.014413864959420356,   0.003014252942238467,   0.011584568145391867,  0.0031144662268199636,  0.0030060254374543282,   0.010856840608411548,   0.009318789200477509,   0.006079371983901758,  0.0031215025604338096,    0.01081974560633438,   0.008640812935458752,  0.0030503694774539104,  0.0031457241750904043,  0.0030917407806761617,   0.011995412313033717,   0.006295407602132224,   0.010900017082594008,   0.003117459990494018,   0.005968433406097487,    0.01097213638245484,                    0.0,  0.0031209210209109006,   0.006230386675651254,    0.00628362245450036,    0.00930719307297356,   0.003126677534668617,   0.008957158755488992,   0.003118708866871308,   0.006317263923483307,     0.0090943024535501]\n",
      "[  0.013937145106640176,   0.006259273699314711,   0.014241258276277115,   0.005785960210912995,   0.010624948908884985,    0.01404202012297234,    0.00628985711275573,   4.87890977618477e-19,   0.009294364985761734,   0.011725707400232023,   0.013620160724638791,  0.0060184960384458905,    0.01083867432366988,    0.00594466593512702,   0.006300064922209472,    0.01204634668264299,   0.008534129725882387,   0.006275547704251931,    0.00876514201183873,   0.003075601548949762,   0.006019098954138849,   0.013967273703272455,   0.014490613675371402,   0.008783233712103551,   0.005971699947442913, 6.2341624917916505e-19,   0.014237904420964871,    0.01193621381084121,   0.011070654867016723,    0.01149930969911832, 1.1655173354219173e-18,    0.00599713465141171,   0.008285601855163752,  0.0029558716756208276,  9.215718466126788e-19, 1.0842021724855044e-18,                    0.0,   0.008231185172338569,   0.011496321602894334,  0.0030068016614450375,   0.008666304421145628,   0.009006972297256284,  0.0030495154055343397,   0.008771424885436502, 3.1712913545201005e-18,    0.01205042625263021,   0.009120969498420686,    0.01116470882053197,    0.00926164226911095,  0.0030994195927297923,   0.014413864959420332,  0.0030142529422384446,   0.011584568145391843,  0.0031144662268199406,   0.003006025437454312,    0.01085684060841153,   0.009318789200477485,   0.006079371983901744,  0.0031215025604337866,   0.010819745606334365,   0.008640812935458734,  0.0030503694774538944,  0.0031457241750903818,   0.003091740780676146,   0.011995412313033695,   0.006295407602132201,    0.01090001708259399,   0.003117459990493995,   0.005968433406097471,   0.010972136382454823,                    0.0,  0.0031209210209108777,    0.00623038667565123,  0.0062836224545003375,   0.009307193072973535,   0.003126677534668594,   0.008957158755488968,  0.0031187088668712857,   0.006317263923483285,   0.009094302453550076]\n",
      "[  0.013937145106640148,  0.0062592736993146835,    0.01424125827627709,   0.005785960210912985,   0.010624948908884975,   0.014042020122972312,   0.006289857112755703,  2.710505431213761e-20,   0.009294364985761706,   0.011725707400231995,   0.013620160724638765,   0.006018496038445881,   0.010838674323669873,    0.00594466593512701,   0.006300064922209444,   0.012046346682642964,   0.008534129725882376,   0.006275547704251905,    0.00876514201183872,  0.0030756015489497514,    0.00601909895413884,   0.013967273703272427,   0.014490613675371375,   0.008783233712103542,   0.005971699947442904, 2.2768245622195593e-18,   0.014237904420964845,   0.011936213810841182,   0.011070654867016713,    0.01149930969911829, 3.0086610286472748e-18,     0.0059971346514117,   0.008285601855163742,   0.002955871675620817,  2.710505431213761e-18,                    0.0,                    0.0,    0.00823118517233856,   0.011496321602894306,  0.0030068016614450284,   0.008666304421145616,   0.009006972297256256,    0.00304951540553433,   0.008771424885436491, 1.1926223897340549e-18,    0.01205042625263018,   0.009120969498420659,    0.01116470882053196,   0.009261642269110922,   0.003099419592729782,   0.014413864959420304,   0.003014252942238416,   0.011584568145391817,  0.0031144662268199133,  0.0030060254374543027,    0.01085684060841152,   0.009318789200477458,   0.006079371983901734,  0.0031215025604337597,   0.010819745606334355,   0.008640812935458724,   0.003050369477453885,   0.003145724175090354,  0.0030917407806761357,   0.011995412313033669,   0.006295407602132175,    0.01090001708259398,   0.003117459990493968,   0.005968433406097461,   0.010972136382454813,  2.710505431213761e-19,  0.0031209210209108508,  0.0062303866756512035,    0.00628362245450031,   0.009307193072973508,  0.0031266775346685672,   0.008957158755488942,   0.003118708866871259,   0.006317263923483257,   0.009094302453550049]\n",
      "[  0.013937145106640165,   0.006259273699314701,   0.014241258276277105,   0.005785960210913009,   0.010624948908884999,   0.014042020122972329,    0.00628985711275572,                    0.0,   0.009294364985761723,   0.011725707400232013,    0.01362016072463878,   0.006018496038445904,   0.010838674323669894,   0.005944665935127034,   0.006300064922209462,    0.01204634668264298,     0.0085341297258824,   0.006275547704251921,   0.008765142011838744,  0.0030756015489497757,   0.006019098954138863,   0.013967273703272444,   0.014490613675371392,   0.008783233712103565,   0.005971699947442927,  2.656295322589486e-18,   0.014237904420964861,   0.011936213810841199,   0.011070654867016737,   0.011499309699118308,  3.496552006265752e-18,   0.005997134651411724,   0.008285601855163766,  0.0029558716756208415,  3.144186300207963e-18,                    0.0,                    0.0,   0.008231185172338583,   0.011496321602894323,  0.0030068016614450514,    0.00866630442114564,   0.009006972297256272,   0.003049515405534354,   0.008771424885436516, 1.3010426069826053e-18,     0.0120504262526302,   0.009120969498420676,   0.011164708820531983,   0.009261642269110939,   0.003099419592729806,   0.014413864959420321,  0.0030142529422384334,    0.01158456814539183,    0.00311446622681993,  0.0030060254374543265,   0.010856840608411545,   0.009318789200477474,   0.006079371983901756,  0.0031215025604337766,   0.010819745606334379,   0.008640812935458748,  0.0030503694774539087,  0.0031457241750903714,    0.00309174078067616,   0.011995412313033684,  0.0062954076021321925,   0.010900017082594004,   0.003117459990493985,   0.005968433406097485,   0.010972136382454837,  2.981555974335137e-19,  0.0031209210209108677,   0.006230386675651221,   0.006283622454500327,   0.009307193072973525,   0.003126677534668584,   0.008957158755488958,   0.003118708866871275,   0.006317263923483274,   0.009094302453550064]\n",
      "[  0.013937145106640141,   0.006259273699314678,    0.01424125827627708,   0.005785960210913019,    0.01062494890888501,   0.014042020122972305,   0.006289857112755697,  8.944667923005412e-19,   0.009294364985761699,   0.011725707400231988,   0.013620160724638756,   0.006018496038445916,   0.010838674323669906,   0.005944665935127046,  0.0063000649222094375,   0.012046346682642957,   0.008534129725882411,   0.006275547704251898,   0.008765142011838754,   0.003075601548949787,   0.006019098954138875,    0.01396727370327242,   0.014490613675371368,   0.008783233712103577,   0.005971699947442939,  7.318364664277155e-18,   0.014237904420964837,   0.011936213810841175,   0.011070654867016746,   0.011499309699118283,  8.538092108323347e-18,   0.005997134651411735,   0.008285601855163777,  0.0029558716756208528,   8.05020113070487e-18,                    0.0, 1.7076184216646695e-18,   0.008231185172338593,   0.011496321602894299,   0.003006801661445063,   0.008666304421145651,   0.009006972297256248,  0.0030495154055343657,   0.008771424885436526,                    0.0,   0.012050426252630173,   0.009120969498420652,   0.011164708820531994,   0.009261642269110915,  0.0030994195927298174,   0.014413864959420299,    0.00301425294223841,   0.011584568145391808,   0.003114466226819907,  0.0030060254374543374,   0.010856840608411555,   0.009318789200477452,   0.006079371983901768,  0.0031215025604337536,    0.01081974560633439,   0.008640812935458759,  0.0030503694774539204,   0.003145724175090348,  0.0030917407806761712,    0.01199541231303366,   0.006295407602132168,   0.010900017082594015,   0.003117459990493962,   0.005968433406097497,   0.010972136382454846,  2.439454888092385e-18,  0.0031209210209108447,  0.0062303866756511965,   0.006283622454500305,     0.0093071930729735,   0.003126677534668561,   0.008957158755488933,   0.003118708866871252,   0.006317263923483252,    0.00909430245355004]\n",
      "[  0.017091032018478478,   0.009412802818928354,    0.01739514757252218,   0.002632006391268829,   0.007469628740437661,    0.01719590784515981,     0.0094433923092561,   0.003044071137880587,   0.012448125033768418,   0.014879550065425648,   0.016774045184828685,  0.0028644103615945472,   0.007683346176880385,   0.002790628721365798,    0.00945360296952679,   0.015200195264387055,  0.0053790663092625705,   0.009429079719705863,   0.005610053035927138, 1.6263032587282567e-19,  0.0028650128070814374,   0.017121160847519554,   0.017644505492979957,   0.005628141932894747,  0.0028176465242253524,   0.003017941179825693,    0.01739179368984341,   0.015090059576950416,   0.007915317994775857,   0.014653149399150394,  0.0030147726642749057,  0.0028430645881993926,   0.005130562354795764, 2.4692704478357363e-17,  0.0030159390661622302,   0.003049451944555144,  0.0030390207604132856,  0.0050761509335421375,   0.014650161264227971, 1.0299920638612292e-17,   0.005511227566423213,    0.01216072100023326, 1.7076184216646695e-18,   0.005616334971707403,  0.0030565631125074075,   0.015204275022579594,   0.012274721485458122,   0.008009368165011323,   0.012415399822273509,                    0.0,   0.017567755801703826,   0.006166800541327724,   0.014738408951735005,   0.006267076572536088, 1.0462550964485118e-17,     0.0077015117865671,   0.012472552578304381,  0.0029252217283772457,   0.006274119350468699,   0.007664418162920619,   0.005485738796670261, 1.5449880957918438e-18,   0.006298368852640129,                    0.0,   0.015149259277597102,   0.009448944272235983,   0.007744686655060367,     0.0062700730120213,  0.0028143820090378003,   0.007816803260496967,   0.003036387936750602,     0.0062735372571268,   0.009383911726696973,   0.009437156170848813,   0.012460954597957834,   0.006279299443352896,     0.0121109061027653,   0.006271323032763102,   0.009470808770826445,   0.012248053636356199]\n",
      "[  0.017091032018478492,   0.009412802818928362,   0.017395147572522193,   0.002632006391268842,   0.007469628740437673,   0.017195907845159817,   0.009443392309256112,   0.003044071137880598,   0.012448125033768428,    0.01487955006542566,     0.0167740451848287,    0.00286441036159456,   0.007683346176880401,  0.0027906287213658116,   0.009453602969526803,   0.015200195264387066,   0.005379066309262584,   0.009429079719705871,   0.005610053035927149,                    0.0,  0.0028650128070814495,    0.01712116084751956,    0.01764450549297997,   0.005628141932894759,   0.002817646524225366,  0.0030179411798257035,   0.017391793689843425,   0.015090059576950426,    0.00791531799477587,   0.014653149399150406,   0.003014772664274916,   0.002843064588199405,   0.005130562354795776, 2.3337451762750483e-17,   0.003015939066162241,  0.0030494519445551545,   0.003039020760413296,    0.00507615093354215,   0.014650161264227982,  8.212831456577696e-18,   0.005511227566423223,    0.01216072100023327, 1.3552527156068805e-19,  0.0056163349717074165,   0.003056563112507419,   0.015204275022579603,   0.012274721485458131,   0.008009368165011336,    0.01241539982227352,  2.222614453595284e-18,    0.01756775580170384,   0.006166800541327736,   0.014738408951735015,     0.0062670765725361,  8.348356728138384e-18,   0.007701511786567114,   0.012472552578304394,  0.0029252217283772582,   0.006274119350468711,  0.0076644181629206345,   0.005485738796670275,                    0.0,   0.006298368852640138,  1.328147661294743e-18,    0.01514925927759711,   0.009448944272235993,   0.007744686655060379,    0.00627007301202131,   0.002814382009037813,    0.00781680326049698,  0.0030363879367506126,   0.006273537257126809,   0.009383911726696986,   0.009437156170848823,   0.012460954597957844,   0.006279299443352907,   0.012110906102765311,   0.006271323032763114,   0.009470808770826455,   0.012248053636356207]\n",
      "[   0.01709103201847845,   0.009412802818928326,   0.017395147572522154,   0.002632006391268824,   0.007469628740437654,   0.017195907845159782,   0.009443392309256072,   0.003044071137880561,   0.012448125033768392,    0.01487955006542562,   0.016774045184828657,   0.002864410361594541,   0.007683346176880382,  0.0027906287213657933,   0.009453602969526765,   0.015200195264387028,   0.005379066309262565,   0.009429079719705835,    0.00561005303592713,                    0.0,  0.0028650128070814313,   0.017121160847519527,   0.017644505492979932,    0.00562814193289474,  0.0028176465242253468,   0.003017941179825666,   0.017391793689843386,   0.015090059576950386,    0.00791531799477585,   0.014653149399150368,   0.003014772664274879,   0.002843064588199387,   0.005130562354795759, 1.6263032587282567e-17,  0.0030159390661622042,   0.003049451944555117,  0.0030390207604132588,   0.005076150933542132,   0.014650161264227943,  5.637851296924623e-18,   0.005511227566423204,   0.012160721000233231,  2.168404344971009e-19,   0.005616334971707396,   0.003056563112507382,   0.015204275022579566,   0.012274721485458094,   0.008009368165011318,    0.01241539982227348,                    0.0,     0.0175677558017038,   0.006166800541327697,   0.014738408951734979,    0.00626707657253606, 5.7462715141731735e-18,   0.007701511786567095,   0.012472552578304354,    0.00292522172837724,   0.006274119350468671,  0.0076644181629206155,   0.005485738796670256, 1.3552527156068805e-19,   0.006298368852640101,  8.131516293641283e-20,   0.015149259277597074,   0.009448944272235955,    0.00774468665506036,   0.006270073012021272,  0.0028143820090377946,    0.00781680326049696,  0.0030363879367505753,   0.006273537257126772,   0.009383911726696946,   0.009437156170848785,   0.012460954597957806,   0.006279299443352869,   0.012110906102765273,   0.006271323032763074,   0.009470808770826417,   0.012248053636356171]\n",
      "[   0.01709103201847843,   0.009412802818928302,    0.01739514757252213,  0.0026320063912688273,   0.007469628740437659,    0.01719590784515976,   0.009443392309256048,  0.0030440711378805366,   0.012448125033768367,   0.014879550065425596,   0.016774045184828636,  0.0028644103615945455,   0.007683346176880387,  0.0027906287213657977,   0.009453602969526739,   0.015200195264387003,  0.0053790663092625705,    0.00942907971970581,   0.005610053035927135,  2.520770051028798e-18,  0.0028650128070814357,     0.0171211608475195,   0.017644505492979908,   0.005628141932894745,   0.002817646524225351,  0.0030179411798256428,   0.017391793689843362,   0.015090059576950364,   0.007915317994775854,   0.014653149399150344,   0.003014772664274855,   0.002843064588199391,   0.005130562354795764,  7.399679827213568e-18,  0.0030159390661621804,  0.0030494519445550938,  0.0030390207604132353,  0.0050761509335421375,    0.01465016126422792, 1.0028870095490916e-18,   0.005511227566423209,   0.012160721000233207,                    0.0,   0.005616334971707401,  0.0030565631125073576,   0.015204275022579542,    0.01227472148545807,    0.00800936816501132,   0.012415399822273456,  4.553649124439119e-18,   0.017567755801703777,   0.006166800541327674,   0.014738408951734954,   0.006267076572536037, 1.0299920638612292e-18,   0.007701511786567098,    0.01247255257830433,  0.0029252217283772444,   0.006274119350468648,   0.007664418162920621,   0.005485738796670261,                    0.0,   0.006298368852640078,  4.065758146820642e-18,    0.01514925927759705,    0.00944894427223593,   0.007744686655060363,   0.006270073012021249,   0.002814382009037799,   0.007816803260496963,   0.003036387936750552,   0.006273537257126749,   0.009383911726696921,    0.00943715617084876,   0.012460954597957782,  0.0062792994433528435,   0.012110906102765247,   0.006271323032763051,   0.009470808770826395,   0.012248053636356147]\n",
      "[  0.017091032018478437,   0.009412802818928308,   0.017395147572522137,  0.0026320063912688395,   0.007469628740437671,    0.01719590784515977,   0.009443392309256053,  0.0030440711378805444,   0.012448125033768374,     0.0148795500654256,   0.016774045184828643,   0.002864410361594557,   0.007683346176880397,   0.002790628721365809,   0.009453602969526747,    0.01520019526438701,   0.005379066309262583,   0.009429079719705817,   0.005610053035927147,  4.065758146820642e-18,  0.0028650128070814474,   0.017121160847519513,   0.017644505492979915,   0.005628141932894757,  0.0028176465242253632,  0.0030179411798256493,    0.01739179368984337,    0.01509005957695037,   0.007915317994775866,   0.014653149399150349,  0.0030147726642748623,  0.0028430645881994026,   0.005130562354795774,  6.423897871976614e-18,  0.0030159390661621873,  0.0030494519445551007,  0.0030390207604132423,   0.005076150933542148,   0.014650161264227926,                    0.0,   0.005511227566423221,   0.012160721000233212,                    0.0,   0.005616334971707413,  0.0030565631125073645,   0.015204275022579549,   0.012274721485458077,   0.008009368165011332,   0.012415399822273463,  8.321251673826247e-18,   0.017567755801703784,  0.0061668005413276815,   0.014738408951734961,  0.0062670765725360445,                    0.0,   0.007701511786567109,   0.012472552578304335,  0.0029252217283772565,   0.006274119350468656,   0.007664418162920631,   0.005485738796670274,  5.421010862427522e-20,   0.006298368852640084,  7.020209066843641e-18,   0.015149259277597056,   0.009448944272235936,   0.007744686655060377,   0.006270073012021255,   0.002814382009037811,   0.007816803260496974,  0.0030363879367505584,   0.006273537257126755,   0.009383911726696928,   0.009437156170848768,   0.012460954597957787,   0.006279299443352851,   0.012110906102765252,   0.006271323032763058,   0.009470808770826398,   0.012248053636356152]\n",
      "[   0.01709103201847843,   0.009412802818928295,   0.017395147572522127,   0.002632006391268841,   0.007469628740437673,    0.01719590784515976,    0.00944339230925604,  0.0030440711378805314,    0.01244812503376836,   0.014879550065425587,    0.01677404518482863,   0.002864410361594559,   0.007683346176880397,  0.0027906287213658107,   0.009453602969526733,   0.015200195264386996,   0.005379066309262583,   0.009429079719705804,   0.005610053035927147,  7.318364664277155e-18,  0.0028650128070814487,     0.0171211608475195,   0.017644505492979905,   0.005628141932894758,   0.002817646524225365,  0.0030179411798256367,    0.01739179368984336,   0.015090059576950357,   0.007915317994775866,   0.014653149399150335,  0.0030147726642748497,  0.0028430645881994043,   0.005130562354795776,  4.065758146820642e-18,  0.0030159390661621747,  0.0030494519445550877,  0.0030390207604132297,    0.00507615093354215,   0.014650161264227912,                    0.0,   0.005511227566423221,   0.012160721000233198,  2.168404344971009e-18,   0.005616334971707413,  0.0030565631125073515,   0.015204275022579535,   0.012274721485458063,   0.008009368165011334,    0.01241539982227345, 1.2034644114589099e-17,   0.017567755801703777,   0.006166800541327668,   0.014738408951734948,  0.0062670765725360315,                    0.0,   0.007701511786567109,    0.01247255257830432,  0.0029252217283772574,   0.006274119350468642,   0.007664418162920633,   0.005485738796670274, 2.2497195079074217e-18,   0.006298368852640072, 1.0652286344670081e-17,   0.015149259277597043,   0.009448944272235922,   0.007744686655060377,   0.006270073012021243,   0.002814382009037812,   0.007816803260496974,   0.003036387936750546,   0.006273537257126743,   0.009383911726696914,   0.009437156170848754,   0.012460954597957775,   0.006279299443352839,    0.01211090610276524,   0.006271323032763046,   0.009470808770826386,   0.012248053636356138]\n",
      "[  0.017091032018478444,   0.009412802818928312,    0.01739514757252214,  0.0026320063912688508,   0.007469628740437683,    0.01719590784515977,   0.009443392309256057,   0.003044071137880547,   0.012448125033768378,   0.014879550065425604,   0.016774045184828643,   0.002864410361594568,   0.007683346176880408,  0.0027906287213658202,   0.009453602969526749,   0.015200195264387014,   0.005379066309262593,    0.00942907971970582,   0.005610053035927157,  6.749158523722265e-18,  0.0028650128070814578,   0.017121160847519513,    0.01764450549297992,   0.005628141932894768,  0.0028176465242253737,   0.003017941179825653,   0.017391793689843373,   0.015090059576950374,   0.007915317994775876,   0.014653149399150352,  0.0030147726642748658,  0.0028430645881994134,  0.0051305623547957865, 5.9631119486702744e-18,  0.0030159390661621908,   0.003049451944555104,  0.0030390207604132457,    0.00507615093354216,    0.01465016126422793,                    0.0,   0.005511227566423232,   0.012160721000233216, 1.2739375526704677e-18,  0.0056163349717074235,   0.003056563112507368,   0.015204275022579553,    0.01227472148545808,   0.008009368165011344,   0.012415399822273467, 1.2902005852577503e-17,    0.01756775580170379,   0.006166800541327685,   0.014738408951734965,   0.006267076572536049,                    0.0,   0.007701511786567119,   0.012472552578304338,  0.0029252217283772678,   0.006274119350468659,  0.0076644181629206415,   0.005485738796670284, 1.3552527156068805e-18,   0.006298368852640089, 1.0923336887791457e-17,    0.01514925927759706,    0.00944894427223594,   0.007744686655060386,   0.006270073012021258,  0.0028143820090378215,   0.007816803260496984,  0.0030363879367505623,    0.00627353725712676,   0.009383911726696932,   0.009437156170848771,    0.01246095459795779,   0.006279299443352855,   0.012110906102765258,   0.006271323032763062,   0.009470808770826402,   0.012248053636356155]\n",
      "[  0.017091032018478423,   0.009412802818928291,   0.017395147572522127,  0.0026320063912688794,   0.007469628740437711,   0.017195907845159755,    0.00944339230925604,  0.0030440711378805297,   0.012448125033768359,   0.014879550065425587,    0.01677404518482863,  0.0028644103615945975,   0.007683346176880437,   0.002790628721365849,   0.009453602969526732,   0.015200195264386995,  0.0053790663092626225,   0.009429079719705802,   0.005610053035927187,  2.054563116860031e-17,  0.0028650128070814873,     0.0171211608475195,     0.0176445054929799,   0.005628141932894797,   0.002817646524225403,   0.003017941179825636,   0.017391793689843355,   0.015090059576950355,   0.007915317994775904,   0.014653149399150335,  0.0030147726642748484,   0.002843064588199443,   0.005130562354795816,                    0.0,   0.003015939066162173,   0.003049451944555087,  0.0030390207604132284,  0.0050761509335421895,    0.01465016126422791, 1.0842021724855044e-19,   0.005511227566423261,   0.012160721000233196,  9.107298248878237e-18,   0.005616334971707453,  0.0030565631125073506,   0.015204275022579533,   0.012274721485458061,   0.008009368165011372,    0.01241539982227345,  3.252606517456513e-17,   0.017567755801703774,   0.006166800541327668,   0.014738408951734944,   0.006267076572536031,                    0.0,    0.00770151178656715,    0.01247255257830432,  0.0029252217283772964,   0.006274119350468642,   0.007664418162920671,  0.0054857387966703135,  9.351243737687476e-18,   0.006298368852640072,  2.867714746224159e-17,    0.01514925927759704,    0.00944894427223592,   0.007744686655060415,   0.006270073012021243,   0.002814382009037851,   0.007816803260497013,  0.0030363879367505445,   0.006273537257126743,   0.009383911726696914,   0.009437156170848752,   0.012460954597957773,   0.006279299443352837,    0.01211090610276524,  0.0062713230327630445,   0.009470808770826383,   0.012248053636356136]\n",
      "[  0.020089559725092503,   0.012411178111561828,   0.020393676604074634, 3.7947076036992655e-17,   0.004473483294155099,    0.02019443600129191,   0.012441769687670117,   0.006041275460331466,   0.015446590026437657,    0.01787805431268942,   0.019772571536215543,  5.421010862427522e-20,   0.004687174731743776, 1.6263032587282567e-17,   0.012451981330641546,    0.01819870253466536,   0.002384093073702462,   0.012427456004766812,   0.002614927481389631,   0.002780136602012787,                    0.0,   0.020119688682975364,   0.020643035933083576,  0.0026330002550240357,  9.730714498057402e-18,   0.006015126369530986,   0.020390322706150238,   0.018088565404556736,    0.00491911869216352,   0.017651652143459578,   0.006011955768240056,  3.577867169202165e-18,   0.002135740777232698,   0.002910999361397567,    0.00601312293322309,    0.00604666077263027,   0.006036221060933594,  0.0020813639713926683,   0.017648663988974474,  0.0028806116849267203,  0.0025161730361954932,   0.015159180974289714,  0.0028331901221346606,  0.0026212040107594283,  0.0060537783043807065,    0.01820278238955522,    0.01527318290411565,   0.005013156968029798,   0.015413863704478807,   0.002690605617934976,   0.020566285696021275,   0.009164936556836588,   0.017736912255871692,   0.009265224074930342,   0.002881227367251635,   0.004705338164856648,   0.015471019059207225,                    0.0,   0.009272268052893934,   0.004668248989505767,  0.0024907004769972965,  0.0028318592174270477,   0.009296522793043152,   0.002726477973594119,   0.018147765718361037,   0.012447322158275995,   0.004748507870589345,   0.009268221012224498, 1.0489656018797255e-17,   0.004820615858221422,   0.006033586211534017,   0.009271685856270842,   0.012382285629631054,   0.012435533040105895,   0.015459420249881407,   0.009277449101704489,   0.015109365482377445,   0.009269471246067099,   0.012469189486950681,   0.015246514700639577]\n",
      "[   0.02008955972509246,   0.012411178111561791,     0.0203936766040746, 1.8675382421062814e-17,   0.004473483294155094,   0.020194436001291876,    0.01244176968767008,    0.00604127546033143,    0.01544659002643762,   0.017878054312689382,    0.01977257153621551,                    0.0,   0.004687174731743771,  7.995991022080595e-18,   0.012451981330641508,   0.018198702534665327,  0.0023840930737024577,   0.012427456004766775,   0.002614927481389627,  0.0027801366020127525,                    0.0,    0.02011968868297533,   0.020643035933083538,  0.0026330002550240313,   4.30970363562988e-18,   0.006015126369530949,     0.0203903227061502,     0.0180885654045567,   0.004919118692163515,   0.017651652143459543,    0.00601195576824002, 1.0299920638612292e-18,  0.0021357407772326946,   0.002910999361397532,  0.0060131229332230545,   0.006046660772630234,   0.006036221060933559,   0.002081363971392665,   0.017648663988974432,  0.0028806116849266847,  0.0025161730361954898,    0.01515918097428968,   0.002833190122134625,   0.002621204010759424,   0.006053778304380672,    0.01820278238955518,   0.015273182904115612,   0.005013156968029794,   0.015413863704478769,  0.0026906056179349406,   0.020566285696021237,   0.009164936556836553,   0.017736912255871658,   0.009265224074930306,  0.0028812273672515995,   0.004705338164856643,    0.01547101905920719,  5.041540102057596e-18,   0.009272268052893898,   0.004668248989505764,   0.002490700476997293,  0.0028318592174270112,   0.009296522793043115,  0.0027264779735940835,   0.018147765718361002,   0.012447322158275962,    0.00474850787058934,   0.009268221012224461,  4.689174395999807e-18,   0.004820615858221419,   0.006033586211533981,    0.00927168585627081,   0.012382285629631016,   0.012435533040105858,   0.015459420249881372,   0.009277449101704452,   0.015109365482377408,   0.009269471246067062,   0.012469189486950647,   0.015246514700639542]\n",
      "[  0.020089559725092476,   0.012411178111561803,   0.020393676604074613,  1.940721888749053e-17,   0.004473483294155123,   0.020194436001291883,   0.012441769687670093,   0.006041275460331442,   0.015446590026437633,   0.017878054312689393,   0.019772571536215523,                    0.0,   0.004687174731743801,  6.261267546103788e-18,   0.012451981330641524,   0.018198702534665337,  0.0023840930737024863,   0.012427456004766788,  0.0026149274813896555,   0.002780136602012763,  5.421010862427522e-20,   0.020119688682975343,    0.02064303593308355,    0.00263300025502406, 2.6834003769016235e-18,   0.006015126369530961,    0.02039032270615021,   0.018088565404556712,  0.0049191186921635445,    0.01765165214345955,   0.006011955768240032,                    0.0,  0.0021357407772327223,  0.0029109993613975426,   0.006013122933223067,   0.006046660772630246,   0.006036221060933569,  0.0020813639713926925,   0.017648663988974453,  0.0028806116849266956,  0.0025161730361955175,   0.015159180974289688,  0.0028331901221346364,  0.0026212040107594526,   0.006053778304380682,   0.018202782389555194,   0.015273182904115624,  0.0050131569680298225,   0.015413863704478782,   0.002690605617934952,   0.020566285696021248,   0.009164936556836563,   0.017736912255871665,   0.009265224074930316,  0.0028812273672516107,  0.0047053381648566725,   0.015471019059207204,  1.292911090688964e-17,    0.00927226805289391,   0.004668248989505793,  0.0024907004769973208,  0.0028318592174270234,   0.009296522793043127,   0.002726477973594095,   0.018147765718361013,    0.01244732215827597,   0.004748507870589368,   0.009268221012224473, 3.0357660829594124e-18,  0.0048206158582214465,   0.006033586211533993,    0.00927168585627082,   0.012382285629631031,    0.01243553304010587,   0.015459420249881383,   0.009277449101704464,    0.01510936548237742,   0.009269471246067074,   0.012469189486950657,   0.015246514700639553]\n",
      "[   0.02008955972509247,   0.012411178111561796,   0.020393676604074602, 1.7726705520137997e-17,   0.004473483294155111,   0.020194436001291876,   0.012441769687670084,   0.006041275460331433,   0.015446590026437626,   0.017878054312689382,   0.019772571536215516,                    0.0,  0.0046871747317437885,  6.423897871976614e-18,   0.012451981330641513,    0.01819870253466533,   0.002384093073702474,    0.01242745600476678,   0.002614927481389643,   0.002780136602012756,  2.710505431213761e-20,   0.020119688682975336,    0.02064303593308354,  0.0026330002550240474, 2.9815559743351372e-18,   0.006015126369530953,   0.020390322706150203,   0.018088565404556705,   0.004919118692163532,   0.017651652143459543,   0.006011955768240024,  2.710505431213761e-19,    0.00213574077723271,  0.0029109993613975356,   0.006013122933223058,   0.006046660772630237,  0.0060362210609335625,  0.0020813639713926804,    0.01764866398897444,  0.0028806116849266887,  0.0025161730361955054,   0.015159180974289681,  0.0028331901221346294,    0.00262120401075944,  0.0060537783043806736,   0.018202782389555187,   0.015273182904115617,  0.0050131569680298095,   0.015413863704478774,   0.002690605617934945,    0.02056628569602124,   0.009164936556836558,   0.017736912255871658,   0.009265224074930311,   0.002881227367251604,   0.004705338164856659,   0.015471019059207194,  9.893344823930228e-18,   0.009272268052893901,   0.004668248989505779,  0.0024907004769973086,  0.0028318592174270156,   0.009296522793043122,   0.002726477973594088,   0.018147765718361006,   0.012447322158275965,   0.004748507870589356,   0.009268221012224466,  3.333921680392926e-18,   0.004820615858221434,   0.006033586211533985,   0.009271685856270811,    0.01238228562963102,   0.012435533040105862,   0.015459420249881376,   0.009277449101704457,   0.015109365482377412,   0.009269471246067067,    0.01246918948695065,   0.015246514700639546]\n",
      "[  0.020089559725092448,   0.012411178111561772,    0.02039367660407458,  3.957337929572091e-18,   0.004473483294155127,   0.020194436001291862,   0.012441769687670062,  0.0060412754603314115,   0.015446590026437602,   0.017878054312689365,   0.019772571536215495, 2.5478751053409354e-18,   0.004687174731743804,  9.215718466126788e-19,    0.01245198133064149,   0.018198702534665306,   0.002384093073702488,   0.012427456004766756,  0.0026149274813896573,  0.0027801366020127334,  2.656295322589486e-18,   0.020119688682975315,    0.02064303593308352,  0.0026330002550240617,                    0.0,    0.00601512636953093,   0.020390322706150182,    0.01808856540455668,   0.004919118692163545,   0.017651652143459522,   0.006011955768240001,  8.131516293641283e-20,   0.002135740777232725,   0.002910999361397513,   0.006013122933223036,   0.006046660772630216,   0.006036221060933541,  0.0020813639713926943,   0.017648663988974418,  0.0028806116849266665,  0.0025161730361955193,   0.015159180974289659,   0.002833190122134607,  0.0026212040107594543,   0.006053778304380652,   0.018202782389555167,   0.015273182904115593,   0.005013156968029824,    0.01541386370447875,  0.0026906056179349224,   0.020566285696021216,   0.009164936556836534,   0.017736912255871637,   0.009265224074930287,  0.0028812273672515812,   0.004705338164856674,   0.015471019059207171,   2.11148373091552e-17,   0.009272268052893879,   0.004668248989505795,  0.0024907004769973225,   0.002831859217426994,   0.009296522793043096,  0.0027264779735940653,    0.01814776571836098,   0.012447322158275943,   0.004748507870589371,   0.009268221012224444,                    0.0,    0.00482061585822145,   0.006033586211533964,   0.009271685856270789,   0.012382285629630998,    0.01243553304010584,    0.01545942024988135,   0.009277449101704431,    0.01510936548237739,   0.009269471246067043,   0.012469189486950628,   0.015246514700639523]\n",
      "[  0.020089559725092455,   0.012411178111561776,   0.020393676604074585,  5.041540102057596e-18,  0.0044734832941551285,   0.020194436001291862,   0.012441769687670065,   0.006041275460331415,   0.015446590026437605,    0.01787805431268937,   0.019772571536215495, 2.4123498337802474e-18,   0.004687174731743806, 1.0842021724855044e-18,   0.012451981330641494,    0.01819870253466531,  0.0023840930737024915,    0.01242745600476676,  0.0026149274813896603,   0.002780136602012737,  2.520770051028798e-18,   0.020119688682975315,   0.020643035933083524,   0.002633000255024065,                    0.0,   0.006015126369530934,   0.020390322706150186,   0.018088565404556684,   0.004919118692163549,    0.01765165214345953,   0.006011955768240005,                    0.0,  0.0021357407772327275,  0.0029109993613975166,    0.00601312293322304,   0.006046660772630219,  0.0060362210609335425,  0.0020813639713926978,   0.017648663988974425,  0.0028806116849266696,  0.0025161730361955227,   0.015159180974289662,  0.0028331901221346103,   0.002621204010759458,   0.006053778304380655,    0.01820278238955517,   0.015273182904115596,   0.005013156968029827,   0.015413863704478753,   0.002690605617934926,    0.02056628569602122,   0.009164936556836537,   0.017736912255871644,    0.00926522407493029,  0.0028812273672515847,   0.004705338164856678,   0.015471019059207175, 2.1521413123837263e-17,   0.009272268052893882,   0.004668248989505798,   0.002490700476997326,  0.0028318592174269965,     0.0092965227930431,   0.002726477973594069,   0.018147765718360985,   0.012447322158275946,   0.004748507870589375,   0.009268221012224447,  5.421010862427522e-20,   0.004820615858221453,   0.006033586211533966,   0.009271685856270792,   0.012382285629631002,   0.012435533040105843,   0.015459420249881353,   0.009277449101704435,   0.015109365482377393,   0.009269471246067047,   0.012469189486950631,   0.015246514700639527]\n",
      "[   0.02008955972509244,    0.01241117811156177,   0.020393676604074578,  9.215718466126788e-19,   0.004473483294155148,   0.020194436001291848,    0.01244176968767006,    0.00604127546033141,     0.0154465900264376,    0.01787805431268936,   0.019772571536215488,  5.637851296924623e-18,   0.004687174731743825,                    0.0,    0.01245198133064149,   0.018198702534665302,  0.0023840930737025097,   0.012427456004766755,  0.0026149274813896776,   0.002780136602012732,  5.800481622797449e-18,    0.02011968868297531,   0.020643035933083517,   0.002633000255024083, 1.3552527156068805e-19,   0.006015126369530928,    0.02039032270615018,   0.018088565404556677,   0.004919118692163568,   0.017651652143459522,  0.0060119557682400005, 1.6263032587282567e-18,  0.0021357407772327457,   0.002910999361397512,  0.0060131229332230345,   0.006046660772630214,   0.006036221060933539,   0.002081363971392716,    0.01764866398897441,   0.002880611684926665,  0.0025161730361955405,   0.015159180974289659,  0.0028331901221346056,   0.002621204010759475,    0.00605377830438065,    0.01820278238955516,   0.015273182904115591,   0.005013156968029845,    0.01541386370447875,   0.002690605617934921,   0.020566285696021213,   0.009164936556836532,   0.017736912255871637,   0.009265224074930287,    0.00288122736725158,   0.004705338164856695,   0.015471019059207171,  3.130633773051894e-17,   0.009272268052893877,   0.004668248989505816,  0.0024907004769973437,  0.0028318592174269917,   0.009296522793043095,   0.002726477973594064,   0.018147765718360978,   0.012447322158275941,   0.004748507870589392,   0.009268221012224442,                    0.0,   0.004820615858221471,   0.006033586211533962,   0.009271685856270787,   0.012382285629630996,   0.012435533040105836,    0.01545942024988135,   0.009277449101704433,    0.01510936548237739,   0.009269471246067043,   0.012469189486950626,   0.015246514700639521]\n",
      "[   0.02008955972509244,   0.012411178111561767,   0.020393676604074575,                    0.0,   0.004473483294155144,   0.020194436001291848,   0.012441769687670056,   0.006041275460331406,   0.015446590026437597,   0.017878054312689358,   0.019772571536215488,  5.936006894358137e-18,  0.0046871747317438215,                    0.0,   0.012451981330641487,     0.0181987025346653,  0.0023840930737025062,   0.012427456004766751,  0.0026149274813896746,  0.0027801366020127286, 6.0986372202309624e-18,     0.0201196886829753,   0.020643035933083514,  0.0026330002550240795,  2.710505431213761e-19,   0.006015126369530925,   0.020390322706150175,   0.018088565404556674,   0.004919118692163564,   0.017651652143459515,   0.006011955768239997, 1.8973538018496328e-18,  0.0021357407772327423,  0.0029109993613975083,   0.006013122933223032,    0.00604666077263021,   0.006036221060933536,  0.0020813639713927125,    0.01764866398897441,  0.0028806116849266613,   0.002516173036195537,   0.015159180974289655,   0.002833190122134602,  0.0026212040107594717,   0.006053778304380647,   0.018202782389555156,   0.015273182904115588,  0.0050131569680298416,   0.015413863704478746,  0.0026906056179349176,    0.02056628569602121,   0.009164936556836529,    0.01773691225587163,   0.009265224074930283,  0.0028812273672515765,  0.0047053381648566915,   0.015471019059207168,  3.108949729602184e-17,   0.009272268052893873,   0.004668248989505812,  0.0024907004769973403,  0.0028318592174269882,   0.009296522793043091,  0.0027264779735940606,   0.018147765718360975,   0.012447322158275938,   0.004748507870589389,   0.009268221012224439, 1.3552527156068805e-19,   0.004820615858221467,   0.006033586211533958,   0.009271685856270783,   0.012382285629630993,   0.012435533040105832,   0.015459420249881346,    0.00927744910170443,   0.015109365482377386,    0.00926947124606704,   0.012469189486950623,   0.015246514700639518]\n",
      "[   0.02285186540256134,   0.015173405274296385,   0.023155983077754686,  0.0027155926360123896,  0.0017135612205964833,   0.022956741948584162,   0.015203997794782174,   0.008803175325847559,   0.018208860688017824,   0.020640346319737587,    0.02253487640212432,  0.0026301210489598054,  0.0019270740741982515,   0.002677863298401649,   0.015214209883663362,   0.020960996260718547, 1.1655173354219173e-17,   0.015189683616492942,  6.505213034913027e-19,   0.005540974617495812,   0.002629515832782237,    0.02288199443774903,    0.02340534325628625,                    0.0,  0.0026648735318006377,    0.00877702264381847,    0.02315262917065273,   0.020850858308771925,   0.002158838311149478,   0.020413943300242866,   0.008773851653029768,   0.002648559302689529, 1.5585406229479126e-17,  0.0056719312118719166,   0.008775018960470473,   0.008808561488698853,   0.008798120168773921, 1.6398557858843255e-17,   0.020410955134709516,  0.0056415140921425196,  5.664956351236761e-18,   0.017921449024445917,  0.0055940587798748295,  2.710505431213761e-19,   0.008815680224954976,    0.02096507617079066,   0.018035451703472427,  0.0022528032965899785,     0.0181761337861248,   0.005451398013442674,   0.023328592689672887,   0.011927069845943208,    0.02049920372902956,   0.012027361345478446,   0.005642130286329598,  0.0019452230433130932,   0.018233290499911306,  0.0025196027605472503,    0.01203440574188218,   0.001908163506653041,  6.993104012531504e-18,  0.0055927270420495865,   0.012058662314080157,   0.005487288145299021,     0.0209100589715383,   0.015209550495650075,  0.0019883587322913013,    0.01203035845629624,  0.0026666443706378625,  0.0020604108380616677,    0.00879548493831165,   0.012033823509227083,   0.015144512164701706,    0.01519776091642878,   0.018221691256326483,   0.012039587124357671,    0.01787163322482157,   0.012031608764445492,    0.01523141911113486,   0.018008783316025213]\n",
      "[  0.022851865402561334,   0.015173405274296382,   0.023155983077754686,   0.002715592636012386,  0.0017135612205964868,   0.022956741948584155,   0.015203997794782171,   0.008803175325847555,   0.018208860688017824,   0.020640346319737584,   0.022534876402124312,  0.0026301210489598015,   0.001927074074198255,  0.0026778632984016454,   0.015214209883663359,   0.020960996260718547,  8.944667923005412e-18,   0.015189683616492939,  2.168404344971009e-19,  0.0055409746174958086,   0.002629515832782234,   0.022881994437749024,    0.02340534325628625,                    0.0,  0.0026648735318006342,   0.008777022643818466,   0.023152629170652726,   0.020850858308771925,  0.0021588383111494813,    0.02041394330024286,   0.008773851653029765,   0.002648559302689525, 1.2332799712022613e-17,   0.005671931211871913,   0.008775018960470468,    0.00880856148869885,   0.008798120168773918, 1.3145951341386741e-17,    0.02041095513470951,   0.005641514092142516,   3.74049749507499e-18,    0.01792144902444591,   0.005594058779874826,                    0.0,   0.008815680224954972,    0.02096507617079065,   0.018035451703472427,   0.002252803296589982,   0.018176133786124798,    0.00545139801344267,   0.023328592689672883,   0.011927069845943205,    0.02049920372902956,   0.012027361345478443,   0.005642130286329594,  0.0019452230433130966,   0.018233290499911303,   0.002519602760547247,   0.012034405741882177,  0.0019081635066530444,  4.797594613248357e-18,   0.005592727042049583,   0.012058662314080154,  0.0054872881452990175,     0.0209100589715383,   0.015209550495650072,   0.001988358732291305,   0.012030358456296237,   0.002666644370637859,   0.002060410838061671,   0.008795484938311646,    0.01203382350922708,   0.015144512164701703,   0.015197760916428776,   0.018221691256326483,   0.012039587124357667,    0.01787163322482157,   0.012031608764445489,   0.015231419111134854,   0.018008783316025206]\n",
      "[  0.022851865402561334,    0.01517340527429638,    0.02315598307775468,  0.0027155926360123836,  0.0017135612205965054,   0.022956741948584155,   0.015203997794782168,   0.008803175325847552,   0.018208860688017817,    0.02064034631973758,   0.022534876402124312,   0.002630121048959798,  0.0019270740741982723,  0.0026778632984016427,   0.015214209883663355,    0.02096099626071854,  4.255493527005605e-18,   0.015189683616492936,                    0.0,   0.005540974617495807,  0.0026295158327822306,   0.022881994437749024,   0.023405343256286244, 1.0570971181733668e-18,  0.0026648735318006308,   0.008777022643818463,   0.023152629170652722,   0.020850858308771918,  0.0021588383111494987,    0.02041394330024286,   0.008773851653029761,  0.0026485593026895214,  7.806255641895632e-18,  0.0056719312118719105,   0.008775018960470466,   0.008808561488698846,   0.008798120168773915,   8.61940727125976e-18,    0.02041095513470951,   0.005641514092142513,                    0.0,   0.017921449024445903,   0.005594058779874823, 1.6263032587282567e-19,   0.008815680224954969,   0.020965076170790655,   0.018035451703472413,  0.0022528032965899994,   0.018176133786124794,  0.0054513980134426685,    0.02332859268967288,   0.011927069845943201,   0.020499203729029553,   0.012027361345478438,   0.005642130286329591,  0.0019452230433131142,     0.0182332904999113,  0.0025196027605472434,   0.012034405741882174,  0.0019081635066530622,  7.589415207398531e-19,   0.005592727042049581,    0.01205866231408015,   0.005487288145299016,   0.020910058971538293,   0.015209550495650068,   0.001988358732291322,   0.012030358456296233,  0.0026666443706378556,  0.0020604108380616886,   0.008795484938311643,   0.012033823509227074,     0.0151445121647017,   0.015197760916428773,   0.018221691256326476,   0.012039587124357664,   0.017871633224821562,   0.012031608764445485,    0.01523141911113485,   0.018008783316025206]\n",
      "[  0.022851865402561334,   0.015173405274296378,    0.02315598307775468,  0.0027155926360123814,  0.0017135612205964924,   0.022956741948584148,   0.015203997794782166,    0.00880317532584755,   0.018208860688017817,    0.02064034631973758,   0.022534876402124305,  0.0026301210489597967,  0.0019270740741982606,  0.0026778632984016406,   0.015214209883663355,    0.02096099626071854,  5.204170427930421e-18,   0.015189683616492934,                    0.0,   0.005540974617495803,  0.0026295158327822293,   0.022881994437749017,   0.023405343256286244,  4.336808689942018e-19,  0.0026648735318006295,   0.008777022643818461,   0.023152629170652722,   0.020850858308771918,   0.002158838311149487,    0.02041394330024286,    0.00877385165302976,    0.00264855930268952,   7.94178091345632e-18,   0.005671931211871909,   0.008775018960470463,   0.008808561488698845,   0.008798120168773915,  8.646512325571898e-18,    0.02041095513470951,   0.005641514092142511, 1.2197274440461925e-18,   0.017921449024445903,   0.005594058779874822,                    0.0,   0.008815680224954967,   0.020965076170790648,   0.018035451703472413,  0.0022528032965899876,   0.018176133786124794,   0.005451398013442665,    0.02332859268967288,     0.0119270698459432,   0.020499203729029553,   0.012027361345478438,   0.005642130286329589,  0.0019452230433131023,   0.018233290499911296,   0.002519602760547242,   0.012034405741882172,    0.00190816350665305,  1.951563910473908e-18,   0.005592727042049578,   0.012058662314080149,   0.005487288145299012,   0.020910058971538293,   0.015209550495650065,  0.0019883587322913105,   0.012030358456296228,  0.0026666443706378543,   0.002060410838061677,   0.008795484938311641,   0.012033823509227073,   0.015144512164701699,    0.01519776091642877,   0.018221691256326476,    0.01203958712435766,   0.017871633224821562,   0.012031608764445484,   0.015231419111134847,     0.0180087833160252]\n",
      "[  0.022851865402561324,   0.015173405274296371,   0.023155983077754672,   0.002715592636012376,  0.0017135612205965462,   0.022956741948584138,   0.015203997794782159,   0.008803175325847545,    0.01820886068801781,    0.02064034631973757,     0.0225348764021243,   0.002630121048959791,   0.001927074074198313,  0.0026778632984016354,   0.015214209883663348,   0.020960996260718533,                    0.0,   0.015189683616492929, 1.0787811616230769e-17,   0.005540974617495796,   0.002629515832782223,   0.022881994437749006,   0.023405343256286234, 1.4907779871675686e-17,  0.0026648735318006234,   0.008777022643818456,    0.02315262917065271,    0.02085085830877191,    0.00215883831114954,    0.02041394330024285,   0.008773851653029754,  0.0026485593026895145, 1.0299920638612292e-18,   0.005671931211871902,   0.008775018960470459,    0.00880856148869884,   0.008798120168773908, 1.6805133673525319e-18,     0.0204109551347095,   0.005641514092142504,  6.776263578034403e-19,     0.0179214490244459,   0.005594058779874815, 1.1953328951652686e-17,   0.008815680224954962,   0.020965076170790638,    0.01803545170347241,  0.0022528032965900406,   0.018176133786124784,    0.00545139801344266,    0.02332859268967287,   0.011927069845943194,    0.02049920372902955,   0.012027361345478433,   0.005642130286329584,   0.001945223043313155,    0.01823329049991129,   0.002519602760547236,   0.012034405741882168,   0.001908163506653103,                    0.0,   0.005592727042049571,   0.012058662314080143,   0.005487288145299005,   0.020910058971538286,   0.015209550495650061,  0.0019883587322913634,   0.012030358456296224,   0.002666644370637849,  0.0020604108380617298,   0.008795484938311636,   0.012033823509227068,   0.015144512164701692,   0.015197760916428766,    0.01822169125632647,   0.012039587124357657,    0.01787163322482155,   0.012031608764445478,   0.015231419111134846,   0.018008783316025196]\n",
      "[  0.022851865402561334,   0.015173405274296375,   0.023155983077754676,  0.0027155926360123797,  0.0017135612205965288,   0.022956741948584148,   0.015203997794782164,   0.008803175325847548,   0.018208860688017813,   0.020640346319737577,   0.022534876402124305,   0.002630121048959795,   0.001927074074198297,   0.002677863298401639,   0.015214209883663354,   0.020960996260718536,  1.734723475976807e-18,   0.015189683616492932, 5.5294310796760726e-18,   0.005540974617495802,   0.002629515832782227,   0.022881994437749017,    0.02340534325628624,  8.348356728138384e-18,  0.0026648735318006277,    0.00877702264381846,    0.02315262917065272,   0.020850858308771918,  0.0021588383111495234,   0.020413943300242852,   0.008773851653029758,  0.0026485593026895184,  4.174178364069192e-18,   0.005671931211871907,    0.00877501896047046,   0.008808561488698843,   0.008798120168773911,  4.933119884809045e-18,    0.02041095513470951,   0.005641514092142509,                    0.0,   0.017921449024445903,    0.00559405877987482,  6.288372600415926e-18,   0.008815680224954964,   0.020965076170790648,   0.018035451703472413,  0.0022528032965900236,    0.01817613378612479,   0.005451398013442665,   0.023328592689672877,   0.011927069845943198,   0.020499203729029553,   0.012027361345478436,   0.005642130286329587,   0.001945223043313139,   0.018233290499911296,  0.0025196027605472395,    0.01203440574188217,   0.001908163506653086,                    0.0,   0.005592727042049576,   0.012058662314080147,  0.0054872881452990106,    0.02091005897153829,   0.015209550495650065,   0.001988358732291347,    0.01203035845629623,  0.0026666443706378526,  0.0020604108380617133,    0.00879548493831164,   0.012033823509227071,   0.015144512164701696,   0.015197760916428769,   0.018221691256326472,   0.012039587124357659,   0.017871633224821562,   0.012031608764445484,   0.015231419111134849,     0.0180087833160252]\n",
      "[  0.022851865402561303,    0.01517340527429636,    0.02315598307775465,  0.0027155926360123684,   0.001713561220596547,   0.022956741948584124,   0.015203997794782148,   0.008803175325847533,    0.01820886068801779,   0.020640346319737553,    0.02253487640212428,  0.0026301210489597824,  0.0019270740741983157,  0.0026778632984016263,   0.015214209883663338,   0.020960996260718512, 4.2825985813177425e-18,   0.015189683616492916, 2.6075062248276382e-17,   0.005540974617495788,   0.002629515832782215,   0.022881994437748993,   0.023405343256286217, 3.1008182133085427e-17,   0.002664873531800615,   0.008777022643818444,   0.023152629170652694,    0.02085085830877189,   0.002158838311149542,   0.020413943300242827,   0.008773851653029742,   0.002648559302689506,                    0.0,   0.005671931211871893,   0.008775018960470447,   0.008808561488698827,   0.008798120168773897,                    0.0,   0.020410955134709478,   0.005641514092142495, 1.0489656018797255e-17,    0.01792144902444587,   0.005594058779874806, 2.7592945289756088e-17,    0.00881568022495495,    0.02096507617079062,    0.01803545170347239,  0.0022528032965900427,   0.018176133786124763,   0.005451398013442649,   0.023328592689672852,   0.011927069845943182,    0.02049920372902953,    0.01202736134547842,   0.005642130286329573,  0.0019452230433131576,   0.018233290499911268,  0.0025196027605472278,   0.012034405741882154,  0.0019081635066531052,   8.51098705401121e-18,   0.005592727042049562,   0.012058662314080131,   0.005487288145298995,   0.020910058971538265,   0.015209550495650048,   0.001988358732291366,   0.012030358456296212,    0.00266664437063784,  0.0020604108380617324,   0.008795484938311626,   0.012033823509227054,   0.015144512164701682,   0.015197760916428753,   0.018221691256326448,   0.012039587124357645,   0.017871633224821538,   0.012031608764445468,   0.015231419111134832,   0.018008783316025175]\n",
      "[  0.022851865402561317,   0.015173405274296368,    0.02315598307775467,  0.0027155926360123736,   0.001713561220596547,   0.022956741948584138,   0.015203997794782157,   0.008803175325847542,   0.018208860688017803,   0.020640346319737563,   0.022534876402124294,   0.002630121048959789,   0.001927074074198314,  0.0026778632984016328,   0.015214209883663347,   0.020960996260718526,                    0.0,   0.015189683616492925, 1.3173056395698879e-17,   0.005540974617495793,   0.002629515832782221,      0.022881994437749,   0.023405343256286227, 1.7536970139953034e-17,  0.0026648735318006217,   0.008777022643818452,   0.023152629170652705,   0.020850858308771904,  0.0021588383111495408,    0.02041394330024284,   0.008773851653029751,  0.0026485593026895123,                    0.0,     0.0056719312118719,   0.008775018960470454,   0.008808561488698836,   0.008798120168773906,   4.87890977618477e-19,    0.02041095513470949,  0.0056415140921425005, 1.7618285302889447e-18,   0.017921449024445892,   0.005594058779874811, 1.4446993948369347e-17,   0.008815680224954957,   0.020965076170790634,   0.018035451703472403,   0.002252803296590042,    0.01817613378612478,   0.005451398013442656,   0.023328592689672863,    0.01192706984594319,   0.020499203729029542,    0.01202736134547843,    0.00564213028632958,  0.0019452230433131567,   0.018233290499911285,  0.0025196027605472334,   0.012034405741882163,  0.0019081635066531034,  8.402566836762659e-19,   0.005592727042049569,    0.01205866231408014,   0.005487288145299002,    0.02091005897153828,   0.015209550495650056,  0.0019883587322913642,    0.01203035845629622,  0.0026666443706378465,  0.0020604108380617315,   0.008795484938311633,   0.012033823509227064,    0.01514451216470169,   0.015197760916428762,    0.01822169125632646,   0.012039587124357652,   0.017871633224821545,   0.012031608764445477,    0.01523141911113484,    0.01800878331602519]\n",
      "[  0.025301446357937223,   0.017622940862521513,   0.025605564540827897,   0.005163769772199076,  3.876022766635678e-18,    0.02540632307587171,   0.017653533884596968,   0.011252571441915138,    0.02065842038878096,   0.023089918740899613,    0.02498445684128613,   0.005078168985291376, 1.5449880957918438e-18,   0.005125962664640735,   0.017663746210622545,   0.023410569737004536,  0.0024049779947627756,   0.017639219443082128,   0.002331499379946349,   0.007990104089163744,   0.005077563244577266,   0.025331575442363353,    0.02585492526242643,   0.002314922384573966,   0.005112956257604139,   0.011226417491157952,   0.025602210627866866,   0.023300431279998784,                    0.0,   0.022863515201325308,   0.011223246363013844,   0.005096624368567105,   0.002423779111266483,   0.008121078482170738,   0.011224413720686263,     0.0112579579058615,   0.011247516016821054,   0.002426061589579201,   0.022860527029041927,   0.008090655695734717,    0.00237961412469324,   0.020371007213641233,   0.008043193980928717,  0.0023262132528685422,   0.011265077068911531,   0.023414649681029475,    0.02048501032539856,                    0.0,   0.020625693150418626,    0.00790051909826248,    0.02577817448497416,   0.014376559314529632,   0.022948775823489136,   0.014476852640252977,   0.008091271987783895, 1.3823577699190182e-18,    0.02068285065342453,   0.004967573481009136,   0.014483897229168919,   1.81603863891322e-18,   0.002386408663016293,   0.008041862086287058,   0.014508154645558432,    0.00793641247810877,     0.0233596321570808,    0.01765908670789849, 1.1655173354219173e-18,   0.014479849830890418,   0.005114729206263068,  7.318364664277155e-19,   0.011244880651631362,   0.014483314979932136,   0.017594047420041007,   0.017647296883582436,   0.020671251157389915,   0.014489078765234111,    0.02032119123650005,   0.014481100173226081,   0.017680956008570448,   0.020458341831622658]\n",
      "[  0.025301446357937216,    0.01762294086252151,   0.025605564540827897,   0.005163769772199076,  5.177065373618284e-18,   0.025406323075871703,   0.017653533884596968,   0.011252571441915136,   0.020658420388780956,   0.023089918740899606,   0.024984456841286137,  0.0050781689852913755, 3.2255014631443757e-18,   0.005125962664640735,    0.01766374621062254,    0.02341056973700453,  0.0024049779947627747,   0.017639219443082124,   0.002331499379946349,    0.00799010408916374,   0.005077563244577265,   0.025331575442363346,    0.02585492526242642,  0.0023149223845739656,   0.005112956257604137,   0.011226417491157948,    0.02560221062786686,   0.023300431279998784, 1.3823577699190182e-18,     0.0228635152013253,   0.011223246363013842,   0.005096624368567105,   0.002423779111266482,   0.008121078482170736,   0.011224413720686261,   0.011257957905861498,   0.011247516016821052,  0.0024260615895792003,    0.02286052702904192,   0.008090655695734715,   0.002379614124693239,   0.020371007213641226,   0.008043193980928716,  0.0023262132528685422,   0.011265077068911528,   0.023414649681029468,   0.020485010325398553,                    0.0,   0.020625693150418623,   0.007900519098262478,   0.025778174484974156,    0.01437655931452963,    0.02294877582348913,   0.014476852640252974,   0.008091271987783893,   3.06287113727155e-18,    0.02068285065342453,   0.004967573481009136,   0.014483897229168917, 3.4423418976414766e-18,   0.002386408663016293,   0.008041862086287056,    0.01450815464555843,   0.007936412478108768,   0.023359632157080798,   0.017659086707898487, 2.9002408113987244e-18,   0.014479849830890415,   0.005114729206263068,  2.520770051028798e-18,   0.011244880651631359,   0.014483314979932134,   0.017594047420041004,   0.017647296883582433,    0.02067125115738991,    0.01448907876523411,   0.020321191236500044,    0.01448110017322608,   0.017680956008570444,    0.02045834183162265]\n",
      "[  0.025301446357937216,    0.01762294086252151,    0.02560556454082789,   0.005163769772199074,  1.951563910473908e-18,   0.025406323075871703,   0.017653533884596964,   0.011252571441915136,   0.020658420388780952,   0.023089918740899606,   0.024984456841286137,   0.005078168985291373, 1.6263032587282567e-19,  0.0051259626646407335,    0.01766374621062254,   0.023410569737004533,  0.0024049779947627734,   0.017639219443082124,  0.0023314993799463473,   0.007990104089163739,   0.005077563244577262,   0.025331575442363346,    0.02585492526242642,   0.002314922384573964,   0.005112956257604135,   0.011226417491157948,   0.025602210627866853,   0.023300431279998784, 1.8973538018496328e-19,   0.022863515201325308,   0.011223246363013842,   0.005096624368567102,   0.002423779111266481,   0.008121078482170734,    0.01122441372068626,   0.011257957905861496,    0.01124751601682105,   0.002426061589579199,   0.022860527029041927,   0.008090655695734713,   0.002379614124693238,   0.020371007213641226,   0.008043193980928716,    0.00232621325286854,   0.011265077068911528,   0.023414649681029465,   0.020485010325398553, 1.9786689647860456e-18,   0.020625693150418623,   0.007900519098262476,   0.025778174484974152,   0.014376559314529629,    0.02294877582348913,   0.014476852640252974,   0.008091271987783893,                    0.0,   0.020682850653424525,   0.004967573481009134,   0.014483897229168916, 3.2526065174565133e-19,  0.0023864086630162908,   0.008041862086287054,   0.014508154645558428,   0.007936412478108766,   0.023359632157080798,   0.017659086707898484,                    0.0,   0.014479849830890413,   0.005114729206263065,                    0.0,   0.011244880651631359,   0.014483314979932133,   0.017594047420041004,    0.01764729688358243,   0.020671251157389908,   0.014489078765234108,   0.020321191236500044,   0.014481100173226078,    0.01768095600857044,    0.02045834183162265]\n",
      "[  0.025301446357937216,    0.01762294086252151,   0.025605564540827897,   0.005163769772199073,  1.951563910473908e-18,   0.025406323075871703,   0.017653533884596968,   0.011252571441915134,   0.020658420388780956,   0.023089918740899606,    0.02498445684128613,   0.005078168985291373,  2.168404344971009e-19,   0.005125962664640733,    0.01766374621062254,   0.023410569737004533,  0.0024049779947627726,   0.017639219443082124,  0.0023314993799463464,   0.007990104089163739,   0.005077563244577262,   0.025331575442363346,    0.02585492526242642,   0.002314922384573963,   0.005112956257604134,   0.011226417491157948,    0.02560221062786686,   0.023300431279998784,                    0.0,     0.0228635152013253,    0.01122324636301384,  0.0050966243685671014,    0.00242377911126648,   0.008121078482170734,    0.01122441372068626,   0.011257957905861496,    0.01124751601682105,   0.002426061589579198,   0.022860527029041927,   0.008090655695734713,   0.002379614124693237,   0.020371007213641226,   0.008043193980928714,  0.0023262132528685396,   0.011265077068911528,   0.023414649681029468,   0.020485010325398553,  1.111307226797642e-18,   0.020625693150418623,   0.007900519098262476,   0.025778174484974156,   0.014376559314529629,    0.02294877582348913,   0.014476852640252974,   0.008091271987783892,  5.421010862427522e-20,    0.02068285065342453,   0.004967573481009133,   0.014483897229168916, 3.7947076036992655e-19,  0.0023864086630162908,   0.008041862086287054,   0.014508154645558428,   0.007936412478108766,   0.023359632157080798,   0.017659086707898487,  5.421010862427522e-20,   0.014479849830890413,   0.005114729206263066,                    0.0,   0.011244880651631359,   0.014483314979932133,   0.017594047420041004,   0.017647296883582433,    0.02067125115738991,   0.014489078765234108,   0.020321191236500044,    0.01448110017322608,   0.017680956008570444,    0.02045834183162265]\n",
      "[  0.025301446357937206,   0.017622940862521495,   0.025605564540827883,   0.005163769772199066,                    0.0,   0.025406323075871692,   0.017653533884596954,   0.011252571441915124,   0.020658420388780945,   0.023089918740899593,    0.02498445684128612,   0.005078168985291365,  5.421010862427522e-20,   0.005125962664640726,   0.017663746210622527,   0.023410569737004523,   0.002404977994762766,    0.01763921944308211,  0.0023314993799463403,   0.007990104089163728,  0.0050775632445772545,   0.025331575442363335,    0.02585492526242641,  0.0023149223845739574,   0.005112956257604127,   0.011226417491157936,   0.025602210627866846,    0.02330043127999877, 3.5236570605778894e-18,   0.022863515201325298,    0.01122324636301383,  0.0050966243685670945,  0.0024237791112664744,   0.008121078482170724,    0.01122441372068625,   0.011257957905861486,   0.011247516016821038,  0.0024260615895791916,    0.02286052702904191,   0.008090655695734706,  0.0023796141246932305,   0.020371007213641216,   0.008043193980928702,  0.0023262132528685336,   0.011265077068911515,   0.023414649681029454,   0.020485010325398543,  6.965998958219366e-18,   0.020625693150418612,   0.007900519098262468,    0.02577817448497414,   0.014376559314529618,    0.02294877582348912,   0.014476852640252964,   0.008091271987783881, 1.0842021724855044e-19,   0.020682850653424515,   0.004967573481009124,   0.014483897229168905,                    0.0,  0.0023864086630162843,   0.008041862086287046,   0.014508154645558418,   0.007936412478108756,   0.023359632157080788,   0.017659086707898477,  6.505213034913027e-19,   0.014479849830890406,   0.005114729206263059, 1.6805133673525319e-18,   0.011244880651631348,   0.014483314979932124,    0.01759404742004099,   0.017647296883582422,   0.020671251157389905,   0.014489078765234097,   0.020321191236500034,   0.014481100173226069,   0.017680956008570434,    0.02045834183162264]\n",
      "[  0.025301446357937213,   0.017622940862521502,   0.025605564540827883,   0.005163769772199072, 1.0299920638612292e-18,     0.0254063230758717,   0.017653533884596957,   0.011252571441915132,    0.02065842038878095,   0.023089918740899603,    0.02498445684128612,   0.005078168985291372,                    0.0,   0.005125962664640732,   0.017663746210622534,   0.023410569737004526,  0.0024049779947627717,   0.017639219443082117,   0.002331499379946346,   0.007990104089163737,    0.00507756324457726,   0.025331575442363342,   0.025854925262426418,  0.0023149223845739626,  0.0051129562576041334,   0.011226417491157945,   0.025602210627866856,   0.023300431279998774,  2.710505431213761e-18,   0.022863515201325305,   0.011223246363013839,     0.0050966243685671,  0.0024237791112664796,   0.008121078482170732,   0.011224413720686258,   0.011257957905861494,   0.011247516016821049,  0.0024260615895791986,   0.022860527029041917,   0.008090655695734712,   0.002379614124693236,   0.020371007213641223,   0.008043193980928714,  0.0023262132528685388,   0.011265077068911524,   0.023414649681029465,    0.02048501032539855,  7.453889935837843e-18,   0.020625693150418616,   0.007900519098262474,   0.025778174484974152,   0.014376559314529627,   0.022948775823489125,   0.014476852640252972,    0.00809127198778389,                    0.0,    0.02068285065342452,   0.004967573481009132,   0.014483897229168914,  5.421010862427522e-20,    0.00238640866301629,   0.008041862086287052,   0.014508154645558427,   0.007936412478108765,    0.02335963215708079,    0.01765908670789848,  2.710505431213761e-19,   0.014479849830890413,   0.005114729206263065,   9.75781955236954e-19,   0.011244880651631355,    0.01448331497993213,   0.017594047420040997,   0.017647296883582426,   0.020671251157389905,   0.014489078765234106,    0.02032119123650004,   0.014481100173226076,   0.017680956008570437,   0.020458341831622647]\n",
      "[    0.0253014463579372,   0.017622940862521495,   0.025605564540827883,   0.005163769772199066, 1.3552527156068805e-19,   0.025406323075871692,   0.017653533884596954,   0.011252571441915125,   0.020658420388780945,   0.023089918740899593,    0.02498445684128612,   0.005078168985291366,                    0.0,   0.005125962664640726,   0.017663746210622527,   0.023410569737004523,   0.002404977994762768,    0.01763921944308211,  0.0023314993799463416,    0.00799010408916373,   0.005077563244577255,   0.025331575442363335,    0.02585492526242641,  0.0023149223845739587,   0.005112956257604127,    0.01122641749115794,    0.02560221062786685,    0.02330043127999877,  4.038653092508504e-18,   0.022863515201325298,   0.011223246363013832,  0.0050966243685670945,  0.0024237791112664752,   0.008121078482170724,   0.011224413720686251,   0.011257957905861487,    0.01124751601682104,  0.0024260615895791934,    0.02286052702904191,   0.008090655695734708,  0.0023796141246932323,   0.020371007213641216,   0.008043193980928703,   0.002326213252868535,   0.011265077068911519,   0.023414649681029454,   0.020485010325398543,  8.836247705756861e-18,    0.02062569315041861,   0.007900519098262468,   0.025778174484974145,    0.01437655931452962,    0.02294877582348912,   0.014476852640252965,   0.008091271987783883, 1.0842021724855044e-19,   0.020682850653424515,   0.004967573481009126,   0.014483897229168907,                    0.0,   0.002386408663016285,   0.008041862086287047,    0.01450815464555842,   0.007936412478108758,   0.023359632157080788,   0.017659086707898477,  6.505213034913027e-19,   0.014479849830890408,   0.005114729206263059,  1.734723475976807e-18,   0.011244880651631348,   0.014483314979932126,    0.01759404742004099,   0.017647296883582422,     0.0206712511573899,   0.014489078765234099,   0.020321191236500034,    0.01448110017322607,    0.01768095600857043,    0.02045834183162264]\n",
      "[  0.025301446357937216,    0.01762294086252151,    0.02560556454082789,   0.005163769772199074,  1.951563910473908e-18,   0.025406323075871703,   0.017653533884596964,   0.011252571441915136,   0.020658420388780952,   0.023089918740899606,   0.024984456841286137,   0.005078168985291373, 1.6263032587282567e-19,  0.0051259626646407335,    0.01766374621062254,   0.023410569737004533,  0.0024049779947627734,   0.017639219443082124,  0.0023314993799463473,   0.007990104089163739,   0.005077563244577262,   0.025331575442363346,    0.02585492526242642,   0.002314922384573964,   0.005112956257604135,   0.011226417491157948,   0.025602210627866853,   0.023300431279998784, 1.8973538018496328e-19,   0.022863515201325308,   0.011223246363013842,   0.005096624368567102,   0.002423779111266481,   0.008121078482170734,    0.01122441372068626,   0.011257957905861496,    0.01124751601682105,   0.002426061589579199,   0.022860527029041927,   0.008090655695734713,   0.002379614124693238,   0.020371007213641226,   0.008043193980928716,    0.00232621325286854,   0.011265077068911528,   0.023414649681029465,   0.020485010325398553, 1.9786689647860456e-18,   0.020625693150418623,   0.007900519098262476,   0.025778174484974152,   0.014376559314529629,    0.02294877582348913,   0.014476852640252974,   0.008091271987783893,                    0.0,   0.020682850653424525,   0.004967573481009134,   0.014483897229168916, 3.2526065174565133e-19,  0.0023864086630162908,   0.008041862086287054,   0.014508154645558428,   0.007936412478108766,   0.023359632157080798,   0.017659086707898484,                    0.0,   0.014479849830890413,   0.005114729206263065,                    0.0,   0.011244880651631359,   0.014483314979932133,   0.017594047420041004,    0.01764729688358243,   0.020671251157389908,   0.014489078765234108,   0.020321191236500044,   0.014481100173226078,    0.01768095600857044,    0.02045834183162265]\n",
      "(1, 11) -> 0.0\n",
      "(2, 51) -> 0.0\n",
      "(3, 3) -> 0.0\n",
      "(4, 6) -> 0.0\n",
      "(5, 22) -> 0.0\n",
      "(6, 27) -> 0.0\n",
      "(7, 23) -> 0.0\n",
      "(8, 1) -> 0.0\n",
      "(9, 10) -> 0.0\n",
      "(10, 39) -> 0.0\n",
      "(11, 30) -> 0.0\n",
      "(12, 65) -> 0.0\n",
      "(13, 53) -> 0.0\n",
      "(14, 28) -> 0.0\n",
      "(15, 46) -> 0.0\n",
      "(16, 16) -> 0.0\n",
      "(17, 77) -> 0.0\n",
      "(18, 47) -> 0.0\n",
      "(19, 80) -> 0.0\n",
      "(20, 42) -> 0.0\n",
      "(21, 49) -> 0.0\n",
      "(22, 9) -> 0.0\n",
      "(23, 57) -> 0.0\n",
      "(24, 75) -> 0.0\n",
      "(25, 73) -> 0.0\n",
      "(26, 2) -> 0.0\n",
      "(27, 18) -> 0.0\n",
      "(28, 74) -> 0.0\n",
      "(29, 7) -> 0.0\n",
      "(30, 15) -> 0.0\n",
      "(31, 66) -> 0.0\n",
      "(32, 79) -> 0.0\n",
      "(33, 54) -> 0.0\n",
      "(34, 52) -> 0.0\n",
      "(35, 68) -> 0.0\n",
      "(36, 78) -> 0.0\n",
      "(37, 59) -> 0.0\n",
      "(38, 72) -> 0.0\n",
      "(39, 76) -> 0.0\n",
      "(40, 63) -> 0.0\n",
      "(41, 31) -> 0.0\n",
      "(42, 26) -> 0.0\n",
      "(43, 35) -> 0.0\n",
      "(44, 71) -> 0.0\n",
      "(45, 37) -> 0.0\n",
      "(46, 36) -> 0.0\n",
      "(47, 8) -> 0.0\n",
      "(48, 45) -> 0.0\n",
      "(49, 64) -> 0.0\n",
      "(50, 20) -> 0.0\n",
      "(51, 50) -> 0.0\n",
      "(52, 62) -> 0.0\n",
      "(53, 43) -> 0.0\n",
      "(54, 40) -> 0.0\n",
      "(55, 55) -> 0.0\n",
      "(56, 34) -> 0.0\n",
      "(57, 58) -> 0.0\n",
      "(58, 21) -> 0.0\n",
      "(59, 32) -> 0.0\n",
      "(60, 12) -> 0.0\n",
      "(61, 69) -> 0.0\n",
      "(62, 25) -> 0.0\n",
      "(63, 14) -> 0.0\n",
      "(64, 4) -> 0.0\n",
      "(65, 24) -> 0.0\n",
      "(66, 44) -> 0.0\n",
      "(67, 41) -> 0.0\n",
      "(68, 19) -> 0.0\n",
      "(69, 17) -> 0.0\n",
      "(70, 61) -> 0.0\n",
      "(71, 38) -> 0.0\n",
      "(72, 33) -> 0.0\n",
      "(73, 29) -> 0.0\n",
      "(74, 48) -> 0.0\n",
      "(75, 67) -> 0.0\n",
      "(76, 70) -> 0.0\n",
      "(77, 5) -> 0.0\n",
      "(78, 13) -> 0.0\n",
      "(79, 60) -> 0.0\n",
      "(80, 56) -> 0.0\n",
      "total cost: 0.0\n"
     ]
    }
   ],
   "source": [
    "m = Munkres()\n",
    "indexes = m.compute(cost)\n",
    "print_matrix(cost, msg='Lowest cost through this matrix:')\n",
    "total = 0\n",
    "for row, column in indexes:\n",
    "    value = cost[row][column]\n",
    "    total += value\n",
    "    print(f'({row+1}, {column+1}) -> {value}')\n",
    "print(f'total cost: {total}')"
   ]
  }
 ],
 "metadata": {
  "kernelspec": {
   "display_name": "Python 3",
   "language": "python",
   "name": "python3"
  },
  "language_info": {
   "codemirror_mode": {
    "name": "ipython",
    "version": 3
   },
   "file_extension": ".py",
   "mimetype": "text/x-python",
   "name": "python",
   "nbconvert_exporter": "python",
   "pygments_lexer": "ipython3",
   "version": "3.7.6"
  }
 },
 "nbformat": 4,
 "nbformat_minor": 4
}
